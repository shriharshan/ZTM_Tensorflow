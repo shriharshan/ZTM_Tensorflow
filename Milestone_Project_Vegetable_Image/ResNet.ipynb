{
 "cells": [
  {
   "cell_type": "code",
   "execution_count": 1,
   "id": "cae732c1-2eeb-4dba-8e26-8783f2abb11f",
   "metadata": {},
   "outputs": [
    {
     "name": "stderr",
     "output_type": "stream",
     "text": [
      "C:\\Users\\shrih\\AppData\\Local\\Programs\\Python\\Python310\\lib\\site-packages\\numpy\\_distributor_init.py:30: UserWarning: loaded more than 1 DLL from .libs:\n",
      "C:\\Users\\shrih\\AppData\\Local\\Programs\\Python\\Python310\\lib\\site-packages\\numpy\\.libs\\libopenblas.FB5AE2TYXYH2IJRDKGDGQ3XBKLKTF43H.gfortran-win_amd64.dll\n",
      "C:\\Users\\shrih\\AppData\\Local\\Programs\\Python\\Python310\\lib\\site-packages\\numpy\\.libs\\libopenblas64__v0.3.21-gcc_10_3_0.dll\n",
      "  warnings.warn(\"loaded more than 1 DLL from .libs:\"\n"
     ]
    },
    {
     "name": "stdout",
     "output_type": "stream",
     "text": [
      "WARNING:tensorflow:From C:\\Users\\shrih\\AppData\\Local\\Programs\\Python\\Python310\\lib\\site-packages\\keras\\src\\losses.py:2976: The name tf.losses.sparse_softmax_cross_entropy is deprecated. Please use tf.compat.v1.losses.sparse_softmax_cross_entropy instead.\n",
      "\n"
     ]
    }
   ],
   "source": [
    "import pandas as pd\n",
    "import numpy as np\n",
    "import tensorflow as tf\n",
    "import matplotlib.pyplot as plt"
   ]
  },
  {
   "cell_type": "code",
   "execution_count": 2,
   "id": "1d7a9429-0ddb-44be-81e4-bea61705890d",
   "metadata": {},
   "outputs": [],
   "source": [
    "import os\n",
    "def walk_through_dir(dir_path):\n",
    "    for dirpath, dir_names, filenames in os.walk(dir_path):\n",
    "        print(f\"There are {len(dir_names)} directories and {len(filenames)} and images in  '{dirpath}'.\")"
   ]
  },
  {
   "cell_type": "code",
   "execution_count": 3,
   "id": "cb6fc02c-95ad-4ee0-a9f8-93a1acb7aee2",
   "metadata": {},
   "outputs": [
    {
     "name": "stdout",
     "output_type": "stream",
     "text": [
      "There are 3 directories and 0 and images in  'Vegetable Images'.\n",
      "There are 15 directories and 0 and images in  'Vegetable Images\\test'.\n",
      "There are 0 directories and 200 and images in  'Vegetable Images\\test\\Bean'.\n",
      "There are 0 directories and 200 and images in  'Vegetable Images\\test\\Bitter_Gourd'.\n",
      "There are 0 directories and 200 and images in  'Vegetable Images\\test\\Bottle_Gourd'.\n",
      "There are 0 directories and 200 and images in  'Vegetable Images\\test\\Brinjal'.\n",
      "There are 0 directories and 200 and images in  'Vegetable Images\\test\\Broccoli'.\n",
      "There are 0 directories and 200 and images in  'Vegetable Images\\test\\Cabbage'.\n",
      "There are 0 directories and 200 and images in  'Vegetable Images\\test\\Capsicum'.\n",
      "There are 0 directories and 200 and images in  'Vegetable Images\\test\\Carrot'.\n",
      "There are 0 directories and 200 and images in  'Vegetable Images\\test\\Cauliflower'.\n",
      "There are 0 directories and 200 and images in  'Vegetable Images\\test\\Cucumber'.\n",
      "There are 0 directories and 200 and images in  'Vegetable Images\\test\\Papaya'.\n",
      "There are 0 directories and 200 and images in  'Vegetable Images\\test\\Potato'.\n",
      "There are 0 directories and 200 and images in  'Vegetable Images\\test\\Pumpkin'.\n",
      "There are 0 directories and 200 and images in  'Vegetable Images\\test\\Radish'.\n",
      "There are 0 directories and 200 and images in  'Vegetable Images\\test\\Tomato'.\n",
      "There are 15 directories and 0 and images in  'Vegetable Images\\train'.\n",
      "There are 0 directories and 1000 and images in  'Vegetable Images\\train\\Bean'.\n",
      "There are 0 directories and 1000 and images in  'Vegetable Images\\train\\Bitter_Gourd'.\n",
      "There are 0 directories and 1000 and images in  'Vegetable Images\\train\\Bottle_Gourd'.\n",
      "There are 0 directories and 1000 and images in  'Vegetable Images\\train\\Brinjal'.\n",
      "There are 0 directories and 1000 and images in  'Vegetable Images\\train\\Broccoli'.\n",
      "There are 0 directories and 1000 and images in  'Vegetable Images\\train\\Cabbage'.\n",
      "There are 0 directories and 1000 and images in  'Vegetable Images\\train\\Capsicum'.\n",
      "There are 0 directories and 1000 and images in  'Vegetable Images\\train\\Carrot'.\n",
      "There are 0 directories and 1000 and images in  'Vegetable Images\\train\\Cauliflower'.\n",
      "There are 0 directories and 1000 and images in  'Vegetable Images\\train\\Cucumber'.\n",
      "There are 0 directories and 1000 and images in  'Vegetable Images\\train\\Papaya'.\n",
      "There are 0 directories and 1000 and images in  'Vegetable Images\\train\\Potato'.\n",
      "There are 0 directories and 1000 and images in  'Vegetable Images\\train\\Pumpkin'.\n",
      "There are 0 directories and 1000 and images in  'Vegetable Images\\train\\Radish'.\n",
      "There are 0 directories and 1000 and images in  'Vegetable Images\\train\\Tomato'.\n",
      "There are 15 directories and 0 and images in  'Vegetable Images\\validation'.\n",
      "There are 0 directories and 200 and images in  'Vegetable Images\\validation\\Bean'.\n",
      "There are 0 directories and 200 and images in  'Vegetable Images\\validation\\Bitter_Gourd'.\n",
      "There are 0 directories and 200 and images in  'Vegetable Images\\validation\\Bottle_Gourd'.\n",
      "There are 0 directories and 200 and images in  'Vegetable Images\\validation\\Brinjal'.\n",
      "There are 0 directories and 200 and images in  'Vegetable Images\\validation\\Broccoli'.\n",
      "There are 0 directories and 200 and images in  'Vegetable Images\\validation\\Cabbage'.\n",
      "There are 0 directories and 200 and images in  'Vegetable Images\\validation\\Capsicum'.\n",
      "There are 0 directories and 200 and images in  'Vegetable Images\\validation\\Carrot'.\n",
      "There are 0 directories and 200 and images in  'Vegetable Images\\validation\\Cauliflower'.\n",
      "There are 0 directories and 200 and images in  'Vegetable Images\\validation\\Cucumber'.\n",
      "There are 0 directories and 200 and images in  'Vegetable Images\\validation\\Papaya'.\n",
      "There are 0 directories and 200 and images in  'Vegetable Images\\validation\\Potato'.\n",
      "There are 0 directories and 200 and images in  'Vegetable Images\\validation\\Pumpkin'.\n",
      "There are 0 directories and 200 and images in  'Vegetable Images\\validation\\Radish'.\n",
      "There are 0 directories and 200 and images in  'Vegetable Images\\validation\\Tomato'.\n"
     ]
    }
   ],
   "source": [
    "walk_through_dir(\"Vegetable Images\")"
   ]
  },
  {
   "cell_type": "code",
   "execution_count": 4,
   "id": "76e0d88a-3981-45c6-a739-32a63b8244f8",
   "metadata": {},
   "outputs": [],
   "source": [
    "train_dir = \"Vegetable Images/train\"\n",
    "test_dir = \"Vegetable Images/test\"\n",
    "validate_dir = \"Vegetable Images/validation\""
   ]
  },
  {
   "cell_type": "code",
   "execution_count": 5,
   "id": "a93a7050-70ac-4c4c-b6d3-d0a187001f30",
   "metadata": {},
   "outputs": [
    {
     "name": "stdout",
     "output_type": "stream",
     "text": [
      "Found 15000 files belonging to 15 classes.\n",
      "Found 3000 files belonging to 15 classes.\n",
      "Found 3000 files belonging to 15 classes.\n"
     ]
    }
   ],
   "source": [
    "train_data = tf.keras.preprocessing.image_dataset_from_directory(directory=train_dir,\n",
    "                                                                label_mode='categorical',\n",
    "                                                                image_size=(224, 224),\n",
    "                                                                )\n",
    "test_data = tf.keras.preprocessing.image_dataset_from_directory(directory=test_dir,\n",
    "                                                               label_mode='categorical',\n",
    "                                                               image_size=(224, 224),\n",
    "                                                               shuffle=False)\n",
    "validate_data = tf.keras.preprocessing.image_dataset_from_directory(directory=validate_dir,\n",
    "                                                                   label_mode='categorical',\n",
    "                                                                   image_size=(224, 224))"
   ]
  },
  {
   "cell_type": "code",
   "execution_count": 6,
   "id": "18c09c9e-7a03-4b11-bff0-430553e26d5d",
   "metadata": {},
   "outputs": [
    {
     "data": {
      "text/plain": [
       "<_PrefetchDataset element_spec=(TensorSpec(shape=(None, 224, 224, 3), dtype=tf.float32, name=None), TensorSpec(shape=(None, 15), dtype=tf.float32, name=None))>"
      ]
     },
     "execution_count": 6,
     "metadata": {},
     "output_type": "execute_result"
    }
   ],
   "source": [
    "train_data"
   ]
  },
  {
   "cell_type": "code",
   "execution_count": 7,
   "id": "f2a4e9c9-b42c-4195-96c6-fc9e6f28d860",
   "metadata": {},
   "outputs": [
    {
     "data": {
      "text/plain": [
       "['Bean',\n",
       " 'Bitter_Gourd',\n",
       " 'Bottle_Gourd',\n",
       " 'Brinjal',\n",
       " 'Broccoli',\n",
       " 'Cabbage',\n",
       " 'Capsicum',\n",
       " 'Carrot',\n",
       " 'Cauliflower',\n",
       " 'Cucumber',\n",
       " 'Papaya',\n",
       " 'Potato',\n",
       " 'Pumpkin',\n",
       " 'Radish',\n",
       " 'Tomato']"
      ]
     },
     "execution_count": 7,
     "metadata": {},
     "output_type": "execute_result"
    }
   ],
   "source": [
    "train_data.class_names"
   ]
  },
  {
   "cell_type": "markdown",
   "id": "8b4da50f-e5c0-4995-a3f8-eb77993fad07",
   "metadata": {},
   "source": [
    "## Data Augmentation layer"
   ]
  },
  {
   "cell_type": "code",
   "execution_count": 8,
   "id": "808c7379-c4fa-4bd1-ad8a-e0e6c558b39e",
   "metadata": {},
   "outputs": [
    {
     "name": "stdout",
     "output_type": "stream",
     "text": [
      "WARNING:tensorflow:From C:\\Users\\shrih\\AppData\\Local\\Programs\\Python\\Python310\\lib\\site-packages\\keras\\src\\backend.py:873: The name tf.get_default_graph is deprecated. Please use tf.compat.v1.get_default_graph instead.\n",
      "\n"
     ]
    }
   ],
   "source": [
    "data_augmentation = tf.keras.Sequential([\n",
    "    tf.keras.layers.RandomFlip('horizontal'),\n",
    "    tf.keras.layers.RandomHeight(0.2),\n",
    "    tf.keras.layers.RandomRotation(0.2),\n",
    "    tf.keras.layers.RandomWidth(0.2),\n",
    "    tf.keras.layers.RandomZoom(0.2)\n",
    "], name = \"Data_Augmentation\")"
   ]
  },
  {
   "cell_type": "code",
   "execution_count": 9,
   "id": "e34eae33-e3fd-4f81-9005-4e44666174a8",
   "metadata": {},
   "outputs": [
    {
     "name": "stdout",
     "output_type": "stream",
     "text": [
      "WARNING:tensorflow:From C:\\Users\\shrih\\AppData\\Local\\Programs\\Python\\Python310\\lib\\site-packages\\keras\\src\\layers\\pooling\\max_pooling2d.py:161: The name tf.nn.max_pool is deprecated. Please use tf.nn.max_pool2d instead.\n",
      "\n"
     ]
    }
   ],
   "source": [
    "base_model = tf.keras.applications.ResNet50V2(include_top=False)\n",
    "base_model.trainable = False\n",
    "\n",
    "inputs = tf.keras.layers.Input(shape = (224, 224, 3), name = \"input_layer\")\n",
    "x = tf.keras.layers.experimental.preprocessing.Rescaling(1./255)(inputs)\n",
    "x = data_augmentation(x)\n",
    "x = base_model(x, training = False)\n",
    "x = tf.keras.layers.GlobalAveragePooling2D(name = \"Pooling_layer\")(x)\n",
    "outputs = tf.keras.layers.Dense(len(train_data.class_names), activation=\"softmax\", name = \"output_layer\")(x)\n",
    "model = tf.keras.Model(inputs, outputs)"
   ]
  },
  {
   "cell_type": "code",
   "execution_count": 10,
   "id": "004d5070-b4e9-45b8-9295-374af0ff0bdf",
   "metadata": {},
   "outputs": [
    {
     "name": "stdout",
     "output_type": "stream",
     "text": [
      "Model: \"model\"\n",
      "_________________________________________________________________\n",
      " Layer (type)                Output Shape              Param #   \n",
      "=================================================================\n",
      " input_layer (InputLayer)    [(None, 224, 224, 3)]     0         \n",
      "                                                                 \n",
      " rescaling (Rescaling)       (None, 224, 224, 3)       0         \n",
      "                                                                 \n",
      " Data_Augmentation (Sequent  (None, None, None, 3)     0         \n",
      " ial)                                                            \n",
      "                                                                 \n",
      " resnet50v2 (Functional)     (None, None, None, 2048   23564800  \n",
      "                             )                                   \n",
      "                                                                 \n",
      " Pooling_layer (GlobalAvera  (None, 2048)              0         \n",
      " gePooling2D)                                                    \n",
      "                                                                 \n",
      " output_layer (Dense)        (None, 15)                30735     \n",
      "                                                                 \n",
      "=================================================================\n",
      "Total params: 23595535 (90.01 MB)\n",
      "Trainable params: 30735 (120.06 KB)\n",
      "Non-trainable params: 23564800 (89.89 MB)\n",
      "_________________________________________________________________\n"
     ]
    }
   ],
   "source": [
    "model.summary()"
   ]
  },
  {
   "cell_type": "code",
   "execution_count": 11,
   "id": "9009e0ff-5078-445f-af64-4bacf7ba4132",
   "metadata": {},
   "outputs": [
    {
     "name": "stdout",
     "output_type": "stream",
     "text": [
      "Epoch 1/5\n",
      "WARNING:tensorflow:From C:\\Users\\shrih\\AppData\\Local\\Programs\\Python\\Python310\\lib\\site-packages\\keras\\src\\utils\\tf_utils.py:492: The name tf.ragged.RaggedTensorValue is deprecated. Please use tf.compat.v1.ragged.RaggedTensorValue instead.\n",
      "\n",
      "WARNING:tensorflow:From C:\\Users\\shrih\\AppData\\Local\\Programs\\Python\\Python310\\lib\\site-packages\\keras\\src\\engine\\base_layer_utils.py:384: The name tf.executing_eagerly_outside_functions is deprecated. Please use tf.compat.v1.executing_eagerly_outside_functions instead.\n",
      "\n",
      "469/469 [==============================] - 613s 1s/step - loss: 0.2504 - accuracy: 0.9377 - val_loss: 0.0426 - val_accuracy: 0.9900\n",
      "Epoch 2/5\n",
      "469/469 [==============================] - 638s 1s/step - loss: 0.0546 - accuracy: 0.9875 - val_loss: 0.0236 - val_accuracy: 0.9953\n",
      "Epoch 3/5\n",
      "469/469 [==============================] - 664s 1s/step - loss: 0.0361 - accuracy: 0.9905 - val_loss: 0.0203 - val_accuracy: 0.9947\n",
      "Epoch 4/5\n",
      "469/469 [==============================] - 682s 1s/step - loss: 0.0268 - accuracy: 0.9929 - val_loss: 0.0132 - val_accuracy: 0.9957\n",
      "Epoch 5/5\n",
      "469/469 [==============================] - 694s 1s/step - loss: 0.0200 - accuracy: 0.9948 - val_loss: 0.0103 - val_accuracy: 0.9963\n"
     ]
    }
   ],
   "source": [
    "model.compile(loss=\"categorical_crossentropy\",\n",
    "             optimizer=tf.keras.optimizers.Adam(),\n",
    "             metrics=['accuracy'])\n",
    "history_1 = model.fit(train_data,\n",
    "                     epochs=5,\n",
    "                     validation_data=validate_data)"
   ]
  },
  {
   "cell_type": "code",
   "execution_count": 12,
   "id": "97e0d7a5-4362-419e-8c76-501531f22ca2",
   "metadata": {},
   "outputs": [
    {
     "name": "stdout",
     "output_type": "stream",
     "text": [
      "Model: \"model\"\n",
      "_________________________________________________________________\n",
      " Layer (type)                Output Shape              Param #   \n",
      "=================================================================\n",
      " input_layer (InputLayer)    [(None, 224, 224, 3)]     0         \n",
      "                                                                 \n",
      " rescaling (Rescaling)       (None, 224, 224, 3)       0         \n",
      "                                                                 \n",
      " Data_Augmentation (Sequent  (None, None, None, 3)     0         \n",
      " ial)                                                            \n",
      "                                                                 \n",
      " resnet50v2 (Functional)     (None, None, None, 2048   23564800  \n",
      "                             )                                   \n",
      "                                                                 \n",
      " Pooling_layer (GlobalAvera  (None, 2048)              0         \n",
      " gePooling2D)                                                    \n",
      "                                                                 \n",
      " output_layer (Dense)        (None, 15)                30735     \n",
      "                                                                 \n",
      "=================================================================\n",
      "Total params: 23595535 (90.01 MB)\n",
      "Trainable params: 30735 (120.06 KB)\n",
      "Non-trainable params: 23564800 (89.89 MB)\n",
      "_________________________________________________________________\n"
     ]
    }
   ],
   "source": [
    "model.summary()"
   ]
  },
  {
   "cell_type": "code",
   "execution_count": 13,
   "id": "fc0ab307-28e0-4aa0-86a9-5e1790d15721",
   "metadata": {},
   "outputs": [
    {
     "name": "stdout",
     "output_type": "stream",
     "text": [
      "0 input_layer\n",
      "1 rescaling\n",
      "2 Data_Augmentation\n",
      "3 resnet50v2\n",
      "4 Pooling_layer\n",
      "5 output_layer\n"
     ]
    }
   ],
   "source": [
    "for layer_number, layer in enumerate(model.layers):\n",
    "    print(layer_number, layer.name)"
   ]
  },
  {
   "cell_type": "code",
   "execution_count": 14,
   "id": "537b1594-5877-4d7d-ae2f-715674604bd5",
   "metadata": {},
   "outputs": [
    {
     "name": "stdout",
     "output_type": "stream",
     "text": [
      "94/94 [==============================] - 102s 1s/step\n"
     ]
    },
    {
     "data": {
      "text/plain": [
       "array([[9.9684060e-01, 1.7407835e-10, 3.6661413e-06, ..., 9.6883923e-09,\n",
       "        3.3776923e-09, 1.2188503e-08],\n",
       "       [9.9996567e-01, 3.2765097e-08, 6.6762688e-08, ..., 1.2313268e-10,\n",
       "        9.0547485e-07, 1.0429133e-09],\n",
       "       [9.9999940e-01, 4.8824219e-11, 6.8818257e-11, ..., 9.3818393e-09,\n",
       "        5.6781025e-12, 3.0988703e-12],\n",
       "       ...,\n",
       "       [2.1882755e-10, 7.3441878e-12, 5.9403589e-09, ..., 2.9734045e-12,\n",
       "        2.2509657e-07, 9.9999964e-01],\n",
       "       [2.7972874e-06, 2.3426992e-08, 8.1576042e-07, ..., 5.3608172e-05,\n",
       "        2.8279785e-06, 9.9900383e-01],\n",
       "       [3.3539698e-06, 4.5067384e-08, 2.7031369e-06, ..., 7.1439348e-07,\n",
       "        7.7109782e-08, 8.7597233e-01]], dtype=float32)"
      ]
     },
     "execution_count": 14,
     "metadata": {},
     "output_type": "execute_result"
    }
   ],
   "source": [
    "predict_1 = model.predict(test_data)\n",
    "predict_1"
   ]
  },
  {
   "cell_type": "code",
   "execution_count": 15,
   "id": "23aca53a-a9c1-4491-b7df-3eec0abccee4",
   "metadata": {},
   "outputs": [
    {
     "data": {
      "text/plain": [
       "(3000, 15)"
      ]
     },
     "execution_count": 15,
     "metadata": {},
     "output_type": "execute_result"
    }
   ],
   "source": [
    "predict_1.shape"
   ]
  },
  {
   "cell_type": "code",
   "execution_count": 17,
   "id": "8e18bf8c-6b77-4f31-a18a-de6d5d6b00f5",
   "metadata": {},
   "outputs": [
    {
     "name": "stdout",
     "output_type": "stream",
     "text": [
      "Number of prediction probabilities for sample: 15\n",
      "What prediction probability sample 0 look like: \n",
      "[9.96840596e-01 1.74078349e-10 3.66614131e-06 6.90624915e-07\n",
      " 4.25420779e-07 1.91463165e-10 2.02025601e-11 1.76556374e-11\n",
      " 1.12173595e-08 3.15450504e-03 1.49680355e-11 2.12736924e-12\n",
      " 9.68839231e-09 3.37769235e-09 1.21885027e-08]\n",
      "The class with the highest probability by the model for sample 0: \n",
      "0\n",
      "The class name sample 0 belongs to: \n",
      "Bean\n"
     ]
    }
   ],
   "source": [
    "# What does the first probability looks like?\n",
    "print(f\"Number of prediction probabilities for sample: {len(predict_1[0])}\")\n",
    "print(f\"What prediction probability sample 0 look like: \\n{predict_1[0]}\")\n",
    "print(f\"The class with the highest probability by the model for sample 0: \\n{predict_1[0].argmax()}\")\n",
    "print(f\"The class name sample 0 belongs to: \\n{test_data.class_names[predict_1[0].argmax()]}\")"
   ]
  },
  {
   "cell_type": "markdown",
   "id": "e916cdfd-212b-48d2-b721-00889642575a",
   "metadata": {},
   "source": [
    "## Plot Accuracy & Val_Accuracy for further evalution"
   ]
  },
  {
   "cell_type": "code",
   "execution_count": 18,
   "id": "42cf2830-093e-4b78-bc69-affc91e344e1",
   "metadata": {},
   "outputs": [],
   "source": [
    "import matplotlib.pyplot as plt\n",
    "import seaborn as sns"
   ]
  },
  {
   "cell_type": "code",
   "execution_count": 20,
   "id": "fe3af82c-644c-41b6-8578-8939fa88e0d7",
   "metadata": {},
   "outputs": [
    {
     "name": "stderr",
     "output_type": "stream",
     "text": [
      "C:\\Users\\shrih\\AppData\\Roaming\\Python\\Python310\\site-packages\\seaborn\\_oldcore.py:1498: FutureWarning: is_categorical_dtype is deprecated and will be removed in a future version. Use isinstance(dtype, CategoricalDtype) instead\n",
      "  if pd.api.types.is_categorical_dtype(vector):\n",
      "C:\\Users\\shrih\\AppData\\Roaming\\Python\\Python310\\site-packages\\seaborn\\_oldcore.py:1498: FutureWarning: is_categorical_dtype is deprecated and will be removed in a future version. Use isinstance(dtype, CategoricalDtype) instead\n",
      "  if pd.api.types.is_categorical_dtype(vector):\n",
      "C:\\Users\\shrih\\AppData\\Roaming\\Python\\Python310\\site-packages\\seaborn\\_oldcore.py:1119: FutureWarning: use_inf_as_na option is deprecated and will be removed in a future version. Convert inf values to NaN before operating instead.\n",
      "  with pd.option_context('mode.use_inf_as_na', True):\n",
      "C:\\Users\\shrih\\AppData\\Roaming\\Python\\Python310\\site-packages\\seaborn\\_oldcore.py:1119: FutureWarning: use_inf_as_na option is deprecated and will be removed in a future version. Convert inf values to NaN before operating instead.\n",
      "  with pd.option_context('mode.use_inf_as_na', True):\n",
      "C:\\Users\\shrih\\AppData\\Roaming\\Python\\Python310\\site-packages\\seaborn\\_oldcore.py:1498: FutureWarning: is_categorical_dtype is deprecated and will be removed in a future version. Use isinstance(dtype, CategoricalDtype) instead\n",
      "  if pd.api.types.is_categorical_dtype(vector):\n",
      "C:\\Users\\shrih\\AppData\\Roaming\\Python\\Python310\\site-packages\\seaborn\\_oldcore.py:1498: FutureWarning: is_categorical_dtype is deprecated and will be removed in a future version. Use isinstance(dtype, CategoricalDtype) instead\n",
      "  if pd.api.types.is_categorical_dtype(vector):\n",
      "C:\\Users\\shrih\\AppData\\Roaming\\Python\\Python310\\site-packages\\seaborn\\_oldcore.py:1119: FutureWarning: use_inf_as_na option is deprecated and will be removed in a future version. Convert inf values to NaN before operating instead.\n",
      "  with pd.option_context('mode.use_inf_as_na', True):\n",
      "C:\\Users\\shrih\\AppData\\Roaming\\Python\\Python310\\site-packages\\seaborn\\_oldcore.py:1119: FutureWarning: use_inf_as_na option is deprecated and will be removed in a future version. Convert inf values to NaN before operating instead.\n",
      "  with pd.option_context('mode.use_inf_as_na', True):\n"
     ]
    },
    {
     "data": {
      "text/plain": [
       "Text(0, 0.5, 'Accuracy')"
      ]
     },
     "execution_count": 20,
     "metadata": {},
     "output_type": "execute_result"
    },
    {
     "data": {
      "image/png": "[encoded data removed]",
      "text/plain": [
       "<Figure size 640x480 with 1 Axes>"
      ]
     },
     "metadata": {},
     "output_type": "display_data"
    }
   ],
   "source": [
    "q = len(history_1.history['accuracy'])\n",
    "\n",
    "plt.figsize=(10,10)\n",
    "sns.lineplot(x = range(1, 1+q), y = history_1.history['accuracy'], label='Accuracy')\n",
    "sns.lineplot(x = range(1, 1+q), y = history_1.history['val_accuracy'], label='Val Accuracy')\n",
    "plt.xlabel('Epochs')\n",
    "plt.ylabel('Accuracy')"
   ]
  },
  {
   "cell_type": "code",
   "execution_count": 21,
   "id": "c45eb2f5-b0f7-483f-a382-761983a41cfd",
   "metadata": {},
   "outputs": [
    {
     "data": {
      "text/plain": [
       "[0, 0, 0, 0, 0, 0, 0, 0, 0, 0]"
      ]
     },
     "execution_count": 21,
     "metadata": {},
     "output_type": "execute_result"
    }
   ],
   "source": [
    "y_labels = []\n",
    "for images, labels in test_data.unbatch():\n",
    "    y_labels.append(labels.numpy().argmax()) # currently test labels look like [0, 0,0, 1, 0 , 0]we need to find the 1\n",
    "y_labels[:10]"
   ]
  },
  {
   "cell_type": "code",
   "execution_count": 22,
   "id": "9933f2e8-2df7-403a-afb6-c83e7ea456b9",
   "metadata": {},
   "outputs": [
    {
     "data": {
      "text/plain": [
       "array([0, 0, 0, 0, 0, 0, 0, 0, 0, 0], dtype=int64)"
      ]
     },
     "execution_count": 22,
     "metadata": {},
     "output_type": "execute_result"
    }
   ],
   "source": [
    "pred_classes = predict_1.argmax(axis=1)\n",
    "pred_classes[:10]"
   ]
  },
  {
   "cell_type": "code",
   "execution_count": 23,
   "id": "d704a3d9-035f-4183-99f2-99b996cd0645",
   "metadata": {},
   "outputs": [],
   "source": [
    "from sklearn.metrics import confusion_matrix, classification_report, accuracy_score"
   ]
  },
  {
   "cell_type": "code",
   "execution_count": 24,
   "id": "fa1b4c3f-c027-4647-838b-22de95491ff2",
   "metadata": {},
   "outputs": [
    {
     "name": "stdout",
     "output_type": "stream",
     "text": [
      "              precision    recall  f1-score   support\n",
      "\n",
      "           0       0.99      1.00      1.00       200\n",
      "           1       1.00      0.99      0.99       200\n",
      "           2       1.00      1.00      1.00       200\n",
      "           3       0.99      0.99      0.99       200\n",
      "           4       0.99      0.99      0.99       200\n",
      "           5       1.00      0.99      1.00       200\n",
      "           6       1.00      1.00      1.00       200\n",
      "           7       1.00      1.00      1.00       200\n",
      "           8       0.99      0.99      0.99       200\n",
      "           9       0.99      0.98      0.98       200\n",
      "          10       0.98      1.00      0.99       200\n",
      "          11       1.00      1.00      1.00       200\n",
      "          12       1.00      1.00      1.00       200\n",
      "          13       1.00      1.00      1.00       200\n",
      "          14       1.00      0.98      0.99       200\n",
      "\n",
      "    accuracy                           1.00      3000\n",
      "   macro avg       1.00      1.00      1.00      3000\n",
      "weighted avg       1.00      1.00      1.00      3000\n",
      "\n"
     ]
    }
   ],
   "source": [
    "print(classification_report(y_true = y_labels,\n",
    "                           y_pred = pred_classes))"
   ]
  },
  {
   "cell_type": "code",
   "execution_count": 25,
   "id": "606adba2-77d6-4a6f-b216-444298969f57",
   "metadata": {},
   "outputs": [
    {
     "data": {
      "text/plain": [
       "0.9953333333333333"
      ]
     },
     "execution_count": 25,
     "metadata": {},
     "output_type": "execute_result"
    }
   ],
   "source": [
    "accuracy = accuracy_score(y_labels, pred_classes)\n",
    "accuracy"
   ]
  },
  {
   "cell_type": "markdown",
   "id": "d39406ce-8fe2-471a-a9f8-cc32a4e12e7c",
   "metadata": {},
   "source": [
    "## Find out the most wrong prediction"
   ]
  },
  {
   "cell_type": "code",
   "execution_count": 27,
   "id": "fc1d16a5-5fb6-4a3f-8d15-7bdff9dc60a9",
   "metadata": {},
   "outputs": [
    {
     "data": {
      "text/plain": [
       "[b'Vegetable Images\\\\test\\\\Bean\\\\0001.jpg',\n",
       " b'Vegetable Images\\\\test\\\\Bean\\\\0002.jpg',\n",
       " b'Vegetable Images\\\\test\\\\Bean\\\\0003.jpg',\n",
       " b'Vegetable Images\\\\test\\\\Bean\\\\0004.jpg',\n",
       " b'Vegetable Images\\\\test\\\\Bean\\\\0005.jpg',\n",
       " b'Vegetable Images\\\\test\\\\Bean\\\\0006.jpg',\n",
       " b'Vegetable Images\\\\test\\\\Bean\\\\0007.jpg',\n",
       " b'Vegetable Images\\\\test\\\\Bean\\\\0008.jpg',\n",
       " b'Vegetable Images\\\\test\\\\Bean\\\\0009.jpg',\n",
       " b'Vegetable Images\\\\test\\\\Bean\\\\0010.jpg']"
      ]
     },
     "execution_count": 27,
     "metadata": {},
     "output_type": "execute_result"
    }
   ],
   "source": [
    "filepaths = []\n",
    "for filepath in test_data.list_files(\"Vegetable Images/test/*/*.jpg\",\n",
    "                                    shuffle=False):\n",
    "    filepaths.append(filepath.numpy())\n",
    "filepaths[:10]"
   ]
  },
  {
   "cell_type": "code",
   "execution_count": 28,
   "id": "0c5b6459-afc0-4bed-9f53-2663f1d6b29b",
   "metadata": {},
   "outputs": [],
   "source": [
    "pred_df = pd.DataFrame({\"img_path\": filepaths,\n",
    "                       \"y_true\" : y_labels,\n",
    "                       \"y_pred\": pred_classes,\n",
    "                       \"pred_conf\": predict_1.max(axis=1), #get the maximum prediction probability value\n",
    "                       \"y_true_classname\": [test_data.class_names[i] for i in y_labels],\n",
    "                       \"y_pred_classname\": [test_data.class_names[i] for i in pred_classes]})"
   ]
  },
  {
   "cell_type": "code",
   "execution_count": 29,
   "id": "fdd7e674-4cc7-4f79-83b6-950d6907d3e2",
   "metadata": {},
   "outputs": [
    {
     "data": {
      "text/html": [
       "<div>\n",
       "<style scoped>\n",
       "    .dataframe tbody tr th:only-of-type {\n",
       "        vertical-align: middle;\n",
       "    }\n",
       "\n",
       "    .dataframe tbody tr th {\n",
       "        vertical-align: top;\n",
       "    }\n",
       "\n",
       "    .dataframe thead th {\n",
       "        text-align: right;\n",
       "    }\n",
       "</style>\n",
       "<table border=\"1\" class=\"dataframe\">\n",
       "  <thead>\n",
       "    <tr style=\"text-align: right;\">\n",
       "      <th></th>\n",
       "      <th>img_path</th>\n",
       "      <th>y_true</th>\n",
       "      <th>y_pred</th>\n",
       "      <th>pred_conf</th>\n",
       "      <th>y_true_classname</th>\n",
       "      <th>y_pred_classname</th>\n",
       "    </tr>\n",
       "  </thead>\n",
       "  <tbody>\n",
       "    <tr>\n",
       "      <th>0</th>\n",
       "      <td>b'Vegetable Images\\\\test\\\\Bean\\\\0001.jpg'</td>\n",
       "      <td>0</td>\n",
       "      <td>0</td>\n",
       "      <td>0.996841</td>\n",
       "      <td>Bean</td>\n",
       "      <td>Bean</td>\n",
       "    </tr>\n",
       "    <tr>\n",
       "      <th>1</th>\n",
       "      <td>b'Vegetable Images\\\\test\\\\Bean\\\\0002.jpg'</td>\n",
       "      <td>0</td>\n",
       "      <td>0</td>\n",
       "      <td>0.999966</td>\n",
       "      <td>Bean</td>\n",
       "      <td>Bean</td>\n",
       "    </tr>\n",
       "    <tr>\n",
       "      <th>2</th>\n",
       "      <td>b'Vegetable Images\\\\test\\\\Bean\\\\0003.jpg'</td>\n",
       "      <td>0</td>\n",
       "      <td>0</td>\n",
       "      <td>0.999999</td>\n",
       "      <td>Bean</td>\n",
       "      <td>Bean</td>\n",
       "    </tr>\n",
       "    <tr>\n",
       "      <th>3</th>\n",
       "      <td>b'Vegetable Images\\\\test\\\\Bean\\\\0004.jpg'</td>\n",
       "      <td>0</td>\n",
       "      <td>0</td>\n",
       "      <td>0.999984</td>\n",
       "      <td>Bean</td>\n",
       "      <td>Bean</td>\n",
       "    </tr>\n",
       "    <tr>\n",
       "      <th>4</th>\n",
       "      <td>b'Vegetable Images\\\\test\\\\Bean\\\\0005.jpg'</td>\n",
       "      <td>0</td>\n",
       "      <td>0</td>\n",
       "      <td>0.998376</td>\n",
       "      <td>Bean</td>\n",
       "      <td>Bean</td>\n",
       "    </tr>\n",
       "    <tr>\n",
       "      <th>...</th>\n",
       "      <td>...</td>\n",
       "      <td>...</td>\n",
       "      <td>...</td>\n",
       "      <td>...</td>\n",
       "      <td>...</td>\n",
       "      <td>...</td>\n",
       "    </tr>\n",
       "    <tr>\n",
       "      <th>2995</th>\n",
       "      <td>b'Vegetable Images\\\\test\\\\Tomato\\\\1196.jpg'</td>\n",
       "      <td>14</td>\n",
       "      <td>14</td>\n",
       "      <td>0.765927</td>\n",
       "      <td>Tomato</td>\n",
       "      <td>Tomato</td>\n",
       "    </tr>\n",
       "    <tr>\n",
       "      <th>2996</th>\n",
       "      <td>b'Vegetable Images\\\\test\\\\Tomato\\\\1197.jpg'</td>\n",
       "      <td>14</td>\n",
       "      <td>14</td>\n",
       "      <td>0.999947</td>\n",
       "      <td>Tomato</td>\n",
       "      <td>Tomato</td>\n",
       "    </tr>\n",
       "    <tr>\n",
       "      <th>2997</th>\n",
       "      <td>b'Vegetable Images\\\\test\\\\Tomato\\\\1198.jpg'</td>\n",
       "      <td>14</td>\n",
       "      <td>14</td>\n",
       "      <td>1.000000</td>\n",
       "      <td>Tomato</td>\n",
       "      <td>Tomato</td>\n",
       "    </tr>\n",
       "    <tr>\n",
       "      <th>2998</th>\n",
       "      <td>b'Vegetable Images\\\\test\\\\Tomato\\\\1199.jpg'</td>\n",
       "      <td>14</td>\n",
       "      <td>14</td>\n",
       "      <td>0.999004</td>\n",
       "      <td>Tomato</td>\n",
       "      <td>Tomato</td>\n",
       "    </tr>\n",
       "    <tr>\n",
       "      <th>2999</th>\n",
       "      <td>b'Vegetable Images\\\\test\\\\Tomato\\\\1200.jpg'</td>\n",
       "      <td>14</td>\n",
       "      <td>14</td>\n",
       "      <td>0.875972</td>\n",
       "      <td>Tomato</td>\n",
       "      <td>Tomato</td>\n",
       "    </tr>\n",
       "  </tbody>\n",
       "</table>\n",
       "<p>3000 rows × 6 columns</p>\n",
       "</div>"
      ],
      "text/plain": [
       "                                         img_path  y_true  y_pred  pred_conf  \\\n",
       "0       b'Vegetable Images\\\\test\\\\Bean\\\\0001.jpg'       0       0   0.996841   \n",
       "1       b'Vegetable Images\\\\test\\\\Bean\\\\0002.jpg'       0       0   0.999966   \n",
       "2       b'Vegetable Images\\\\test\\\\Bean\\\\0003.jpg'       0       0   0.999999   \n",
       "3       b'Vegetable Images\\\\test\\\\Bean\\\\0004.jpg'       0       0   0.999984   \n",
       "4       b'Vegetable Images\\\\test\\\\Bean\\\\0005.jpg'       0       0   0.998376   \n",
       "...                                           ...     ...     ...        ...   \n",
       "2995  b'Vegetable Images\\\\test\\\\Tomato\\\\1196.jpg'      14      14   0.765927   \n",
       "2996  b'Vegetable Images\\\\test\\\\Tomato\\\\1197.jpg'      14      14   0.999947   \n",
       "2997  b'Vegetable Images\\\\test\\\\Tomato\\\\1198.jpg'      14      14   1.000000   \n",
       "2998  b'Vegetable Images\\\\test\\\\Tomato\\\\1199.jpg'      14      14   0.999004   \n",
       "2999  b'Vegetable Images\\\\test\\\\Tomato\\\\1200.jpg'      14      14   0.875972   \n",
       "\n",
       "     y_true_classname y_pred_classname  \n",
       "0                Bean             Bean  \n",
       "1                Bean             Bean  \n",
       "2                Bean             Bean  \n",
       "3                Bean             Bean  \n",
       "4                Bean             Bean  \n",
       "...               ...              ...  \n",
       "2995           Tomato           Tomato  \n",
       "2996           Tomato           Tomato  \n",
       "2997           Tomato           Tomato  \n",
       "2998           Tomato           Tomato  \n",
       "2999           Tomato           Tomato  \n",
       "\n",
       "[3000 rows x 6 columns]"
      ]
     },
     "execution_count": 29,
     "metadata": {},
     "output_type": "execute_result"
    }
   ],
   "source": [
    "pred_df"
   ]
  },
  {
   "cell_type": "code",
   "execution_count": 30,
   "id": "25b78f21-6ff4-40cf-bb3d-3c41e72e4d80",
   "metadata": {},
   "outputs": [
    {
     "data": {
      "text/html": [
       "<div>\n",
       "<style scoped>\n",
       "    .dataframe tbody tr th:only-of-type {\n",
       "        vertical-align: middle;\n",
       "    }\n",
       "\n",
       "    .dataframe tbody tr th {\n",
       "        vertical-align: top;\n",
       "    }\n",
       "\n",
       "    .dataframe thead th {\n",
       "        text-align: right;\n",
       "    }\n",
       "</style>\n",
       "<table border=\"1\" class=\"dataframe\">\n",
       "  <thead>\n",
       "    <tr style=\"text-align: right;\">\n",
       "      <th></th>\n",
       "      <th>img_path</th>\n",
       "      <th>y_true</th>\n",
       "      <th>y_pred</th>\n",
       "      <th>pred_conf</th>\n",
       "      <th>y_true_classname</th>\n",
       "      <th>y_pred_classname</th>\n",
       "      <th>pred_correct</th>\n",
       "    </tr>\n",
       "  </thead>\n",
       "  <tbody>\n",
       "    <tr>\n",
       "      <th>0</th>\n",
       "      <td>b'Vegetable Images\\\\test\\\\Bean\\\\0001.jpg'</td>\n",
       "      <td>0</td>\n",
       "      <td>0</td>\n",
       "      <td>0.996841</td>\n",
       "      <td>Bean</td>\n",
       "      <td>Bean</td>\n",
       "      <td>True</td>\n",
       "    </tr>\n",
       "    <tr>\n",
       "      <th>1</th>\n",
       "      <td>b'Vegetable Images\\\\test\\\\Bean\\\\0002.jpg'</td>\n",
       "      <td>0</td>\n",
       "      <td>0</td>\n",
       "      <td>0.999966</td>\n",
       "      <td>Bean</td>\n",
       "      <td>Bean</td>\n",
       "      <td>True</td>\n",
       "    </tr>\n",
       "    <tr>\n",
       "      <th>2</th>\n",
       "      <td>b'Vegetable Images\\\\test\\\\Bean\\\\0003.jpg'</td>\n",
       "      <td>0</td>\n",
       "      <td>0</td>\n",
       "      <td>0.999999</td>\n",
       "      <td>Bean</td>\n",
       "      <td>Bean</td>\n",
       "      <td>True</td>\n",
       "    </tr>\n",
       "    <tr>\n",
       "      <th>3</th>\n",
       "      <td>b'Vegetable Images\\\\test\\\\Bean\\\\0004.jpg'</td>\n",
       "      <td>0</td>\n",
       "      <td>0</td>\n",
       "      <td>0.999984</td>\n",
       "      <td>Bean</td>\n",
       "      <td>Bean</td>\n",
       "      <td>True</td>\n",
       "    </tr>\n",
       "    <tr>\n",
       "      <th>4</th>\n",
       "      <td>b'Vegetable Images\\\\test\\\\Bean\\\\0005.jpg'</td>\n",
       "      <td>0</td>\n",
       "      <td>0</td>\n",
       "      <td>0.998376</td>\n",
       "      <td>Bean</td>\n",
       "      <td>Bean</td>\n",
       "      <td>True</td>\n",
       "    </tr>\n",
       "  </tbody>\n",
       "</table>\n",
       "</div>"
      ],
      "text/plain": [
       "                                    img_path  y_true  y_pred  pred_conf  \\\n",
       "0  b'Vegetable Images\\\\test\\\\Bean\\\\0001.jpg'       0       0   0.996841   \n",
       "1  b'Vegetable Images\\\\test\\\\Bean\\\\0002.jpg'       0       0   0.999966   \n",
       "2  b'Vegetable Images\\\\test\\\\Bean\\\\0003.jpg'       0       0   0.999999   \n",
       "3  b'Vegetable Images\\\\test\\\\Bean\\\\0004.jpg'       0       0   0.999984   \n",
       "4  b'Vegetable Images\\\\test\\\\Bean\\\\0005.jpg'       0       0   0.998376   \n",
       "\n",
       "  y_true_classname y_pred_classname  pred_correct  \n",
       "0             Bean             Bean          True  \n",
       "1             Bean             Bean          True  \n",
       "2             Bean             Bean          True  \n",
       "3             Bean             Bean          True  \n",
       "4             Bean             Bean          True  "
      ]
     },
     "execution_count": 30,
     "metadata": {},
     "output_type": "execute_result"
    }
   ],
   "source": [
    "pred_df[\"pred_correct\"] = pred_df[\"y_true\"] == pred_df[\"y_pred\"]\n",
    "pred_df.head()"
   ]
  },
  {
   "cell_type": "code",
   "execution_count": 31,
   "id": "ef176835-a40c-40d5-afad-4d2c60171905",
   "metadata": {},
   "outputs": [
    {
     "data": {
      "text/html": [
       "<div>\n",
       "<style scoped>\n",
       "    .dataframe tbody tr th:only-of-type {\n",
       "        vertical-align: middle;\n",
       "    }\n",
       "\n",
       "    .dataframe tbody tr th {\n",
       "        vertical-align: top;\n",
       "    }\n",
       "\n",
       "    .dataframe thead th {\n",
       "        text-align: right;\n",
       "    }\n",
       "</style>\n",
       "<table border=\"1\" class=\"dataframe\">\n",
       "  <thead>\n",
       "    <tr style=\"text-align: right;\">\n",
       "      <th></th>\n",
       "      <th>img_path</th>\n",
       "      <th>y_true</th>\n",
       "      <th>y_pred</th>\n",
       "      <th>pred_conf</th>\n",
       "      <th>y_true_classname</th>\n",
       "      <th>y_pred_classname</th>\n",
       "      <th>pred_correct</th>\n",
       "    </tr>\n",
       "  </thead>\n",
       "  <tbody>\n",
       "    <tr>\n",
       "      <th>289</th>\n",
       "      <td>b'Vegetable Images\\\\test\\\\Bitter_Gourd\\\\1290.jpg'</td>\n",
       "      <td>1</td>\n",
       "      <td>4</td>\n",
       "      <td>0.930329</td>\n",
       "      <td>Bitter_Gourd</td>\n",
       "      <td>Broccoli</td>\n",
       "      <td>False</td>\n",
       "    </tr>\n",
       "    <tr>\n",
       "      <th>325</th>\n",
       "      <td>b'Vegetable Images\\\\test\\\\Bitter_Gourd\\\\1326.jpg'</td>\n",
       "      <td>1</td>\n",
       "      <td>9</td>\n",
       "      <td>0.959035</td>\n",
       "      <td>Bitter_Gourd</td>\n",
       "      <td>Cucumber</td>\n",
       "      <td>False</td>\n",
       "    </tr>\n",
       "    <tr>\n",
       "      <th>729</th>\n",
       "      <td>b'Vegetable Images\\\\test\\\\Brinjal\\\\1123.jpg'</td>\n",
       "      <td>3</td>\n",
       "      <td>10</td>\n",
       "      <td>0.813174</td>\n",
       "      <td>Brinjal</td>\n",
       "      <td>Papaya</td>\n",
       "      <td>False</td>\n",
       "    </tr>\n",
       "    <tr>\n",
       "      <th>878</th>\n",
       "      <td>b'Vegetable Images\\\\test\\\\Broccoli\\\\1079.jpg'</td>\n",
       "      <td>4</td>\n",
       "      <td>0</td>\n",
       "      <td>0.559185</td>\n",
       "      <td>Broccoli</td>\n",
       "      <td>Bean</td>\n",
       "      <td>False</td>\n",
       "    </tr>\n",
       "    <tr>\n",
       "      <th>976</th>\n",
       "      <td>b'Vegetable Images\\\\test\\\\Broccoli\\\\1177.jpg'</td>\n",
       "      <td>4</td>\n",
       "      <td>0</td>\n",
       "      <td>0.772919</td>\n",
       "      <td>Broccoli</td>\n",
       "      <td>Bean</td>\n",
       "      <td>False</td>\n",
       "    </tr>\n",
       "    <tr>\n",
       "      <th>1104</th>\n",
       "      <td>b'Vegetable Images\\\\test\\\\Cabbage\\\\1101.jpg'</td>\n",
       "      <td>5</td>\n",
       "      <td>8</td>\n",
       "      <td>0.561238</td>\n",
       "      <td>Cabbage</td>\n",
       "      <td>Cauliflower</td>\n",
       "      <td>False</td>\n",
       "    </tr>\n",
       "    <tr>\n",
       "      <th>1652</th>\n",
       "      <td>b'Vegetable Images\\\\test\\\\Cauliflower\\\\1101.jpg'</td>\n",
       "      <td>8</td>\n",
       "      <td>9</td>\n",
       "      <td>0.984902</td>\n",
       "      <td>Cauliflower</td>\n",
       "      <td>Cucumber</td>\n",
       "      <td>False</td>\n",
       "    </tr>\n",
       "    <tr>\n",
       "      <th>1833</th>\n",
       "      <td>b'Vegetable Images\\\\test\\\\Cucumber\\\\1034.jpg'</td>\n",
       "      <td>9</td>\n",
       "      <td>10</td>\n",
       "      <td>0.860495</td>\n",
       "      <td>Cucumber</td>\n",
       "      <td>Papaya</td>\n",
       "      <td>False</td>\n",
       "    </tr>\n",
       "    <tr>\n",
       "      <th>1841</th>\n",
       "      <td>b'Vegetable Images\\\\test\\\\Cucumber\\\\1042.jpg'</td>\n",
       "      <td>9</td>\n",
       "      <td>10</td>\n",
       "      <td>0.555399</td>\n",
       "      <td>Cucumber</td>\n",
       "      <td>Papaya</td>\n",
       "      <td>False</td>\n",
       "    </tr>\n",
       "    <tr>\n",
       "      <th>1843</th>\n",
       "      <td>b'Vegetable Images\\\\test\\\\Cucumber\\\\1044.jpg'</td>\n",
       "      <td>9</td>\n",
       "      <td>10</td>\n",
       "      <td>0.934666</td>\n",
       "      <td>Cucumber</td>\n",
       "      <td>Papaya</td>\n",
       "      <td>False</td>\n",
       "    </tr>\n",
       "    <tr>\n",
       "      <th>1891</th>\n",
       "      <td>b'Vegetable Images\\\\test\\\\Cucumber\\\\1092.jpg'</td>\n",
       "      <td>9</td>\n",
       "      <td>3</td>\n",
       "      <td>0.886989</td>\n",
       "      <td>Cucumber</td>\n",
       "      <td>Brinjal</td>\n",
       "      <td>False</td>\n",
       "    </tr>\n",
       "    <tr>\n",
       "      <th>2901</th>\n",
       "      <td>b'Vegetable Images\\\\test\\\\Tomato\\\\1102.jpg'</td>\n",
       "      <td>14</td>\n",
       "      <td>3</td>\n",
       "      <td>0.963705</td>\n",
       "      <td>Tomato</td>\n",
       "      <td>Brinjal</td>\n",
       "      <td>False</td>\n",
       "    </tr>\n",
       "    <tr>\n",
       "      <th>2923</th>\n",
       "      <td>b'Vegetable Images\\\\test\\\\Tomato\\\\1124.jpg'</td>\n",
       "      <td>14</td>\n",
       "      <td>3</td>\n",
       "      <td>0.767658</td>\n",
       "      <td>Tomato</td>\n",
       "      <td>Brinjal</td>\n",
       "      <td>False</td>\n",
       "    </tr>\n",
       "    <tr>\n",
       "      <th>2932</th>\n",
       "      <td>b'Vegetable Images\\\\test\\\\Tomato\\\\1133.jpg'</td>\n",
       "      <td>14</td>\n",
       "      <td>6</td>\n",
       "      <td>0.642697</td>\n",
       "      <td>Tomato</td>\n",
       "      <td>Capsicum</td>\n",
       "      <td>False</td>\n",
       "    </tr>\n",
       "  </tbody>\n",
       "</table>\n",
       "</div>"
      ],
      "text/plain": [
       "                                               img_path  y_true  y_pred  \\\n",
       "289   b'Vegetable Images\\\\test\\\\Bitter_Gourd\\\\1290.jpg'       1       4   \n",
       "325   b'Vegetable Images\\\\test\\\\Bitter_Gourd\\\\1326.jpg'       1       9   \n",
       "729        b'Vegetable Images\\\\test\\\\Brinjal\\\\1123.jpg'       3      10   \n",
       "878       b'Vegetable Images\\\\test\\\\Broccoli\\\\1079.jpg'       4       0   \n",
       "976       b'Vegetable Images\\\\test\\\\Broccoli\\\\1177.jpg'       4       0   \n",
       "1104       b'Vegetable Images\\\\test\\\\Cabbage\\\\1101.jpg'       5       8   \n",
       "1652   b'Vegetable Images\\\\test\\\\Cauliflower\\\\1101.jpg'       8       9   \n",
       "1833      b'Vegetable Images\\\\test\\\\Cucumber\\\\1034.jpg'       9      10   \n",
       "1841      b'Vegetable Images\\\\test\\\\Cucumber\\\\1042.jpg'       9      10   \n",
       "1843      b'Vegetable Images\\\\test\\\\Cucumber\\\\1044.jpg'       9      10   \n",
       "1891      b'Vegetable Images\\\\test\\\\Cucumber\\\\1092.jpg'       9       3   \n",
       "2901        b'Vegetable Images\\\\test\\\\Tomato\\\\1102.jpg'      14       3   \n",
       "2923        b'Vegetable Images\\\\test\\\\Tomato\\\\1124.jpg'      14       3   \n",
       "2932        b'Vegetable Images\\\\test\\\\Tomato\\\\1133.jpg'      14       6   \n",
       "\n",
       "      pred_conf y_true_classname y_pred_classname  pred_correct  \n",
       "289    0.930329     Bitter_Gourd         Broccoli         False  \n",
       "325    0.959035     Bitter_Gourd         Cucumber         False  \n",
       "729    0.813174          Brinjal           Papaya         False  \n",
       "878    0.559185         Broccoli             Bean         False  \n",
       "976    0.772919         Broccoli             Bean         False  \n",
       "1104   0.561238          Cabbage      Cauliflower         False  \n",
       "1652   0.984902      Cauliflower         Cucumber         False  \n",
       "1833   0.860495         Cucumber           Papaya         False  \n",
       "1841   0.555399         Cucumber           Papaya         False  \n",
       "1843   0.934666         Cucumber           Papaya         False  \n",
       "1891   0.886989         Cucumber          Brinjal         False  \n",
       "2901   0.963705           Tomato          Brinjal         False  \n",
       "2923   0.767658           Tomato          Brinjal         False  \n",
       "2932   0.642697           Tomato         Capsicum         False  "
      ]
     },
     "execution_count": 31,
     "metadata": {},
     "output_type": "execute_result"
    }
   ],
   "source": [
    "pred_df[pred_df[\"pred_correct\"] == False]"
   ]
  },
  {
   "cell_type": "code",
   "execution_count": 33,
   "id": "51dbafc6-8322-4708-9065-05e2b351d3db",
   "metadata": {},
   "outputs": [
    {
     "data": {
      "text/plain": [
       "14"
      ]
     },
     "execution_count": 33,
     "metadata": {},
     "output_type": "execute_result"
    }
   ],
   "source": [
    "pred_df[pred_df[\"pred_correct\"] == False].shape[0]"
   ]
  }
 ],
 "metadata": {
  "kernelspec": {
   "display_name": "Python 3 (ipykernel)",
   "language": "python",
   "name": "python3"
  },
  "language_info": {
   "codemirror_mode": {
    "name": "ipython",
    "version": 3
   },
   "file_extension": ".py",
   "mimetype": "text/x-python",
   "name": "python",
   "nbconvert_exporter": "python",
   "pygments_lexer": "ipython3",
   "version": "3.10.9"
  }
 },
 "nbformat": 4,
 "nbformat_minor": 5
}
