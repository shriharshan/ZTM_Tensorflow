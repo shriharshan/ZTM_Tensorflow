{
 "cells": [
  {
   "cell_type": "code",
   "execution_count": 1,
   "id": "6505f9a8-e5d6-499f-a1f5-b65c88f4d745",
   "metadata": {},
   "outputs": [
    {
     "name": "stderr",
     "output_type": "stream",
     "text": [
      "C:\\Users\\shrih\\AppData\\Local\\Programs\\Python\\Python310\\lib\\site-packages\\numpy\\_distributor_init.py:30: UserWarning: loaded more than 1 DLL from .libs:\n",
      "C:\\Users\\shrih\\AppData\\Local\\Programs\\Python\\Python310\\lib\\site-packages\\numpy\\.libs\\libopenblas.FB5AE2TYXYH2IJRDKGDGQ3XBKLKTF43H.gfortran-win_amd64.dll\n",
      "C:\\Users\\shrih\\AppData\\Local\\Programs\\Python\\Python310\\lib\\site-packages\\numpy\\.libs\\libopenblas64__v0.3.21-gcc_10_3_0.dll\n",
      "  warnings.warn(\"loaded more than 1 DLL from .libs:\"\n"
     ]
    },
    {
     "name": "stdout",
     "output_type": "stream",
     "text": [
      "WARNING:tensorflow:From C:\\Users\\shrih\\AppData\\Local\\Programs\\Python\\Python310\\lib\\site-packages\\keras\\src\\losses.py:2976: The name tf.losses.sparse_softmax_cross_entropy is deprecated. Please use tf.compat.v1.losses.sparse_softmax_cross_entropy instead.\n",
      "\n"
     ]
    }
   ],
   "source": [
    "import tensorflow as tf\n",
    "import numpy as np"
   ]
  },
  {
   "cell_type": "code",
   "execution_count": 2,
   "id": "185f4367-3ed0-48c3-b04c-ab231f2b819a",
   "metadata": {},
   "outputs": [],
   "source": [
    "import os\n",
    "def walk_through_dir(dir_path):\n",
    "    \"\"\"\n",
    "    Walk through dir_path returning its content\n",
    "\n",
    "    Args:\n",
    "        dir_path (str): target directory\n",
    "  \n",
    "  Returns:\n",
    "    A print out of:\n",
    "      number of subdirectories in dir_path\n",
    "      number of images (files) in each subdirectory\n",
    "      name of each subdirectory\n",
    "    \"\"\"\n",
    "    for dirpath, dirnames, filenames in os.walk(dir_path):\n",
    "        print(f\"There are {len(dirnames)} directories and {len(filenames)} images in '{dirpath}'.\")"
   ]
  },
  {
   "cell_type": "code",
   "execution_count": 3,
   "id": "b3f0583a-0cb8-4e8b-a36f-e0f7437d3358",
   "metadata": {},
   "outputs": [
    {
     "name": "stdout",
     "output_type": "stream",
     "text": [
      "There are 3 directories and 0 images in 'Vegetable Images'.\n",
      "There are 15 directories and 0 images in 'Vegetable Images\\test'.\n",
      "There are 0 directories and 200 images in 'Vegetable Images\\test\\Bean'.\n",
      "There are 0 directories and 200 images in 'Vegetable Images\\test\\Bitter_Gourd'.\n",
      "There are 0 directories and 200 images in 'Vegetable Images\\test\\Bottle_Gourd'.\n",
      "There are 0 directories and 200 images in 'Vegetable Images\\test\\Brinjal'.\n",
      "There are 0 directories and 200 images in 'Vegetable Images\\test\\Broccoli'.\n",
      "There are 0 directories and 200 images in 'Vegetable Images\\test\\Cabbage'.\n",
      "There are 0 directories and 200 images in 'Vegetable Images\\test\\Capsicum'.\n",
      "There are 0 directories and 200 images in 'Vegetable Images\\test\\Carrot'.\n",
      "There are 0 directories and 200 images in 'Vegetable Images\\test\\Cauliflower'.\n",
      "There are 0 directories and 200 images in 'Vegetable Images\\test\\Cucumber'.\n",
      "There are 0 directories and 200 images in 'Vegetable Images\\test\\Papaya'.\n",
      "There are 0 directories and 200 images in 'Vegetable Images\\test\\Potato'.\n",
      "There are 0 directories and 200 images in 'Vegetable Images\\test\\Pumpkin'.\n",
      "There are 0 directories and 200 images in 'Vegetable Images\\test\\Radish'.\n",
      "There are 0 directories and 200 images in 'Vegetable Images\\test\\Tomato'.\n",
      "There are 15 directories and 0 images in 'Vegetable Images\\train'.\n",
      "There are 0 directories and 1000 images in 'Vegetable Images\\train\\Bean'.\n",
      "There are 0 directories and 1000 images in 'Vegetable Images\\train\\Bitter_Gourd'.\n",
      "There are 0 directories and 1000 images in 'Vegetable Images\\train\\Bottle_Gourd'.\n",
      "There are 0 directories and 1000 images in 'Vegetable Images\\train\\Brinjal'.\n",
      "There are 0 directories and 1000 images in 'Vegetable Images\\train\\Broccoli'.\n",
      "There are 0 directories and 1000 images in 'Vegetable Images\\train\\Cabbage'.\n",
      "There are 0 directories and 1000 images in 'Vegetable Images\\train\\Capsicum'.\n",
      "There are 0 directories and 1000 images in 'Vegetable Images\\train\\Carrot'.\n",
      "There are 0 directories and 1000 images in 'Vegetable Images\\train\\Cauliflower'.\n",
      "There are 0 directories and 1000 images in 'Vegetable Images\\train\\Cucumber'.\n",
      "There are 0 directories and 1000 images in 'Vegetable Images\\train\\Papaya'.\n",
      "There are 0 directories and 1000 images in 'Vegetable Images\\train\\Potato'.\n",
      "There are 0 directories and 1000 images in 'Vegetable Images\\train\\Pumpkin'.\n",
      "There are 0 directories and 1000 images in 'Vegetable Images\\train\\Radish'.\n",
      "There are 0 directories and 1000 images in 'Vegetable Images\\train\\Tomato'.\n",
      "There are 15 directories and 0 images in 'Vegetable Images\\validation'.\n",
      "There are 0 directories and 200 images in 'Vegetable Images\\validation\\Bean'.\n",
      "There are 0 directories and 200 images in 'Vegetable Images\\validation\\Bitter_Gourd'.\n",
      "There are 0 directories and 200 images in 'Vegetable Images\\validation\\Bottle_Gourd'.\n",
      "There are 0 directories and 200 images in 'Vegetable Images\\validation\\Brinjal'.\n",
      "There are 0 directories and 200 images in 'Vegetable Images\\validation\\Broccoli'.\n",
      "There are 0 directories and 200 images in 'Vegetable Images\\validation\\Cabbage'.\n",
      "There are 0 directories and 200 images in 'Vegetable Images\\validation\\Capsicum'.\n",
      "There are 0 directories and 200 images in 'Vegetable Images\\validation\\Carrot'.\n",
      "There are 0 directories and 200 images in 'Vegetable Images\\validation\\Cauliflower'.\n",
      "There are 0 directories and 200 images in 'Vegetable Images\\validation\\Cucumber'.\n",
      "There are 0 directories and 200 images in 'Vegetable Images\\validation\\Papaya'.\n",
      "There are 0 directories and 200 images in 'Vegetable Images\\validation\\Potato'.\n",
      "There are 0 directories and 200 images in 'Vegetable Images\\validation\\Pumpkin'.\n",
      "There are 0 directories and 200 images in 'Vegetable Images\\validation\\Radish'.\n",
      "There are 0 directories and 200 images in 'Vegetable Images\\validation\\Tomato'.\n"
     ]
    }
   ],
   "source": [
    "walk_through_dir(\"Vegetable Images\")"
   ]
  },
  {
   "cell_type": "code",
   "execution_count": 4,
   "id": "71dd7d25-1821-4a2c-8787-213816add11f",
   "metadata": {},
   "outputs": [],
   "source": [
    "train_dir = \"Vegetable Images/train\"\n",
    "test_dir = \"Vegetable Images/test\"\n",
    "validation = \"Vegetable Images/validation\""
   ]
  },
  {
   "cell_type": "code",
   "execution_count": 5,
   "id": "5f2863e0-9838-4668-bf0e-1693908f1e59",
   "metadata": {},
   "outputs": [
    {
     "name": "stdout",
     "output_type": "stream",
     "text": [
      "Found 15000 files belonging to 15 classes.\n",
      "Found 3000 files belonging to 15 classes.\n",
      "Found 3000 files belonging to 15 classes.\n"
     ]
    }
   ],
   "source": [
    "IMG_SIZE = (224, 224)\n",
    "train_data = tf.keras.preprocessing.image_dataset_from_directory(directory=train_dir,\n",
    "                                                                label_mode='categorical',\n",
    "                                                                image_size=IMG_SIZE,\n",
    "                                                                batch_size=32)\n",
    "\n",
    "test_data = tf.keras.preprocessing.image_dataset_from_directory(directory=test_dir,\n",
    "                                                               image_size=IMG_SIZE,\n",
    "                                                               label_mode='categorical',\n",
    "                                                               batch_size=32,\n",
    "                                                               shuffle=False)\n",
    "\n",
    "validate_data = tf.keras.preprocessing.image_dataset_from_directory(directory=validation,\n",
    "                                                                   label_mode='categorical',\n",
    "                                                                   batch_size=32,\n",
    "                                                                   image_size=IMG_SIZE,\n",
    "                                                                   )"
   ]
  },
  {
   "cell_type": "code",
   "execution_count": 6,
   "id": "0c43c80f-2f96-4bf9-b5b1-37f02caa1bbe",
   "metadata": {},
   "outputs": [
    {
     "data": {
      "text/plain": [
       "<_PrefetchDataset element_spec=(TensorSpec(shape=(None, 224, 224, 3), dtype=tf.float32, name=None), TensorSpec(shape=(None, 15), dtype=tf.float32, name=None))>"
      ]
     },
     "execution_count": 6,
     "metadata": {},
     "output_type": "execute_result"
    }
   ],
   "source": [
    "train_data"
   ]
  },
  {
   "cell_type": "code",
   "execution_count": 7,
   "id": "13c198ef-20be-41d3-80c7-96afe4fb2cde",
   "metadata": {},
   "outputs": [
    {
     "data": {
      "text/plain": [
       "['Bean',\n",
       " 'Bitter_Gourd',\n",
       " 'Bottle_Gourd',\n",
       " 'Brinjal',\n",
       " 'Broccoli',\n",
       " 'Cabbage',\n",
       " 'Capsicum',\n",
       " 'Carrot',\n",
       " 'Cauliflower',\n",
       " 'Cucumber',\n",
       " 'Papaya',\n",
       " 'Potato',\n",
       " 'Pumpkin',\n",
       " 'Radish',\n",
       " 'Tomato']"
      ]
     },
     "execution_count": 7,
     "metadata": {},
     "output_type": "execute_result"
    }
   ],
   "source": [
    "train_data.class_names"
   ]
  },
  {
   "cell_type": "markdown",
   "id": "03cbb1e7-4766-47ee-a41e-5d0def2fe3ab",
   "metadata": {},
   "source": [
    "## Data Augmentation layer"
   ]
  },
  {
   "cell_type": "code",
   "execution_count": 8,
   "id": "e8630ba9-5600-4ed8-9ac8-88559e53759b",
   "metadata": {},
   "outputs": [
    {
     "name": "stdout",
     "output_type": "stream",
     "text": [
      "WARNING:tensorflow:From C:\\Users\\shrih\\AppData\\Local\\Programs\\Python\\Python310\\lib\\site-packages\\keras\\src\\backend.py:873: The name tf.get_default_graph is deprecated. Please use tf.compat.v1.get_default_graph instead.\n",
      "\n"
     ]
    }
   ],
   "source": [
    "data_augmentation = tf.keras.Sequential([\n",
    "    tf.keras.layers.RandomFlip('horizontal'),\n",
    "    tf.keras.layers.RandomRotation(0.2),\n",
    "    tf.keras.layers.RandomHeight(0.2),\n",
    "    tf.keras.layers.RandomWidth(0.2),\n",
    "    tf.keras.layers.RandomZoom(0.2)\n",
    "], name = \"Data_Augmentation\")"
   ]
  },
  {
   "cell_type": "markdown",
   "id": "85b0dcab-06c3-4ca8-84f6-982a4354b09c",
   "metadata": {},
   "source": [
    "## Base_Modal"
   ]
  },
  {
   "cell_type": "code",
   "execution_count": 9,
   "id": "2a75ab9f-f96d-4807-b340-258dabc16f6d",
   "metadata": {},
   "outputs": [
    {
     "name": "stdout",
     "output_type": "stream",
     "text": [
      "WARNING:tensorflow:From C:\\Users\\shrih\\AppData\\Local\\Programs\\Python\\Python310\\lib\\site-packages\\keras\\src\\layers\\normalization\\batch_normalization.py:979: The name tf.nn.fused_batch_norm is deprecated. Please use tf.compat.v1.nn.fused_batch_norm instead.\n",
      "\n",
      "Downloading data from https://storage.googleapis.com/keras-applications/efficientnetb1_notop.h5\n",
      "27018416/27018416 [==============================] - 10s 0us/step\n"
     ]
    }
   ],
   "source": [
    "base_model = tf.keras.applications.EfficientNetB1(include_top=False)\n",
    "base_model.trainable = False\n",
    "inputs = tf.keras.layers.Input(shape=(224, 224, 3), name = \"input_layer\")\n",
    "x = data_augmentation(inputs) # augment images\n",
    "x = base_model(x, training = False)\n",
    "x = tf.keras.layers.GlobalAveragePooling2D(name=\"Pooling_Layer\")(x)\n",
    "outputs = tf.keras.layers.Dense(len(train_data.class_names), activation=\"softmax\", name=\"output_layer\")(x)\n",
    "model = tf.keras.Model(inputs, outputs)"
   ]
  },
  {
   "cell_type": "code",
   "execution_count": 10,
   "id": "288c925d-0bae-40b9-a4e1-3966108f2b3e",
   "metadata": {},
   "outputs": [
    {
     "name": "stdout",
     "output_type": "stream",
     "text": [
      "Model: \"model\"\n",
      "_________________________________________________________________\n",
      " Layer (type)                Output Shape              Param #   \n",
      "=================================================================\n",
      " input_layer (InputLayer)    [(None, 224, 224, 3)]     0         \n",
      "                                                                 \n",
      " Data_Augmentation (Sequent  (None, None, None, 3)     0         \n",
      " ial)                                                            \n",
      "                                                                 \n",
      " efficientnetb1 (Functional  (None, None, None, 1280   6575239   \n",
      " )                           )                                   \n",
      "                                                                 \n",
      " Pooling_Layer (GlobalAvera  (None, 1280)              0         \n",
      " gePooling2D)                                                    \n",
      "                                                                 \n",
      " output_layer (Dense)        (None, 15)                19215     \n",
      "                                                                 \n",
      "=================================================================\n",
      "Total params: 6594454 (25.16 MB)\n",
      "Trainable params: 19215 (75.06 KB)\n",
      "Non-trainable params: 6575239 (25.08 MB)\n",
      "_________________________________________________________________\n"
     ]
    }
   ],
   "source": [
    "model.summary()"
   ]
  },
  {
   "cell_type": "code",
   "execution_count": 11,
   "id": "b8a77ed7-9462-4eca-9f19-d64233a6badb",
   "metadata": {},
   "outputs": [
    {
     "name": "stdout",
     "output_type": "stream",
     "text": [
      "Epoch 1/5\n",
      "WARNING:tensorflow:From C:\\Users\\shrih\\AppData\\Local\\Programs\\Python\\Python310\\lib\\site-packages\\keras\\src\\utils\\tf_utils.py:492: The name tf.ragged.RaggedTensorValue is deprecated. Please use tf.compat.v1.ragged.RaggedTensorValue instead.\n",
      "\n",
      "WARNING:tensorflow:From C:\\Users\\shrih\\AppData\\Local\\Programs\\Python\\Python310\\lib\\site-packages\\keras\\src\\engine\\base_layer_utils.py:384: The name tf.executing_eagerly_outside_functions is deprecated. Please use tf.compat.v1.executing_eagerly_outside_functions instead.\n",
      "\n",
      "469/469 [==============================] - 464s 968ms/step - loss: 0.2969 - accuracy: 0.9502 - val_loss: 0.0561 - val_accuracy: 0.9910\n",
      "Epoch 2/5\n",
      "469/469 [==============================] - 481s 1s/step - loss: 0.0472 - accuracy: 0.9935 - val_loss: 0.0269 - val_accuracy: 0.9957\n",
      "Epoch 3/5\n",
      "469/469 [==============================] - 467s 995ms/step - loss: 0.0280 - accuracy: 0.9963 - val_loss: 0.0169 - val_accuracy: 0.9980\n",
      "Epoch 4/5\n",
      "469/469 [==============================] - 476s 1s/step - loss: 0.0196 - accuracy: 0.9969 - val_loss: 0.0121 - val_accuracy: 0.9983\n",
      "Epoch 5/5\n",
      "469/469 [==============================] - 473s 1s/step - loss: 0.0147 - accuracy: 0.9975 - val_loss: 0.0100 - val_accuracy: 0.9983\n"
     ]
    }
   ],
   "source": [
    "# Modal compile\n",
    "model.compile(loss=\"categorical_crossentropy\",\n",
    "             optimizer=tf.keras.optimizers.Adam(),\n",
    "             metrics=['accuracy'])\n",
    "\n",
    "history_1 = model.fit(train_data,\n",
    "                     epochs=5,\n",
    "                     validation_data=validate_data)"
   ]
  },
  {
   "cell_type": "code",
   "execution_count": 12,
   "id": "b8d45f2a-e72b-4abc-98db-e5fe09a31a91",
   "metadata": {},
   "outputs": [
    {
     "name": "stdout",
     "output_type": "stream",
     "text": [
      "94/94 [==============================] - 76s 781ms/step\n"
     ]
    },
    {
     "data": {
      "text/plain": [
       "array([[9.99152899e-01, 1.45849335e-05, 2.96006998e-04, ...,\n",
       "        7.10501808e-06, 2.20674992e-05, 5.85605039e-06],\n",
       "       [9.97098684e-01, 4.32870220e-05, 1.14903069e-05, ...,\n",
       "        4.40558051e-06, 9.80707584e-04, 2.55221698e-06],\n",
       "       [9.97039318e-01, 9.89894615e-04, 3.19914834e-04, ...,\n",
       "        7.87663430e-06, 2.00821614e-05, 2.40901136e-05],\n",
       "       ...,\n",
       "       [3.42306066e-07, 1.27337239e-06, 3.94016679e-05, ...,\n",
       "        1.60501429e-07, 2.03424929e-06, 9.99272764e-01],\n",
       "       [8.61127191e-05, 2.35071464e-04, 3.58960096e-06, ...,\n",
       "        7.98032212e-04, 1.68961962e-03, 9.94827688e-01],\n",
       "       [1.33100475e-04, 6.54527685e-04, 2.74347910e-03, ...,\n",
       "        4.25817270e-05, 6.25443718e-05, 8.25497627e-01]], dtype=float32)"
      ]
     },
     "execution_count": 12,
     "metadata": {},
     "output_type": "execute_result"
    }
   ],
   "source": [
    "predict_1 = model.predict(test_data)\n",
    "predict_1"
   ]
  },
  {
   "cell_type": "code",
   "execution_count": 13,
   "id": "d63a73ca-fd06-4346-864c-83cc377bafd8",
   "metadata": {},
   "outputs": [
    {
     "data": {
      "text/plain": [
       "(3000, 15)"
      ]
     },
     "execution_count": 13,
     "metadata": {},
     "output_type": "execute_result"
    }
   ],
   "source": [
    "predict_1.shape"
   ]
  },
  {
   "cell_type": "code",
   "execution_count": 14,
   "id": "e48ad0cf-53e8-42cc-8704-d53c40e58983",
   "metadata": {},
   "outputs": [
    {
     "data": {
      "text/plain": [
       "(array([9.99152899e-01, 1.45849335e-05, 2.96006998e-04, 3.26124177e-06,\n",
       "        1.91701438e-05, 2.48554414e-07, 2.15816567e-06, 8.75734768e-05,\n",
       "        8.27366648e-07, 3.87807842e-04, 4.41706817e-07, 1.50725903e-08,\n",
       "        7.10501808e-06, 2.20674992e-05, 5.85605039e-06], dtype=float32),\n",
       " 15,\n",
       " 1.0000000228583197,\n",
       " 0)"
      ]
     },
     "execution_count": 14,
     "metadata": {},
     "output_type": "execute_result"
    }
   ],
   "source": [
    "# What does the first probability look's like?\n",
    "predict_1[0], len(predict_1[0]), sum(predict_1[0]), predict_1[0].argmax()"
   ]
  },
  {
   "cell_type": "code",
   "execution_count": 15,
   "id": "0dfd7997-039f-4ae2-94d1-987e2dbb4299",
   "metadata": {},
   "outputs": [
    {
     "name": "stdout",
     "output_type": "stream",
     "text": [
      "Number of prediction probabilities for sample: 15\n",
      "What prediction probability sample 0 look like:\n",
      " [9.99152899e-01 1.45849335e-05 2.96006998e-04 3.26124177e-06\n",
      " 1.91701438e-05 2.48554414e-07 2.15816567e-06 8.75734768e-05\n",
      " 8.27366648e-07 3.87807842e-04 4.41706817e-07 1.50725903e-08\n",
      " 7.10501808e-06 2.20674992e-05 5.85605039e-06]\n",
      "The class with the highest probability by the model for sample 0:0\n"
     ]
    }
   ],
   "source": [
    "print(f\"Number of prediction probabilities for sample: {len(predict_1[0])}\")\n",
    "print(f\"What prediction probability sample 0 look like:\\n {predict_1[0]}\")\n",
    "print(f\"The class with the highest probability by the model for sample 0:{predict_1[0].argmax()}\")"
   ]
  },
  {
   "cell_type": "code",
   "execution_count": 36,
   "id": "2c0ea191-57ff-4de5-a8ba-9846eaa506c6",
   "metadata": {},
   "outputs": [
    {
     "data": {
      "text/plain": [
       "'Bean'"
      ]
     },
     "execution_count": 36,
     "metadata": {},
     "output_type": "execute_result"
    }
   ],
   "source": [
    "test_data.class_names[0]"
   ]
  },
  {
   "cell_type": "markdown",
   "id": "807db56b-fb4e-42fd-8a81-7ed990d7c6cd",
   "metadata": {},
   "source": [
    "## Plot Accuracy & Val_Accuracy to further Evalution"
   ]
  },
  {
   "cell_type": "code",
   "execution_count": 17,
   "id": "14cf9ee6-e373-4daf-a0cb-d0d6ac77d7bd",
   "metadata": {},
   "outputs": [],
   "source": [
    "import matplotlib.pyplot as plt\n",
    "import seaborn as sns"
   ]
  },
  {
   "cell_type": "code",
   "execution_count": 18,
   "id": "63e71d2a-3df0-451d-8e41-3454a3e6a829",
   "metadata": {},
   "outputs": [
    {
     "name": "stderr",
     "output_type": "stream",
     "text": [
      "C:\\Users\\shrih\\AppData\\Roaming\\Python\\Python310\\site-packages\\seaborn\\_oldcore.py:1498: FutureWarning: is_categorical_dtype is deprecated and will be removed in a future version. Use isinstance(dtype, CategoricalDtype) instead\n",
      "  if pd.api.types.is_categorical_dtype(vector):\n",
      "C:\\Users\\shrih\\AppData\\Roaming\\Python\\Python310\\site-packages\\seaborn\\_oldcore.py:1498: FutureWarning: is_categorical_dtype is deprecated and will be removed in a future version. Use isinstance(dtype, CategoricalDtype) instead\n",
      "  if pd.api.types.is_categorical_dtype(vector):\n",
      "C:\\Users\\shrih\\AppData\\Roaming\\Python\\Python310\\site-packages\\seaborn\\_oldcore.py:1119: FutureWarning: use_inf_as_na option is deprecated and will be removed in a future version. Convert inf values to NaN before operating instead.\n",
      "  with pd.option_context('mode.use_inf_as_na', True):\n",
      "C:\\Users\\shrih\\AppData\\Roaming\\Python\\Python310\\site-packages\\seaborn\\_oldcore.py:1119: FutureWarning: use_inf_as_na option is deprecated and will be removed in a future version. Convert inf values to NaN before operating instead.\n",
      "  with pd.option_context('mode.use_inf_as_na', True):\n",
      "C:\\Users\\shrih\\AppData\\Roaming\\Python\\Python310\\site-packages\\seaborn\\_oldcore.py:1498: FutureWarning: is_categorical_dtype is deprecated and will be removed in a future version. Use isinstance(dtype, CategoricalDtype) instead\n",
      "  if pd.api.types.is_categorical_dtype(vector):\n",
      "C:\\Users\\shrih\\AppData\\Roaming\\Python\\Python310\\site-packages\\seaborn\\_oldcore.py:1498: FutureWarning: is_categorical_dtype is deprecated and will be removed in a future version. Use isinstance(dtype, CategoricalDtype) instead\n",
      "  if pd.api.types.is_categorical_dtype(vector):\n",
      "C:\\Users\\shrih\\AppData\\Roaming\\Python\\Python310\\site-packages\\seaborn\\_oldcore.py:1119: FutureWarning: use_inf_as_na option is deprecated and will be removed in a future version. Convert inf values to NaN before operating instead.\n",
      "  with pd.option_context('mode.use_inf_as_na', True):\n",
      "C:\\Users\\shrih\\AppData\\Roaming\\Python\\Python310\\site-packages\\seaborn\\_oldcore.py:1119: FutureWarning: use_inf_as_na option is deprecated and will be removed in a future version. Convert inf values to NaN before operating instead.\n",
      "  with pd.option_context('mode.use_inf_as_na', True):\n"
     ]
    },
    {
     "data": {
      "text/plain": [
       "Text(0, 0.5, 'Accuracy')"
      ]
     },
     "execution_count": 18,
     "metadata": {},
     "output_type": "execute_result"
    },
    {
     "data": {
      "image/png": "[encoded data removed]",
      "text/plain": [
       "<Figure size 640x480 with 1 Axes>"
      ]
     },
     "metadata": {},
     "output_type": "display_data"
    }
   ],
   "source": [
    "q = len(history_1.history['accuracy'])\n",
    "\n",
    "plt.figsize=(10,10)\n",
    "sns.lineplot(x = range(1, 1+q), y = history_1.history['accuracy'], label='Accuracy')\n",
    "sns.lineplot(x = range(1, 1+q), y = history_1.history['val_accuracy'], label='Val_Accuracy')\n",
    "plt.xlabel('epochs')\n",
    "plt.ylabel('Accuracy')"
   ]
  },
  {
   "cell_type": "code",
   "execution_count": 19,
   "id": "60a5b225-f2a1-47dc-aded-784361bcd6ca",
   "metadata": {},
   "outputs": [
    {
     "data": {
      "text/plain": [
       "[0, 0, 0, 0, 0, 0, 0, 0, 0, 0]"
      ]
     },
     "execution_count": 19,
     "metadata": {},
     "output_type": "execute_result"
    }
   ],
   "source": [
    "y_labels = []\n",
    "for images, labels in test_data.unbatch():\n",
    "    y_labels.append(labels.numpy().argmax()) # currently test labels look like [0, 0, 0, 1, 0, 0] we want to index value where the \"1\" occurs\n",
    "y_labels[:10]"
   ]
  },
  {
   "cell_type": "code",
   "execution_count": 20,
   "id": "38afa9b2-7545-411a-bbef-5eeeb944e72a",
   "metadata": {},
   "outputs": [
    {
     "data": {
      "text/plain": [
       "array([0, 0, 0, 0, 0, 0, 0, 0, 0, 0], dtype=int64)"
      ]
     },
     "execution_count": 20,
     "metadata": {},
     "output_type": "execute_result"
    }
   ],
   "source": [
    "pred_classes = predict_1.argmax(axis=1)\n",
    "pred_classes[:10]"
   ]
  },
  {
   "cell_type": "code",
   "execution_count": 24,
   "id": "44781359-a1ef-4629-9fa6-1a8db03a3967",
   "metadata": {},
   "outputs": [],
   "source": [
    "from sklearn.metrics import confusion_matrix, classification_report, accuracy_score"
   ]
  },
  {
   "cell_type": "code",
   "execution_count": 22,
   "id": "b0558d1c-30aa-4ebd-84fb-2d78edfbf80b",
   "metadata": {},
   "outputs": [
    {
     "name": "stdout",
     "output_type": "stream",
     "text": [
      "              precision    recall  f1-score   support\n",
      "\n",
      "           0       1.00      1.00      1.00       200\n",
      "           1       1.00      0.98      0.99       200\n",
      "           2       0.99      1.00      1.00       200\n",
      "           3       0.99      0.99      0.99       200\n",
      "           4       1.00      1.00      1.00       200\n",
      "           5       1.00      1.00      1.00       200\n",
      "           6       1.00      1.00      1.00       200\n",
      "           7       1.00      1.00      1.00       200\n",
      "           8       1.00      1.00      1.00       200\n",
      "           9       0.99      0.98      0.99       200\n",
      "          10       0.99      0.99      0.99       200\n",
      "          11       1.00      1.00      1.00       200\n",
      "          12       1.00      1.00      1.00       200\n",
      "          13       1.00      1.00      1.00       200\n",
      "          14       1.00      1.00      1.00       200\n",
      "\n",
      "    accuracy                           1.00      3000\n",
      "   macro avg       1.00      1.00      1.00      3000\n",
      "weighted avg       1.00      1.00      1.00      3000\n",
      "\n"
     ]
    }
   ],
   "source": [
    "print(classification_report(y_true = y_labels,\n",
    "                           y_pred = pred_classes))"
   ]
  },
  {
   "cell_type": "code",
   "execution_count": 23,
   "id": "f8f2dc10-54f7-408c-8093-b883511c9b62",
   "metadata": {},
   "outputs": [
    {
     "data": {
      "text/plain": [
       "0.997"
      ]
     },
     "execution_count": 23,
     "metadata": {},
     "output_type": "execute_result"
    }
   ],
   "source": [
    "accuracy = accuracy_score(y_labels, pred_classes)\n",
    "accuracy"
   ]
  },
  {
   "cell_type": "markdown",
   "id": "f029677d-4f40-4034-8171-2e4e93389206",
   "metadata": {},
   "source": [
    "### Finding out the most wrong prediction"
   ]
  },
  {
   "cell_type": "code",
   "execution_count": 27,
   "id": "4001b5f3-9f96-49e7-a12b-2bf2784a0dbf",
   "metadata": {},
   "outputs": [
    {
     "data": {
      "text/plain": [
       "[b'Vegetable Images\\\\test\\\\Bean\\\\0001.jpg',\n",
       " b'Vegetable Images\\\\test\\\\Bean\\\\0002.jpg',\n",
       " b'Vegetable Images\\\\test\\\\Bean\\\\0003.jpg',\n",
       " b'Vegetable Images\\\\test\\\\Bean\\\\0004.jpg',\n",
       " b'Vegetable Images\\\\test\\\\Bean\\\\0005.jpg',\n",
       " b'Vegetable Images\\\\test\\\\Bean\\\\0006.jpg',\n",
       " b'Vegetable Images\\\\test\\\\Bean\\\\0007.jpg',\n",
       " b'Vegetable Images\\\\test\\\\Bean\\\\0008.jpg',\n",
       " b'Vegetable Images\\\\test\\\\Bean\\\\0009.jpg',\n",
       " b'Vegetable Images\\\\test\\\\Bean\\\\0010.jpg']"
      ]
     },
     "execution_count": 27,
     "metadata": {},
     "output_type": "execute_result"
    }
   ],
   "source": [
    "# Get all of the image file paths in the test dataset\n",
    "filepaths = []\n",
    "for filepath in test_data.list_files(\"Vegetable Images/test/*/*.jpg\",\n",
    "                                    shuffle=False):\n",
    "    filepaths.append(filepath.numpy())\n",
    "filepaths[:10]"
   ]
  },
  {
   "cell_type": "code",
   "execution_count": 29,
   "id": "adbbcfc3-18e1-46fd-9450-283b3a71a09a",
   "metadata": {},
   "outputs": [],
   "source": [
    "# 2. Create a DataFrame of different parameters for each of our test images\n",
    "import pandas as pd\n",
    "pred_df = pd.DataFrame({\"img_path\": filepaths,\n",
    "                       \"y_true\": y_labels,\n",
    "                       \"y_pred\": pred_classes,\n",
    "                       \"pred_conf\": predict_1.max(axis=1), # get the maximum prediction probability value\n",
    "                       \"y_true_classname\": [test_data.class_names[i] for i in y_labels],\n",
    "                       \"y_pred_classname\": [test_data.class_names[i] for i in pred_classes]})"
   ]
  },
  {
   "cell_type": "code",
   "execution_count": 30,
   "id": "51197d80-2d2e-4bfc-aa6f-84139ab389ad",
   "metadata": {},
   "outputs": [
    {
     "data": {
      "text/html": [
       "<div>\n",
       "<style scoped>\n",
       "    .dataframe tbody tr th:only-of-type {\n",
       "        vertical-align: middle;\n",
       "    }\n",
       "\n",
       "    .dataframe tbody tr th {\n",
       "        vertical-align: top;\n",
       "    }\n",
       "\n",
       "    .dataframe thead th {\n",
       "        text-align: right;\n",
       "    }\n",
       "</style>\n",
       "<table border=\"1\" class=\"dataframe\">\n",
       "  <thead>\n",
       "    <tr style=\"text-align: right;\">\n",
       "      <th></th>\n",
       "      <th>img_path</th>\n",
       "      <th>y_true</th>\n",
       "      <th>y_pred</th>\n",
       "      <th>pred_conf</th>\n",
       "      <th>y_true_classname</th>\n",
       "      <th>y_pred_classname</th>\n",
       "    </tr>\n",
       "  </thead>\n",
       "  <tbody>\n",
       "    <tr>\n",
       "      <th>0</th>\n",
       "      <td>b'Vegetable Images\\\\test\\\\Bean\\\\0001.jpg'</td>\n",
       "      <td>0</td>\n",
       "      <td>0</td>\n",
       "      <td>0.999153</td>\n",
       "      <td>Bean</td>\n",
       "      <td>Bean</td>\n",
       "    </tr>\n",
       "    <tr>\n",
       "      <th>1</th>\n",
       "      <td>b'Vegetable Images\\\\test\\\\Bean\\\\0002.jpg'</td>\n",
       "      <td>0</td>\n",
       "      <td>0</td>\n",
       "      <td>0.997099</td>\n",
       "      <td>Bean</td>\n",
       "      <td>Bean</td>\n",
       "    </tr>\n",
       "    <tr>\n",
       "      <th>2</th>\n",
       "      <td>b'Vegetable Images\\\\test\\\\Bean\\\\0003.jpg'</td>\n",
       "      <td>0</td>\n",
       "      <td>0</td>\n",
       "      <td>0.997039</td>\n",
       "      <td>Bean</td>\n",
       "      <td>Bean</td>\n",
       "    </tr>\n",
       "    <tr>\n",
       "      <th>3</th>\n",
       "      <td>b'Vegetable Images\\\\test\\\\Bean\\\\0004.jpg'</td>\n",
       "      <td>0</td>\n",
       "      <td>0</td>\n",
       "      <td>0.999792</td>\n",
       "      <td>Bean</td>\n",
       "      <td>Bean</td>\n",
       "    </tr>\n",
       "    <tr>\n",
       "      <th>4</th>\n",
       "      <td>b'Vegetable Images\\\\test\\\\Bean\\\\0005.jpg'</td>\n",
       "      <td>0</td>\n",
       "      <td>0</td>\n",
       "      <td>0.998696</td>\n",
       "      <td>Bean</td>\n",
       "      <td>Bean</td>\n",
       "    </tr>\n",
       "    <tr>\n",
       "      <th>...</th>\n",
       "      <td>...</td>\n",
       "      <td>...</td>\n",
       "      <td>...</td>\n",
       "      <td>...</td>\n",
       "      <td>...</td>\n",
       "      <td>...</td>\n",
       "    </tr>\n",
       "    <tr>\n",
       "      <th>2995</th>\n",
       "      <td>b'Vegetable Images\\\\test\\\\Tomato\\\\1196.jpg'</td>\n",
       "      <td>14</td>\n",
       "      <td>14</td>\n",
       "      <td>0.998069</td>\n",
       "      <td>Tomato</td>\n",
       "      <td>Tomato</td>\n",
       "    </tr>\n",
       "    <tr>\n",
       "      <th>2996</th>\n",
       "      <td>b'Vegetable Images\\\\test\\\\Tomato\\\\1197.jpg'</td>\n",
       "      <td>14</td>\n",
       "      <td>14</td>\n",
       "      <td>0.999934</td>\n",
       "      <td>Tomato</td>\n",
       "      <td>Tomato</td>\n",
       "    </tr>\n",
       "    <tr>\n",
       "      <th>2997</th>\n",
       "      <td>b'Vegetable Images\\\\test\\\\Tomato\\\\1198.jpg'</td>\n",
       "      <td>14</td>\n",
       "      <td>14</td>\n",
       "      <td>0.999273</td>\n",
       "      <td>Tomato</td>\n",
       "      <td>Tomato</td>\n",
       "    </tr>\n",
       "    <tr>\n",
       "      <th>2998</th>\n",
       "      <td>b'Vegetable Images\\\\test\\\\Tomato\\\\1199.jpg'</td>\n",
       "      <td>14</td>\n",
       "      <td>14</td>\n",
       "      <td>0.994828</td>\n",
       "      <td>Tomato</td>\n",
       "      <td>Tomato</td>\n",
       "    </tr>\n",
       "    <tr>\n",
       "      <th>2999</th>\n",
       "      <td>b'Vegetable Images\\\\test\\\\Tomato\\\\1200.jpg'</td>\n",
       "      <td>14</td>\n",
       "      <td>14</td>\n",
       "      <td>0.825498</td>\n",
       "      <td>Tomato</td>\n",
       "      <td>Tomato</td>\n",
       "    </tr>\n",
       "  </tbody>\n",
       "</table>\n",
       "<p>3000 rows × 6 columns</p>\n",
       "</div>"
      ],
      "text/plain": [
       "                                         img_path  y_true  y_pred  pred_conf  \\\n",
       "0       b'Vegetable Images\\\\test\\\\Bean\\\\0001.jpg'       0       0   0.999153   \n",
       "1       b'Vegetable Images\\\\test\\\\Bean\\\\0002.jpg'       0       0   0.997099   \n",
       "2       b'Vegetable Images\\\\test\\\\Bean\\\\0003.jpg'       0       0   0.997039   \n",
       "3       b'Vegetable Images\\\\test\\\\Bean\\\\0004.jpg'       0       0   0.999792   \n",
       "4       b'Vegetable Images\\\\test\\\\Bean\\\\0005.jpg'       0       0   0.998696   \n",
       "...                                           ...     ...     ...        ...   \n",
       "2995  b'Vegetable Images\\\\test\\\\Tomato\\\\1196.jpg'      14      14   0.998069   \n",
       "2996  b'Vegetable Images\\\\test\\\\Tomato\\\\1197.jpg'      14      14   0.999934   \n",
       "2997  b'Vegetable Images\\\\test\\\\Tomato\\\\1198.jpg'      14      14   0.999273   \n",
       "2998  b'Vegetable Images\\\\test\\\\Tomato\\\\1199.jpg'      14      14   0.994828   \n",
       "2999  b'Vegetable Images\\\\test\\\\Tomato\\\\1200.jpg'      14      14   0.825498   \n",
       "\n",
       "     y_true_classname y_pred_classname  \n",
       "0                Bean             Bean  \n",
       "1                Bean             Bean  \n",
       "2                Bean             Bean  \n",
       "3                Bean             Bean  \n",
       "4                Bean             Bean  \n",
       "...               ...              ...  \n",
       "2995           Tomato           Tomato  \n",
       "2996           Tomato           Tomato  \n",
       "2997           Tomato           Tomato  \n",
       "2998           Tomato           Tomato  \n",
       "2999           Tomato           Tomato  \n",
       "\n",
       "[3000 rows x 6 columns]"
      ]
     },
     "execution_count": 30,
     "metadata": {},
     "output_type": "execute_result"
    }
   ],
   "source": [
    "pred_df"
   ]
  },
  {
   "cell_type": "code",
   "execution_count": 32,
   "id": "bbc2d549-2328-420e-a2ec-a6cd8f6611f1",
   "metadata": {},
   "outputs": [
    {
     "data": {
      "text/html": [
       "<div>\n",
       "<style scoped>\n",
       "    .dataframe tbody tr th:only-of-type {\n",
       "        vertical-align: middle;\n",
       "    }\n",
       "\n",
       "    .dataframe tbody tr th {\n",
       "        vertical-align: top;\n",
       "    }\n",
       "\n",
       "    .dataframe thead th {\n",
       "        text-align: right;\n",
       "    }\n",
       "</style>\n",
       "<table border=\"1\" class=\"dataframe\">\n",
       "  <thead>\n",
       "    <tr style=\"text-align: right;\">\n",
       "      <th></th>\n",
       "      <th>img_path</th>\n",
       "      <th>y_true</th>\n",
       "      <th>y_pred</th>\n",
       "      <th>pred_conf</th>\n",
       "      <th>y_true_classname</th>\n",
       "      <th>y_pred_classname</th>\n",
       "      <th>pred_correct</th>\n",
       "    </tr>\n",
       "  </thead>\n",
       "  <tbody>\n",
       "    <tr>\n",
       "      <th>0</th>\n",
       "      <td>b'Vegetable Images\\\\test\\\\Bean\\\\0001.jpg'</td>\n",
       "      <td>0</td>\n",
       "      <td>0</td>\n",
       "      <td>0.999153</td>\n",
       "      <td>Bean</td>\n",
       "      <td>Bean</td>\n",
       "      <td>True</td>\n",
       "    </tr>\n",
       "    <tr>\n",
       "      <th>1</th>\n",
       "      <td>b'Vegetable Images\\\\test\\\\Bean\\\\0002.jpg'</td>\n",
       "      <td>0</td>\n",
       "      <td>0</td>\n",
       "      <td>0.997099</td>\n",
       "      <td>Bean</td>\n",
       "      <td>Bean</td>\n",
       "      <td>True</td>\n",
       "    </tr>\n",
       "    <tr>\n",
       "      <th>2</th>\n",
       "      <td>b'Vegetable Images\\\\test\\\\Bean\\\\0003.jpg'</td>\n",
       "      <td>0</td>\n",
       "      <td>0</td>\n",
       "      <td>0.997039</td>\n",
       "      <td>Bean</td>\n",
       "      <td>Bean</td>\n",
       "      <td>True</td>\n",
       "    </tr>\n",
       "    <tr>\n",
       "      <th>3</th>\n",
       "      <td>b'Vegetable Images\\\\test\\\\Bean\\\\0004.jpg'</td>\n",
       "      <td>0</td>\n",
       "      <td>0</td>\n",
       "      <td>0.999792</td>\n",
       "      <td>Bean</td>\n",
       "      <td>Bean</td>\n",
       "      <td>True</td>\n",
       "    </tr>\n",
       "    <tr>\n",
       "      <th>4</th>\n",
       "      <td>b'Vegetable Images\\\\test\\\\Bean\\\\0005.jpg'</td>\n",
       "      <td>0</td>\n",
       "      <td>0</td>\n",
       "      <td>0.998696</td>\n",
       "      <td>Bean</td>\n",
       "      <td>Bean</td>\n",
       "      <td>True</td>\n",
       "    </tr>\n",
       "  </tbody>\n",
       "</table>\n",
       "</div>"
      ],
      "text/plain": [
       "                                    img_path  y_true  y_pred  pred_conf  \\\n",
       "0  b'Vegetable Images\\\\test\\\\Bean\\\\0001.jpg'       0       0   0.999153   \n",
       "1  b'Vegetable Images\\\\test\\\\Bean\\\\0002.jpg'       0       0   0.997099   \n",
       "2  b'Vegetable Images\\\\test\\\\Bean\\\\0003.jpg'       0       0   0.997039   \n",
       "3  b'Vegetable Images\\\\test\\\\Bean\\\\0004.jpg'       0       0   0.999792   \n",
       "4  b'Vegetable Images\\\\test\\\\Bean\\\\0005.jpg'       0       0   0.998696   \n",
       "\n",
       "  y_true_classname y_pred_classname  pred_correct  \n",
       "0             Bean             Bean          True  \n",
       "1             Bean             Bean          True  \n",
       "2             Bean             Bean          True  \n",
       "3             Bean             Bean          True  \n",
       "4             Bean             Bean          True  "
      ]
     },
     "execution_count": 32,
     "metadata": {},
     "output_type": "execute_result"
    }
   ],
   "source": [
    "# 3. Find out in our DataFrame which prediction are wrong\n",
    "pred_df[\"pred_correct\"] = pred_df[\"y_true\"] == pred_df[\"y_pred\"]\n",
    "pred_df.head()"
   ]
  },
  {
   "cell_type": "code",
   "execution_count": 34,
   "id": "bd5bd05d-e35d-47d4-a97b-c556b7898991",
   "metadata": {},
   "outputs": [
    {
     "data": {
      "text/html": [
       "<div>\n",
       "<style scoped>\n",
       "    .dataframe tbody tr th:only-of-type {\n",
       "        vertical-align: middle;\n",
       "    }\n",
       "\n",
       "    .dataframe tbody tr th {\n",
       "        vertical-align: top;\n",
       "    }\n",
       "\n",
       "    .dataframe thead th {\n",
       "        text-align: right;\n",
       "    }\n",
       "</style>\n",
       "<table border=\"1\" class=\"dataframe\">\n",
       "  <thead>\n",
       "    <tr style=\"text-align: right;\">\n",
       "      <th></th>\n",
       "      <th>img_path</th>\n",
       "      <th>y_true</th>\n",
       "      <th>y_pred</th>\n",
       "      <th>pred_conf</th>\n",
       "      <th>y_true_classname</th>\n",
       "      <th>y_pred_classname</th>\n",
       "      <th>pred_correct</th>\n",
       "    </tr>\n",
       "  </thead>\n",
       "  <tbody>\n",
       "    <tr>\n",
       "      <th>214</th>\n",
       "      <td>b'Vegetable Images\\\\test\\\\Bitter_Gourd\\\\1215.jpg'</td>\n",
       "      <td>1</td>\n",
       "      <td>2</td>\n",
       "      <td>0.605176</td>\n",
       "      <td>Bitter_Gourd</td>\n",
       "      <td>Bottle_Gourd</td>\n",
       "      <td>False</td>\n",
       "    </tr>\n",
       "    <tr>\n",
       "      <th>325</th>\n",
       "      <td>b'Vegetable Images\\\\test\\\\Bitter_Gourd\\\\1326.jpg'</td>\n",
       "      <td>1</td>\n",
       "      <td>9</td>\n",
       "      <td>0.831345</td>\n",
       "      <td>Bitter_Gourd</td>\n",
       "      <td>Cucumber</td>\n",
       "      <td>False</td>\n",
       "    </tr>\n",
       "    <tr>\n",
       "      <th>360</th>\n",
       "      <td>b'Vegetable Images\\\\test\\\\Bitter_Gourd\\\\1361.jpg'</td>\n",
       "      <td>1</td>\n",
       "      <td>2</td>\n",
       "      <td>0.578700</td>\n",
       "      <td>Bitter_Gourd</td>\n",
       "      <td>Bottle_Gourd</td>\n",
       "      <td>False</td>\n",
       "    </tr>\n",
       "    <tr>\n",
       "      <th>718</th>\n",
       "      <td>b'Vegetable Images\\\\test\\\\Brinjal\\\\1111.jpg'</td>\n",
       "      <td>3</td>\n",
       "      <td>10</td>\n",
       "      <td>0.521664</td>\n",
       "      <td>Brinjal</td>\n",
       "      <td>Papaya</td>\n",
       "      <td>False</td>\n",
       "    </tr>\n",
       "    <tr>\n",
       "      <th>1833</th>\n",
       "      <td>b'Vegetable Images\\\\test\\\\Cucumber\\\\1034.jpg'</td>\n",
       "      <td>9</td>\n",
       "      <td>10</td>\n",
       "      <td>0.694385</td>\n",
       "      <td>Cucumber</td>\n",
       "      <td>Papaya</td>\n",
       "      <td>False</td>\n",
       "    </tr>\n",
       "    <tr>\n",
       "      <th>1834</th>\n",
       "      <td>b'Vegetable Images\\\\test\\\\Cucumber\\\\1035.jpg'</td>\n",
       "      <td>9</td>\n",
       "      <td>3</td>\n",
       "      <td>0.407430</td>\n",
       "      <td>Cucumber</td>\n",
       "      <td>Brinjal</td>\n",
       "      <td>False</td>\n",
       "    </tr>\n",
       "    <tr>\n",
       "      <th>1836</th>\n",
       "      <td>b'Vegetable Images\\\\test\\\\Cucumber\\\\1037.jpg'</td>\n",
       "      <td>9</td>\n",
       "      <td>3</td>\n",
       "      <td>0.535438</td>\n",
       "      <td>Cucumber</td>\n",
       "      <td>Brinjal</td>\n",
       "      <td>False</td>\n",
       "    </tr>\n",
       "    <tr>\n",
       "      <th>2143</th>\n",
       "      <td>b'Vegetable Images\\\\test\\\\Papaya\\\\1344.jpg'</td>\n",
       "      <td>10</td>\n",
       "      <td>3</td>\n",
       "      <td>0.789940</td>\n",
       "      <td>Papaya</td>\n",
       "      <td>Brinjal</td>\n",
       "      <td>False</td>\n",
       "    </tr>\n",
       "    <tr>\n",
       "      <th>2173</th>\n",
       "      <td>b'Vegetable Images\\\\test\\\\Papaya\\\\1374.jpg'</td>\n",
       "      <td>10</td>\n",
       "      <td>12</td>\n",
       "      <td>0.664890</td>\n",
       "      <td>Papaya</td>\n",
       "      <td>Pumpkin</td>\n",
       "      <td>False</td>\n",
       "    </tr>\n",
       "  </tbody>\n",
       "</table>\n",
       "</div>"
      ],
      "text/plain": [
       "                                               img_path  y_true  y_pred  \\\n",
       "214   b'Vegetable Images\\\\test\\\\Bitter_Gourd\\\\1215.jpg'       1       2   \n",
       "325   b'Vegetable Images\\\\test\\\\Bitter_Gourd\\\\1326.jpg'       1       9   \n",
       "360   b'Vegetable Images\\\\test\\\\Bitter_Gourd\\\\1361.jpg'       1       2   \n",
       "718        b'Vegetable Images\\\\test\\\\Brinjal\\\\1111.jpg'       3      10   \n",
       "1833      b'Vegetable Images\\\\test\\\\Cucumber\\\\1034.jpg'       9      10   \n",
       "1834      b'Vegetable Images\\\\test\\\\Cucumber\\\\1035.jpg'       9       3   \n",
       "1836      b'Vegetable Images\\\\test\\\\Cucumber\\\\1037.jpg'       9       3   \n",
       "2143        b'Vegetable Images\\\\test\\\\Papaya\\\\1344.jpg'      10       3   \n",
       "2173        b'Vegetable Images\\\\test\\\\Papaya\\\\1374.jpg'      10      12   \n",
       "\n",
       "      pred_conf y_true_classname y_pred_classname  pred_correct  \n",
       "214    0.605176     Bitter_Gourd     Bottle_Gourd         False  \n",
       "325    0.831345     Bitter_Gourd         Cucumber         False  \n",
       "360    0.578700     Bitter_Gourd     Bottle_Gourd         False  \n",
       "718    0.521664          Brinjal           Papaya         False  \n",
       "1833   0.694385         Cucumber           Papaya         False  \n",
       "1834   0.407430         Cucumber          Brinjal         False  \n",
       "1836   0.535438         Cucumber          Brinjal         False  \n",
       "2143   0.789940           Papaya          Brinjal         False  \n",
       "2173   0.664890           Papaya          Pumpkin         False  "
      ]
     },
     "execution_count": 34,
     "metadata": {},
     "output_type": "execute_result"
    }
   ],
   "source": [
    "pred_df[pred_df[\"pred_correct\"] == False]"
   ]
  },
  {
   "cell_type": "code",
   "execution_count": 35,
   "id": "f6a90d59-82ed-4bde-b272-3fc6ebc45e45",
   "metadata": {},
   "outputs": [
    {
     "data": {
      "text/plain": [
       "9"
      ]
     },
     "execution_count": 35,
     "metadata": {},
     "output_type": "execute_result"
    }
   ],
   "source": [
    "pred_df[pred_df[\"pred_correct\"] == False].shape[0]"
   ]
  }
 ],
 "metadata": {
  "kernelspec": {
   "display_name": "Python 3 (ipykernel)",
   "language": "python",
   "name": "python3"
  },
  "language_info": {
   "codemirror_mode": {
    "name": "ipython",
    "version": 3
   },
   "file_extension": ".py",
   "mimetype": "text/x-python",
   "name": "python",
   "nbconvert_exporter": "python",
   "pygments_lexer": "ipython3",
   "version": "3.10.9"
  }
 },
 "nbformat": 4,
 "nbformat_minor": 5
}
