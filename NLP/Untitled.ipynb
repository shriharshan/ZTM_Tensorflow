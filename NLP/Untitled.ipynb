{
 "cells": [
  {
   "cell_type": "markdown",
   "id": "27938849-1e86-4227-8014-1b8880b2466d",
   "metadata": {},
   "source": [
    "# Architecture of an RNN"
   ]
  },
  {
   "cell_type": "markdown",
   "id": "e05c1495-7f9f-4e32-838b-4d9cfe41331b",
   "metadata": {},
   "source": [
    "| Hyperparameter/Layer type | What does it do?                                                                       | Typical Values                                                                                |\r\n",
    "|---------------------------|----------------------------------------------------------------------------------------|-----------------------------------------------------------------------------------------------|\r\n",
    "| input texts(s)            | Takes in target sequence                                                               | `input_shape = [batch_size, embedding_size]` or `[batch_size, sequence_shape]`                |\r\n",
    "| Text Vectorization layer  | Maps input sequence to number                                                          | Multiple, can create with `tf.keras.layers.experimental.preprocessing.TextVectorization`      |\r\n",
    "| Embeddings                | Turns mapping of text vectors to embedding matrix (representation of how words relate) | Multiple, can create with `tf.keras.layers.Embedding`                                         |\r\n",
    "| RNN cell(s)               | Finds patterns in sequences                                                            | `SimpleRNN, LSTM, GRU`                                                                        |\r\n",
    "| Hidden activation         | Adds non-linearity to learned features (non-straight lines)                            | Usually Tanh (hyperbolic tangent) (`tf.keras.activation.tanh`)                                |\r\n",
    "| Pooling layer             | Reduces the dimensionality of learned sequence features (usually for Conv1D models)    | Average (`tf.keras.layers.GlobalAveragePooling1D`) or Max (`tf.keras.layers.GlobalMaxPool1D`) |\r\n",
    "| Fully connected layer     | Further refines learned features from recurrent layers                                 | `tf.keras.layers.Dense`                                                                       |\r\n",
    "| Output layer              | Takes learned features and outputs them in shape of target labels                      | `output_shape = [number_of_classes]`                                                          |\r\n",
    "| Output Activation         | Adds non-linearity to output layer                                                     | `tf.keras.activation.sigmoid` (binary classification) or `tf.keras.activation.softmax`        |\r\n"
   ]
  },
  {
   "cell_type": "code",
   "execution_count": 142,
   "id": "3e7c9937-5e4a-497b-a756-98c985cf3760",
   "metadata": {},
   "outputs": [],
   "source": [
    "from helper_functions import create_tensorboard_callback, plot_loss_curves, compare_historys\n",
    "import pandas as pd\n",
    "import numpy as np\n",
    "import matplotlib.pyplot as plt\n",
    "import seaborn as sns"
   ]
  },
  {
   "cell_type": "markdown",
   "id": "b571d446-0e9d-4762-af96-b73a6594d98a",
   "metadata": {},
   "source": [
    "## Get a Text Dataset\n",
    "The dataset we'regoing to be using is Kaggle's introduction to NLP dataset (text samples of Tweets labelled as disaster or not disaster)."
   ]
  },
  {
   "cell_type": "markdown",
   "id": "ba9c7bea-aaad-4c5d-8c2d-ebf5a9cd9fec",
   "metadata": {},
   "source": [
    "## Visualizing a text dataset"
   ]
  },
  {
   "cell_type": "code",
   "execution_count": 2,
   "id": "2f4d7714-c70c-4f6a-b12f-a9289e8c10cb",
   "metadata": {},
   "outputs": [],
   "source": [
    "train_df = pd.read_csv('Data/nlp_getting_started/train.csv')\n",
    "test_df = pd.read_csv('Data/nlp_getting_started/test.csv')"
   ]
  },
  {
   "cell_type": "code",
   "execution_count": 3,
   "id": "807b0343-ba9a-45ae-b166-09815f0d6d33",
   "metadata": {},
   "outputs": [
    {
     "data": {
      "text/html": [
       "<div>\n",
       "<style scoped>\n",
       "    .dataframe tbody tr th:only-of-type {\n",
       "        vertical-align: middle;\n",
       "    }\n",
       "\n",
       "    .dataframe tbody tr th {\n",
       "        vertical-align: top;\n",
       "    }\n",
       "\n",
       "    .dataframe thead th {\n",
       "        text-align: right;\n",
       "    }\n",
       "</style>\n",
       "<table border=\"1\" class=\"dataframe\">\n",
       "  <thead>\n",
       "    <tr style=\"text-align: right;\">\n",
       "      <th></th>\n",
       "      <th>id</th>\n",
       "      <th>keyword</th>\n",
       "      <th>location</th>\n",
       "      <th>text</th>\n",
       "      <th>target</th>\n",
       "    </tr>\n",
       "  </thead>\n",
       "  <tbody>\n",
       "    <tr>\n",
       "      <th>0</th>\n",
       "      <td>1</td>\n",
       "      <td>NaN</td>\n",
       "      <td>NaN</td>\n",
       "      <td>Our Deeds are the Reason of this #earthquake M...</td>\n",
       "      <td>1</td>\n",
       "    </tr>\n",
       "    <tr>\n",
       "      <th>1</th>\n",
       "      <td>4</td>\n",
       "      <td>NaN</td>\n",
       "      <td>NaN</td>\n",
       "      <td>Forest fire near La Ronge Sask. Canada</td>\n",
       "      <td>1</td>\n",
       "    </tr>\n",
       "    <tr>\n",
       "      <th>2</th>\n",
       "      <td>5</td>\n",
       "      <td>NaN</td>\n",
       "      <td>NaN</td>\n",
       "      <td>All residents asked to 'shelter in place' are ...</td>\n",
       "      <td>1</td>\n",
       "    </tr>\n",
       "    <tr>\n",
       "      <th>3</th>\n",
       "      <td>6</td>\n",
       "      <td>NaN</td>\n",
       "      <td>NaN</td>\n",
       "      <td>13,000 people receive #wildfires evacuation or...</td>\n",
       "      <td>1</td>\n",
       "    </tr>\n",
       "    <tr>\n",
       "      <th>4</th>\n",
       "      <td>7</td>\n",
       "      <td>NaN</td>\n",
       "      <td>NaN</td>\n",
       "      <td>Just got sent this photo from Ruby #Alaska as ...</td>\n",
       "      <td>1</td>\n",
       "    </tr>\n",
       "  </tbody>\n",
       "</table>\n",
       "</div>"
      ],
      "text/plain": [
       "   id keyword location                                               text  \\\n",
       "0   1     NaN      NaN  Our Deeds are the Reason of this #earthquake M...   \n",
       "1   4     NaN      NaN             Forest fire near La Ronge Sask. Canada   \n",
       "2   5     NaN      NaN  All residents asked to 'shelter in place' are ...   \n",
       "3   6     NaN      NaN  13,000 people receive #wildfires evacuation or...   \n",
       "4   7     NaN      NaN  Just got sent this photo from Ruby #Alaska as ...   \n",
       "\n",
       "   target  \n",
       "0       1  \n",
       "1       1  \n",
       "2       1  \n",
       "3       1  \n",
       "4       1  "
      ]
     },
     "execution_count": 3,
     "metadata": {},
     "output_type": "execute_result"
    }
   ],
   "source": [
    "train_df.head()"
   ]
  },
  {
   "cell_type": "code",
   "execution_count": 4,
   "id": "1e7fdc1d-3770-48fc-b1c0-052468df5121",
   "metadata": {},
   "outputs": [
    {
     "data": {
      "text/html": [
       "<div>\n",
       "<style scoped>\n",
       "    .dataframe tbody tr th:only-of-type {\n",
       "        vertical-align: middle;\n",
       "    }\n",
       "\n",
       "    .dataframe tbody tr th {\n",
       "        vertical-align: top;\n",
       "    }\n",
       "\n",
       "    .dataframe thead th {\n",
       "        text-align: right;\n",
       "    }\n",
       "</style>\n",
       "<table border=\"1\" class=\"dataframe\">\n",
       "  <thead>\n",
       "    <tr style=\"text-align: right;\">\n",
       "      <th></th>\n",
       "      <th>id</th>\n",
       "      <th>keyword</th>\n",
       "      <th>location</th>\n",
       "      <th>text</th>\n",
       "      <th>target</th>\n",
       "    </tr>\n",
       "  </thead>\n",
       "  <tbody>\n",
       "    <tr>\n",
       "      <th>2644</th>\n",
       "      <td>3796</td>\n",
       "      <td>destruction</td>\n",
       "      <td>NaN</td>\n",
       "      <td>So you have a new weapon that can cause un-ima...</td>\n",
       "      <td>1</td>\n",
       "    </tr>\n",
       "    <tr>\n",
       "      <th>2227</th>\n",
       "      <td>3185</td>\n",
       "      <td>deluge</td>\n",
       "      <td>NaN</td>\n",
       "      <td>The f$&amp;amp;@ing things I do for #GISHWHES Just...</td>\n",
       "      <td>0</td>\n",
       "    </tr>\n",
       "    <tr>\n",
       "      <th>5448</th>\n",
       "      <td>7769</td>\n",
       "      <td>police</td>\n",
       "      <td>UK</td>\n",
       "      <td>DT @georgegalloway: RT @Galloway4Mayor: ÛÏThe...</td>\n",
       "      <td>1</td>\n",
       "    </tr>\n",
       "    <tr>\n",
       "      <th>132</th>\n",
       "      <td>191</td>\n",
       "      <td>aftershock</td>\n",
       "      <td>NaN</td>\n",
       "      <td>Aftershock back to school kick off was great. ...</td>\n",
       "      <td>0</td>\n",
       "    </tr>\n",
       "    <tr>\n",
       "      <th>6845</th>\n",
       "      <td>9810</td>\n",
       "      <td>trauma</td>\n",
       "      <td>Montgomery County, MD</td>\n",
       "      <td>in response to trauma Children of Addicts deve...</td>\n",
       "      <td>0</td>\n",
       "    </tr>\n",
       "  </tbody>\n",
       "</table>\n",
       "</div>"
      ],
      "text/plain": [
       "        id      keyword               location  \\\n",
       "2644  3796  destruction                    NaN   \n",
       "2227  3185       deluge                    NaN   \n",
       "5448  7769       police                     UK   \n",
       "132    191   aftershock                    NaN   \n",
       "6845  9810       trauma  Montgomery County, MD   \n",
       "\n",
       "                                                   text  target  \n",
       "2644  So you have a new weapon that can cause un-ima...       1  \n",
       "2227  The f$&amp;@ing things I do for #GISHWHES Just...       0  \n",
       "5448  DT @georgegalloway: RT @Galloway4Mayor: ÛÏThe...       1  \n",
       "132   Aftershock back to school kick off was great. ...       0  \n",
       "6845  in response to trauma Children of Addicts deve...       0  "
      ]
     },
     "execution_count": 4,
     "metadata": {},
     "output_type": "execute_result"
    }
   ],
   "source": [
    "# Shuffle training dataframe\n",
    "train_df_shuffled = train_df.sample(frac=1, random_state=42)\n",
    "train_df_shuffled.head()"
   ]
  },
  {
   "cell_type": "code",
   "execution_count": 5,
   "id": "2f02e8d4-5594-42ec-81c3-0e4ff3113e0b",
   "metadata": {},
   "outputs": [
    {
     "data": {
      "text/html": [
       "<div>\n",
       "<style scoped>\n",
       "    .dataframe tbody tr th:only-of-type {\n",
       "        vertical-align: middle;\n",
       "    }\n",
       "\n",
       "    .dataframe tbody tr th {\n",
       "        vertical-align: top;\n",
       "    }\n",
       "\n",
       "    .dataframe thead th {\n",
       "        text-align: right;\n",
       "    }\n",
       "</style>\n",
       "<table border=\"1\" class=\"dataframe\">\n",
       "  <thead>\n",
       "    <tr style=\"text-align: right;\">\n",
       "      <th></th>\n",
       "      <th>id</th>\n",
       "      <th>keyword</th>\n",
       "      <th>location</th>\n",
       "      <th>text</th>\n",
       "    </tr>\n",
       "  </thead>\n",
       "  <tbody>\n",
       "    <tr>\n",
       "      <th>0</th>\n",
       "      <td>0</td>\n",
       "      <td>NaN</td>\n",
       "      <td>NaN</td>\n",
       "      <td>Just happened a terrible car crash</td>\n",
       "    </tr>\n",
       "    <tr>\n",
       "      <th>1</th>\n",
       "      <td>2</td>\n",
       "      <td>NaN</td>\n",
       "      <td>NaN</td>\n",
       "      <td>Heard about #earthquake is different cities, s...</td>\n",
       "    </tr>\n",
       "    <tr>\n",
       "      <th>2</th>\n",
       "      <td>3</td>\n",
       "      <td>NaN</td>\n",
       "      <td>NaN</td>\n",
       "      <td>there is a forest fire at spot pond, geese are...</td>\n",
       "    </tr>\n",
       "    <tr>\n",
       "      <th>3</th>\n",
       "      <td>9</td>\n",
       "      <td>NaN</td>\n",
       "      <td>NaN</td>\n",
       "      <td>Apocalypse lighting. #Spokane #wildfires</td>\n",
       "    </tr>\n",
       "    <tr>\n",
       "      <th>4</th>\n",
       "      <td>11</td>\n",
       "      <td>NaN</td>\n",
       "      <td>NaN</td>\n",
       "      <td>Typhoon Soudelor kills 28 in China and Taiwan</td>\n",
       "    </tr>\n",
       "  </tbody>\n",
       "</table>\n",
       "</div>"
      ],
      "text/plain": [
       "   id keyword location                                               text\n",
       "0   0     NaN      NaN                 Just happened a terrible car crash\n",
       "1   2     NaN      NaN  Heard about #earthquake is different cities, s...\n",
       "2   3     NaN      NaN  there is a forest fire at spot pond, geese are...\n",
       "3   9     NaN      NaN           Apocalypse lighting. #Spokane #wildfires\n",
       "4  11     NaN      NaN      Typhoon Soudelor kills 28 in China and Taiwan"
      ]
     },
     "execution_count": 5,
     "metadata": {},
     "output_type": "execute_result"
    }
   ],
   "source": [
    "test_df.head()"
   ]
  },
  {
   "cell_type": "code",
   "execution_count": 6,
   "id": "9a262d6b-0c86-4b80-ab1f-8d3e89a4df9f",
   "metadata": {},
   "outputs": [
    {
     "data": {
      "text/plain": [
       "target\n",
       "0    4342\n",
       "1    3271\n",
       "Name: count, dtype: int64"
      ]
     },
     "execution_count": 6,
     "metadata": {},
     "output_type": "execute_result"
    }
   ],
   "source": [
    "# How many examples of each class?\n",
    "train_df.target.value_counts()"
   ]
  },
  {
   "cell_type": "code",
   "execution_count": 7,
   "id": "077a99ee-6b52-4f95-a8c0-19f688c69b4b",
   "metadata": {},
   "outputs": [
    {
     "data": {
      "text/plain": [
       "(7613, 3263)"
      ]
     },
     "execution_count": 7,
     "metadata": {},
     "output_type": "execute_result"
    }
   ],
   "source": [
    "# How many total samples?\n",
    "len(train_df), len(test_df)"
   ]
  },
  {
   "cell_type": "code",
   "execution_count": 8,
   "id": "1db280eb-95c4-464c-a15d-3a9416366268",
   "metadata": {},
   "outputs": [
    {
     "name": "stdout",
     "output_type": "stream",
     "text": [
      "Target: 1 {real disaster}\n",
      "Text:\n",
      "And please don't flood poor @RobertBEnglund's mentions. He's put in his work!\n",
      "\n",
      "---\n",
      "\n",
      "Target: 1 {real disaster}\n",
      "Text:\n",
      "West Valley I405 N / Us101 S I405 N Con **Trfc Collision-Unkn Inj** http://t.co/jS9EhP88wQ\n",
      "\n",
      "---\n",
      "\n",
      "Target: 0 (not real disaster)\n",
      "Text:\n",
      "@b24fowler I see that! Crazy how this line blew up.\n",
      "\n",
      "---\n",
      "\n",
      "Target: 0 (not real disaster)\n",
      "Text:\n",
      "@daewony0406 alright now I'm gonna crash I'm so exhausted\n",
      "\n",
      "---\n",
      "\n",
      "Target: 1 {real disaster}\n",
      "Text:\n",
      "Investigators say a fatal Virgin Galactic spaceship crash last year was caused by structural failure after the... http://t.co/FPrt7NwrOt\n",
      "\n",
      "---\n",
      "\n"
     ]
    }
   ],
   "source": [
    "# Let's visuallize some random training examples\n",
    "import random\n",
    "random_index = random.randint(0, len(train_df)-5)# Create random indexes not higher than the total number of samples \n",
    "for row in train_df_shuffled[['text','target']][random_index: random_index+5].itertuples():\n",
    "    _, text, target = row\n",
    "    print(f\"Target: {target}\", \"{real disaster}\" if target > 0 else \"(not real disaster)\")\n",
    "    print(f\"Text:\\n{text}\\n\")\n",
    "    print(\"---\\n\")"
   ]
  },
  {
   "cell_type": "markdown",
   "id": "af502571-a7ef-4e5a-a128-bc0f24648150",
   "metadata": {},
   "source": [
    "### Split data into training and validation sets"
   ]
  },
  {
   "cell_type": "code",
   "execution_count": 9,
   "id": "0f458664-afe7-4647-bdc7-5b315d2fec99",
   "metadata": {},
   "outputs": [],
   "source": [
    "from sklearn.model_selection import train_test_split"
   ]
  },
  {
   "cell_type": "code",
   "execution_count": 10,
   "id": "673a9260-94d5-4c47-b8d9-edd26f6a996a",
   "metadata": {},
   "outputs": [],
   "source": [
    "# Use train_test_split to split training data into training and validation sets\n",
    "train_sentences, val_sentences, train_labels, val_labels = train_test_split(train_df_shuffled['text'].to_numpy(),\n",
    "                                                                           train_df_shuffled['target'].to_numpy(),\n",
    "                                                                           test_size = 0.1 ,# use 10% of training data for validation split\n",
    "                                                                           random_state=42)"
   ]
  },
  {
   "cell_type": "code",
   "execution_count": 11,
   "id": "431105cf-f680-43a7-8218-1bafa3675865",
   "metadata": {},
   "outputs": [
    {
     "data": {
      "text/plain": [
       "(6851, 6851, 762, 762)"
      ]
     },
     "execution_count": 11,
     "metadata": {},
     "output_type": "execute_result"
    }
   ],
   "source": [
    "# Check the lengths\n",
    "len(train_sentences), len(train_labels), len(val_sentences), len(val_labels)"
   ]
  },
  {
   "cell_type": "code",
   "execution_count": 12,
   "id": "fbf98860-e68c-4aaa-afe8-98151a6d6d96",
   "metadata": {},
   "outputs": [
    {
     "data": {
      "text/plain": [
       "(array(['@mogacola @zamtriossu i screamed after hitting tweet',\n",
       "        'Imagine getting flattened by Kurt Zouma',\n",
       "        '@Gurmeetramrahim #MSGDoing111WelfareWorks Green S welfare force ke appx 65000 members har time disaster victim ki help ke liye tyar hai....',\n",
       "        \"@shakjn @C7 @Magnums im shaking in fear he's gonna hack the planet\",\n",
       "        'Somehow find you and I collide http://t.co/Ee8RpOahPk',\n",
       "        '@EvaHanderek @MarleyKnysh great times until the bus driver held us hostage in the mall parking lot lmfao',\n",
       "        'destroy the free fandom honestly',\n",
       "        'Weapons stolen from National Guard Armory in New Albany still missing #Gunsense http://t.co/lKNU8902JE',\n",
       "        '@wfaaweather Pete when will the heat wave pass? Is it really going to be mid month? Frisco Boy Scouts have a canoe trip in Okla.',\n",
       "        'Patient-reported outcomes in long-term survivors of metastatic colorectal cancer - British Journal of Surgery http://t.co/5Yl4DC1Tqt'],\n",
       "       dtype=object),\n",
       " array([0, 0, 1, 0, 0, 1, 1, 0, 1, 1], dtype=int64))"
      ]
     },
     "execution_count": 12,
     "metadata": {},
     "output_type": "execute_result"
    }
   ],
   "source": [
    "# Check the first 10 samples\n",
    "train_sentences[:10], train_labels[:10]"
   ]
  },
  {
   "cell_type": "markdown",
   "id": "d031999c-e7d9-412f-bb54-154722d6ae47",
   "metadata": {},
   "source": [
    "## Converting text into numbers"
   ]
  },
  {
   "cell_type": "markdown",
   "id": "74159852-2a9b-424a-8363-a983bfaad33b",
   "metadata": {},
   "source": [
    "**Tokenization** \n",
    "- A straight mapping from word or character or sub-word to a numerical value. There are three main levels of tokenization:\n",
    "1. Using **word-level tokenization** with the sentence \"I love TensorFlow\" might result in \"I\" being 0, \"love\" being 1 and \"TensorFlow\" being 2. In this case, every word in a sequence considered a single **token**.\n",
    "2. **Character-level tokenization**, such as converting the letters A-Z to values 1-26. In this case, every character in a sequence considered a single **token**.\n",
    "3. **Sub-word tokenization** is in between word-level and character-level tokenization. It involves breaking invidual words into smaller parts and then converting those smaller parts into numbers. For example, \"my favourite food is pineapple pizza\" might become \"my, fav, avour, rite, fo, oo, od, is, pin, ine, app, le, piz, za\". After doing this, these sub-words would then be mapped to a numerical value. In this case, every word could be considered multiple **tokens**."
   ]
  },
  {
   "cell_type": "markdown",
   "id": "cb34cf97-72ba-49d0-bff7-79b2c551fe6f",
   "metadata": {},
   "source": [
    "**Embeddings** \n",
    "- An embedding is a representation of natural language which can be learned. Representation comes in the form of a **feature vector**. For example, the word \"dance\" could be represented by the 5-dimensional vector [-0.8547, 0.4559, -0.3332, 0.9877, 0.1112]. It's important to note here, the size of the feature vector is tuneable. There are two ways to use embeddings:\n",
    "1. **Create your own embedding** - Once your text has been turned into numbers (required for an embedding), you can put them through an embedding layer (such as tf.keras.layers.Embedding) and an embedding representation will be learned during model training.\n",
    "2. **Reuse a pre-learned embedding** - Many pre-trained embeddings exist online. These pre-trained embeddings have often been learned on large corpuses of text (such as all of Wikipedia) and thus have a good underlying representation of natural language. You can use a pre-trained embedding to initialize your model and fine-tune it to your own specific task."
   ]
  },
  {
   "cell_type": "markdown",
   "id": "3fb7fa02-1906-406f-b7b8-39e483acb5d9",
   "metadata": {},
   "source": [
    "### Text Vectorization (tokenization)"
   ]
  },
  {
   "cell_type": "code",
   "execution_count": 13,
   "id": "598c894d-610e-4e67-a68a-f36c457de982",
   "metadata": {},
   "outputs": [],
   "source": [
    "import tensorflow as tf\n",
    "from tensorflow.keras.layers.experimental.preprocessing import TextVectorization"
   ]
  },
  {
   "cell_type": "code",
   "execution_count": 14,
   "id": "c2d04a61-cb9f-460e-9f46-819d666d7eb4",
   "metadata": {},
   "outputs": [
    {
     "name": "stdout",
     "output_type": "stream",
     "text": [
      "WARNING:tensorflow:From C:\\Users\\shrih\\AppData\\Local\\Programs\\Python\\Python310\\lib\\site-packages\\keras\\src\\backend.py:873: The name tf.get_default_graph is deprecated. Please use tf.compat.v1.get_default_graph instead.\n",
      "\n"
     ]
    }
   ],
   "source": [
    "text_vectorizer = TextVectorization(max_tokens=None, # how many words in the vocabulary\n",
    "                                   standardize=\"lower_and_strip_punctuation\",\n",
    "                                   split=\"whitespace\",\n",
    "                                   ngrams=None, # Create groups of n-words\n",
    "                                   output_mode='int', # how to map tokens to numbers\n",
    "                                   output_sequence_length=None, # how long do you want your sequence to be?\n",
    "                                   )"
   ]
  },
  {
   "cell_type": "code",
   "execution_count": 15,
   "id": "3b69e755-b22b-46df-ac38-ec4c58a8f38d",
   "metadata": {},
   "outputs": [
    {
     "data": {
      "text/plain": [
       "7"
      ]
     },
     "execution_count": 15,
     "metadata": {},
     "output_type": "execute_result"
    }
   ],
   "source": [
    "len(train_sentences[0].split())"
   ]
  },
  {
   "cell_type": "code",
   "execution_count": 16,
   "id": "fe8f7c4b-e265-4bf2-b52c-8f7a0c54c84d",
   "metadata": {},
   "outputs": [
    {
     "data": {
      "text/plain": [
       "102087"
      ]
     },
     "execution_count": 16,
     "metadata": {},
     "output_type": "execute_result"
    }
   ],
   "source": [
    "round(sum([len(i.split()) for i in train_sentences]))"
   ]
  },
  {
   "cell_type": "code",
   "execution_count": 17,
   "id": "1f548fd5-5152-49dd-90d7-45c378b42680",
   "metadata": {},
   "outputs": [
    {
     "data": {
      "text/plain": [
       "15"
      ]
     },
     "execution_count": 17,
     "metadata": {},
     "output_type": "execute_result"
    }
   ],
   "source": [
    "# Find the average number of tokens (words) in the training tweets\n",
    "round(sum([len(i.split()) for i in train_sentences]) / len(train_sentences))"
   ]
  },
  {
   "cell_type": "code",
   "execution_count": 18,
   "id": "b7b39555-7461-48a1-8f7c-0f06df522311",
   "metadata": {},
   "outputs": [],
   "source": [
    "# Setup text vectorization variables\n",
    "max_vocab_length = 10000 # max number of words to have in our vocabulary\n",
    "max_length = 15 # max length our sequence will be (e.g. how many words from a Tweet does a model see?)\n",
    "\n",
    "text_vectorizer = TextVectorization(max_tokens=max_vocab_length,\n",
    "                                      output_sequence_length=max_length)"
   ]
  },
  {
   "cell_type": "code",
   "execution_count": 19,
   "id": "deae4edb-a0da-4d6f-9c4e-bca01269492e",
   "metadata": {},
   "outputs": [
    {
     "name": "stdout",
     "output_type": "stream",
     "text": [
      "WARNING:tensorflow:From C:\\Users\\shrih\\AppData\\Local\\Programs\\Python\\Python310\\lib\\site-packages\\keras\\src\\utils\\tf_utils.py:492: The name tf.ragged.RaggedTensorValue is deprecated. Please use tf.compat.v1.ragged.RaggedTensorValue instead.\n",
      "\n"
     ]
    }
   ],
   "source": [
    "# Fit the text vecotrizer to the training text\n",
    "text_vectorizer.adapt(train_sentences)"
   ]
  },
  {
   "cell_type": "code",
   "execution_count": 20,
   "id": "b1e21aed-61ac-4649-ae7d-26600031bfda",
   "metadata": {},
   "outputs": [
    {
     "data": {
      "text/plain": [
       "<tf.Tensor: shape=(1, 15), dtype=int64, numpy=\n",
       "array([[264,   3, 232,   4,  13, 698,   0,   0,   0,   0,   0,   0,   0,\n",
       "          0,   0]], dtype=int64)>"
      ]
     },
     "execution_count": 20,
     "metadata": {},
     "output_type": "execute_result"
    }
   ],
   "source": [
    "# Create a sample sentence and tokenize it\n",
    "sample_sentence = \"There's a flood in my street!\"\n",
    "text_vectorizer([sample_sentence])"
   ]
  },
  {
   "cell_type": "code",
   "execution_count": 21,
   "id": "a8b41c35-828f-492d-be04-a58c68ff5634",
   "metadata": {},
   "outputs": [
    {
     "name": "stdout",
     "output_type": "stream",
     "text": [
      "Original text:\n",
      " mentions of 'theatre +shooting' on Twitter spike 30min prior to $ckec collapse http://t.co/uuBOvy9GQI     \n",
      "\n",
      "Vectorized version: \n"
     ]
    },
    {
     "data": {
      "text/plain": [
       "<tf.Tensor: shape=(1, 15), dtype=int64, numpy=\n",
       "array([[2050,    6, 1951,  617,   11,  382, 8223,    1, 2782,    5,    1,\n",
       "         155,    1,    0,    0]], dtype=int64)>"
      ]
     },
     "execution_count": 21,
     "metadata": {},
     "output_type": "execute_result"
    }
   ],
   "source": [
    "# Choose a random sentence from the training dataset and tokenize it\n",
    "random_sentence = random.choice(train_sentences)\n",
    "print(f\"Original text:\\n {random_sentence}\\\n",
    "     \\n\\nVectorized version: \")\n",
    "text_vectorizer([random_sentence])"
   ]
  },
  {
   "cell_type": "code",
   "execution_count": 22,
   "id": "c36cfd22-a0ad-43d8-9b76-4d36073e7907",
   "metadata": {},
   "outputs": [
    {
     "name": "stdout",
     "output_type": "stream",
     "text": [
      "Number of words in vocab: 10000\n",
      "5 Most common words: ['', '[UNK]', 'the', 'a', 'in']\n",
      "5 Least common words: ['pages', 'paeds', 'pads', 'padres', 'paddytomlinson1']\n"
     ]
    }
   ],
   "source": [
    "# Get the unique words in vocabulary\n",
    "words_in_vocab = text_vectorizer.get_vocabulary() # get all of the unique words in the training data\n",
    "top_5_words = words_in_vocab[:5] # get the most common words\n",
    "bottom_5_words = words_in_vocab[-5:] # get the least common words\n",
    "print(f\"Number of words in vocab: {len(words_in_vocab)}\")\n",
    "print(f\"5 Most common words: {top_5_words}\")\n",
    "print(f\"5 Least common words: {bottom_5_words}\")"
   ]
  },
  {
   "cell_type": "markdown",
   "id": "7c737035-9e9f-4195-b264-5216f99db744",
   "metadata": {},
   "source": [
    "### Creating an Embedding using Embeddin Layer\n",
    "\n",
    "The paramter we care most about for our embedding layer:\n",
    "- `input_dim` = the size of our vocabulary\n",
    "- `output_dim` = the size of the output embedding vector, for example, a value of 100 would mean each token gets represented by a vector 100 long\n",
    "- `input_length` = length of the sequences being passed to the embedding layer"
   ]
  },
  {
   "cell_type": "code",
   "execution_count": 23,
   "id": "2dd178dd-18c7-45cc-bac2-33c3b7a68bb8",
   "metadata": {},
   "outputs": [],
   "source": [
    "from tensorflow.keras import layers"
   ]
  },
  {
   "cell_type": "code",
   "execution_count": 24,
   "id": "66969503-b752-45c7-831b-f40c6eb99da3",
   "metadata": {},
   "outputs": [
    {
     "data": {
      "text/plain": [
       "(10000, 15)"
      ]
     },
     "execution_count": 24,
     "metadata": {},
     "output_type": "execute_result"
    }
   ],
   "source": [
    "max_vocab_length, max_length"
   ]
  },
  {
   "cell_type": "code",
   "execution_count": 25,
   "id": "ec9d839b-1e46-43a2-847d-805cba6791f1",
   "metadata": {},
   "outputs": [
    {
     "data": {
      "text/plain": [
       "<keras.src.layers.core.embedding.Embedding at 0x108d9a79b40>"
      ]
     },
     "execution_count": 25,
     "metadata": {},
     "output_type": "execute_result"
    }
   ],
   "source": [
    "embedding = layers.Embedding(input_dim=max_vocab_length, # set input shape\n",
    "                            output_dim=128, # output shape\n",
    "                            input_length=max_length # how long is each input\n",
    "                            ) \n",
    "embedding"
   ]
  },
  {
   "cell_type": "code",
   "execution_count": 26,
   "id": "83a1842d-af6d-4f53-8667-ea86c90651ad",
   "metadata": {},
   "outputs": [
    {
     "name": "stdout",
     "output_type": "stream",
     "text": [
      "Original text:\n",
      " Harshness Follows Us a\n",
      "Better Day\n",
      "by Sarah C\n",
      "Racing thoughts with screaming sirens\n",
      "Pacing back and forth for... http://t.co/ProNtOuo91    \n",
      "Embedded version:\n"
     ]
    },
    {
     "data": {
      "text/plain": [
       "<tf.Tensor: shape=(1, 15, 128), dtype=float32, numpy=\n",
       "array([[[-0.03090152, -0.03370758,  0.00092022, ..., -0.00383916,\n",
       "          0.01627164, -0.01622596],\n",
       "        [ 0.04146374,  0.0239217 ,  0.04596612, ..., -0.03964501,\n",
       "          0.02929964, -0.00799692],\n",
       "        [-0.02877517,  0.02431269, -0.00027614, ...,  0.04852494,\n",
       "         -0.01090112,  0.0163198 ],\n",
       "        ...,\n",
       "        [ 0.00623779,  0.03105433, -0.01683553, ...,  0.04877551,\n",
       "         -0.02308056, -0.04875856],\n",
       "        [-0.03341652, -0.04855214, -0.0485457 , ..., -0.0147303 ,\n",
       "          0.0390857 ,  0.02931849],\n",
       "        [-0.03090152, -0.03370758,  0.00092022, ..., -0.00383916,\n",
       "          0.01627164, -0.01622596]]], dtype=float32)>"
      ]
     },
     "execution_count": 26,
     "metadata": {},
     "output_type": "execute_result"
    }
   ],
   "source": [
    "# Get a random sentence from the training set\n",
    "random_sentence = random.choice(train_sentences)\n",
    "print(f\"Original text:\\n {random_sentence}\\\n",
    "    \\nEmbedded version:\")\n",
    "\n",
    "# Embed the random sentence (turn it into dense vectors of fixed size)\n",
    "sample_embed = embedding(text_vectorizer([random_sentence]))\n",
    "sample_embed"
   ]
  },
  {
   "cell_type": "code",
   "execution_count": 27,
   "id": "2425bb16-0de9-403b-920d-898e3bbbe5a4",
   "metadata": {},
   "outputs": [
    {
     "data": {
      "text/plain": [
       "(<tf.Tensor: shape=(128,), dtype=float32, numpy=\n",
       " array([-0.03090152, -0.03370758,  0.00092022, -0.0086095 , -0.03804547,\n",
       "        -0.04493318,  0.02411605,  0.03888411, -0.0249571 , -0.0306203 ,\n",
       "         0.03890071,  0.0379152 , -0.0357147 , -0.03568275,  0.00411243,\n",
       "         0.04556698,  0.02997614, -0.03850775, -0.00965884, -0.03599235,\n",
       "        -0.01208848,  0.03207758,  0.01139784, -0.02447828, -0.04857664,\n",
       "         0.01688609, -0.02861773, -0.0019627 ,  0.04603562, -0.00577309,\n",
       "         0.04666367, -0.02760726, -0.01030301, -0.01411235, -0.02219879,\n",
       "         0.0304342 , -0.04332565,  0.01761342, -0.03292984, -0.03531207,\n",
       "         0.00359563, -0.03467093,  0.00055759,  0.03771878, -0.01229365,\n",
       "        -0.01313975, -0.02315599,  0.01225804, -0.01941505, -0.03976064,\n",
       "        -0.00790075,  0.00418667,  0.00695854, -0.00357392,  0.03846038,\n",
       "         0.00647309, -0.03798984,  0.03680476,  0.01285467, -0.03841024,\n",
       "        -0.02369889,  0.00769509,  0.02900166,  0.02894132,  0.01656932,\n",
       "         0.02128172,  0.04478966,  0.02107162, -0.00959828, -0.01547012,\n",
       "         0.00524825,  0.03452598, -0.00610089,  0.02696632,  0.00380205,\n",
       "        -0.03973689,  0.00405155, -0.00394983, -0.00841501, -0.04470487,\n",
       "         0.00510639,  0.00634629,  0.01438424, -0.01964146, -0.01967303,\n",
       "        -0.03246728, -0.04907646,  0.0214971 , -0.0419229 ,  0.04408224,\n",
       "        -0.03043598, -0.03426196,  0.0389809 , -0.04890258,  0.04431092,\n",
       "         0.04888269, -0.0169212 , -0.03977967, -0.04102153, -0.04618806,\n",
       "        -0.03603814,  0.01692666, -0.02046865, -0.01534792,  0.00220621,\n",
       "         0.01463535,  0.02016293,  0.0290591 , -0.04779239, -0.02240591,\n",
       "         0.03266494,  0.04792323,  0.0146294 , -0.00172863, -0.01020437,\n",
       "        -0.04996816,  0.0457366 , -0.01691943,  0.03596324,  0.03513094,\n",
       "        -0.01742817, -0.0468575 , -0.01209833, -0.02710197, -0.0134712 ,\n",
       "        -0.00383916,  0.01627164, -0.01622596], dtype=float32)>,\n",
       " TensorShape([128]),\n",
       " 'Harshness Follows Us a\\nBetter Day\\nby Sarah C\\nRacing thoughts with screaming sirens\\nPacing back and forth for... http://t.co/ProNtOuo91')"
      ]
     },
     "execution_count": 27,
     "metadata": {},
     "output_type": "execute_result"
    }
   ],
   "source": [
    "# Check out a single token's embedding\n",
    "sample_embed[0][0], sample_embed[0][0].shape, random_sentence"
   ]
  },
  {
   "cell_type": "markdown",
   "id": "0ba9b771-2924-4b3c-bd1a-20279b30e60b",
   "metadata": {},
   "source": [
    "## Modelling a text dataset (running a series of experiments)\n",
    "\n",
    "We'll start with a baseline and move on from there.\n",
    "\n",
    "* Model 0: Naive Bayes (baseline)\n",
    "* Model 1: Feed-Forword neural network (dense model)\n",
    "* Model 2: LSTM model (RNN)\n",
    "* Model 3: GRU model (RNN)\n",
    "* Model 4: Bidirectional-LSTM model (RNN)\n",
    "* Model 5: 1D Convulational Neural Network (CNN)\n",
    "* Model 6: TensorFlow Hub Pretrained Feature Extractor (using tranfer learning for NLP)\n",
    "* Model 7: Same as model 6 with 10% of training data"
   ]
  },
  {
   "cell_type": "markdown",
   "id": "4a3dba7b-7fab-412a-8cfa-9ae8be9e043a",
   "metadata": {},
   "source": [
    "## Model 0: Baseline\n",
    "\n",
    "To create our baseline, we'll use Sklearn's Multinomial Naive Bayes using TF-IDF formula to convert our words to numbers."
   ]
  },
  {
   "cell_type": "code",
   "execution_count": 28,
   "id": "c9942535-f924-403d-8a45-91e8e2a2918f",
   "metadata": {},
   "outputs": [],
   "source": [
    "from sklearn.feature_extraction.text import TfidfVectorizer\n",
    "from sklearn.naive_bayes import MultinomialNB\n",
    "from sklearn.pipeline import Pipeline"
   ]
  },
  {
   "cell_type": "code",
   "execution_count": 29,
   "id": "0a80124a-4023-42c1-9b67-6e14745d5cd4",
   "metadata": {},
   "outputs": [
    {
     "data": {
      "text/html": [
       "<style>#sk-container-id-1 {color: black;}#sk-container-id-1 pre{padding: 0;}#sk-container-id-1 div.sk-toggleable {background-color: white;}#sk-container-id-1 label.sk-toggleable__label {cursor: pointer;display: block;width: 100%;margin-bottom: 0;padding: 0.3em;box-sizing: border-box;text-align: center;}#sk-container-id-1 label.sk-toggleable__label-arrow:before {content: \"▸\";float: left;margin-right: 0.25em;color: #696969;}#sk-container-id-1 label.sk-toggleable__label-arrow:hover:before {color: black;}#sk-container-id-1 div.sk-estimator:hover label.sk-toggleable__label-arrow:before {color: black;}#sk-container-id-1 div.sk-toggleable__content {max-height: 0;max-width: 0;overflow: hidden;text-align: left;background-color: #f0f8ff;}#sk-container-id-1 div.sk-toggleable__content pre {margin: 0.2em;color: black;border-radius: 0.25em;background-color: #f0f8ff;}#sk-container-id-1 input.sk-toggleable__control:checked~div.sk-toggleable__content {max-height: 200px;max-width: 100%;overflow: auto;}#sk-container-id-1 input.sk-toggleable__control:checked~label.sk-toggleable__label-arrow:before {content: \"▾\";}#sk-container-id-1 div.sk-estimator input.sk-toggleable__control:checked~label.sk-toggleable__label {background-color: #d4ebff;}#sk-container-id-1 div.sk-label input.sk-toggleable__control:checked~label.sk-toggleable__label {background-color: #d4ebff;}#sk-container-id-1 input.sk-hidden--visually {border: 0;clip: rect(1px 1px 1px 1px);clip: rect(1px, 1px, 1px, 1px);height: 1px;margin: -1px;overflow: hidden;padding: 0;position: absolute;width: 1px;}#sk-container-id-1 div.sk-estimator {font-family: monospace;background-color: #f0f8ff;border: 1px dotted black;border-radius: 0.25em;box-sizing: border-box;margin-bottom: 0.5em;}#sk-container-id-1 div.sk-estimator:hover {background-color: #d4ebff;}#sk-container-id-1 div.sk-parallel-item::after {content: \"\";width: 100%;border-bottom: 1px solid gray;flex-grow: 1;}#sk-container-id-1 div.sk-label:hover label.sk-toggleable__label {background-color: #d4ebff;}#sk-container-id-1 div.sk-serial::before {content: \"\";position: absolute;border-left: 1px solid gray;box-sizing: border-box;top: 0;bottom: 0;left: 50%;z-index: 0;}#sk-container-id-1 div.sk-serial {display: flex;flex-direction: column;align-items: center;background-color: white;padding-right: 0.2em;padding-left: 0.2em;position: relative;}#sk-container-id-1 div.sk-item {position: relative;z-index: 1;}#sk-container-id-1 div.sk-parallel {display: flex;align-items: stretch;justify-content: center;background-color: white;position: relative;}#sk-container-id-1 div.sk-item::before, #sk-container-id-1 div.sk-parallel-item::before {content: \"\";position: absolute;border-left: 1px solid gray;box-sizing: border-box;top: 0;bottom: 0;left: 50%;z-index: -1;}#sk-container-id-1 div.sk-parallel-item {display: flex;flex-direction: column;z-index: 1;position: relative;background-color: white;}#sk-container-id-1 div.sk-parallel-item:first-child::after {align-self: flex-end;width: 50%;}#sk-container-id-1 div.sk-parallel-item:last-child::after {align-self: flex-start;width: 50%;}#sk-container-id-1 div.sk-parallel-item:only-child::after {width: 0;}#sk-container-id-1 div.sk-dashed-wrapped {border: 1px dashed gray;margin: 0 0.4em 0.5em 0.4em;box-sizing: border-box;padding-bottom: 0.4em;background-color: white;}#sk-container-id-1 div.sk-label label {font-family: monospace;font-weight: bold;display: inline-block;line-height: 1.2em;}#sk-container-id-1 div.sk-label-container {text-align: center;}#sk-container-id-1 div.sk-container {/* jupyter's `normalize.less` sets `[hidden] { display: none; }` but bootstrap.min.css set `[hidden] { display: none !important; }` so we also need the `!important` here to be able to override the default hidden behavior on the sphinx rendered scikit-learn.org. See: https://github.com/scikit-learn/scikit-learn/issues/21755 */display: inline-block !important;position: relative;}#sk-container-id-1 div.sk-text-repr-fallback {display: none;}</style><div id=\"sk-container-id-1\" class=\"sk-top-container\"><div class=\"sk-text-repr-fallback\"><pre>Pipeline(steps=[(&#x27;tfidf&#x27;, TfidfVectorizer()), (&#x27;clf&#x27;, MultinomialNB())])</pre><b>In a Jupyter environment, please rerun this cell to show the HTML representation or trust the notebook. <br />On GitHub, the HTML representation is unable to render, please try loading this page with nbviewer.org.</b></div><div class=\"sk-container\" hidden><div class=\"sk-item sk-dashed-wrapped\"><div class=\"sk-label-container\"><div class=\"sk-label sk-toggleable\"><input class=\"sk-toggleable__control sk-hidden--visually\" id=\"sk-estimator-id-1\" type=\"checkbox\" ><label for=\"sk-estimator-id-1\" class=\"sk-toggleable__label sk-toggleable__label-arrow\">Pipeline</label><div class=\"sk-toggleable__content\"><pre>Pipeline(steps=[(&#x27;tfidf&#x27;, TfidfVectorizer()), (&#x27;clf&#x27;, MultinomialNB())])</pre></div></div></div><div class=\"sk-serial\"><div class=\"sk-item\"><div class=\"sk-estimator sk-toggleable\"><input class=\"sk-toggleable__control sk-hidden--visually\" id=\"sk-estimator-id-2\" type=\"checkbox\" ><label for=\"sk-estimator-id-2\" class=\"sk-toggleable__label sk-toggleable__label-arrow\">TfidfVectorizer</label><div class=\"sk-toggleable__content\"><pre>TfidfVectorizer()</pre></div></div></div><div class=\"sk-item\"><div class=\"sk-estimator sk-toggleable\"><input class=\"sk-toggleable__control sk-hidden--visually\" id=\"sk-estimator-id-3\" type=\"checkbox\" ><label for=\"sk-estimator-id-3\" class=\"sk-toggleable__label sk-toggleable__label-arrow\">MultinomialNB</label><div class=\"sk-toggleable__content\"><pre>MultinomialNB()</pre></div></div></div></div></div></div></div>"
      ],
      "text/plain": [
       "Pipeline(steps=[('tfidf', TfidfVectorizer()), ('clf', MultinomialNB())])"
      ]
     },
     "execution_count": 29,
     "metadata": {},
     "output_type": "execute_result"
    }
   ],
   "source": [
    "# Create tokenization and modelling pipeline\n",
    "model_0 = Pipeline([\n",
    "    (\"tfidf\", TfidfVectorizer()), # Converts words to numbers using tfidf\n",
    "    (\"clf\", MultinomialNB()) # Model the text\n",
    "])\n",
    "\n",
    "# Fit the pipeline to the training data\n",
    "model_0.fit(train_sentences, train_labels)"
   ]
  },
  {
   "cell_type": "code",
   "execution_count": 30,
   "id": "9ffcddb6-5d31-4d5c-8324-cb717fa0bd33",
   "metadata": {},
   "outputs": [
    {
     "name": "stdout",
     "output_type": "stream",
     "text": [
      "Our baseline model achieves an accuracy of: 79.27%\n"
     ]
    }
   ],
   "source": [
    "# Evaluate our baseline model\n",
    "baseline_score = model_0.score(val_sentences, val_labels)\n",
    "print(f\"Our baseline model achieves an accuracy of: {baseline_score*100:.2f}%\")"
   ]
  },
  {
   "cell_type": "code",
   "execution_count": 31,
   "id": "a6bc755f-bbf6-4bd8-a832-bcabbdcc4ff2",
   "metadata": {},
   "outputs": [
    {
     "data": {
      "text/plain": [
       "array([1, 1, 1, 0, 0, 1, 1, 1, 1, 0, 0, 1, 0, 0, 0, 0, 0, 0, 0, 1],\n",
       "      dtype=int64)"
      ]
     },
     "execution_count": 31,
     "metadata": {},
     "output_type": "execute_result"
    }
   ],
   "source": [
    "# Make predictions\n",
    "baseline_preds = model_0.predict(val_sentences)\n",
    "baseline_preds[:20]"
   ]
  },
  {
   "cell_type": "markdown",
   "id": "051e3e10-5a7f-4db8-91e4-3d0aa4d58ac8",
   "metadata": {},
   "source": [
    "### Creating an evluation function for our model experiments"
   ]
  },
  {
   "cell_type": "code",
   "execution_count": 32,
   "id": "249c6893-8b44-4ad7-ac0e-e5dc96654752",
   "metadata": {},
   "outputs": [],
   "source": [
    "# Functions to evaluate: accuracy, precision, recall, f1-score\n",
    "from sklearn.metrics import accuracy_score, precision_recall_fscore_support\n",
    "\n",
    "def calculate_results(y_true, y_pred):\n",
    "    \"\"\"\n",
    "    Calculates model accuracy, precision, recall and f1 score of a binary classification model.\n",
    "    \"\"\"\n",
    "    # Calculate model accuracy\n",
    "    model_accuracy = accuracy_score(y_true, y_pred) * 100\n",
    "    # Calculate model precision, recall and f1-score using \"weighted\" average\n",
    "    model_precision, model_recall, model_f1, _ = precision_recall_fscore_support(y_true, y_pred, average=\"weighted\")\n",
    "    model_results = {\"accuracy\": model_accuracy,\n",
    "                    \"precision\": model_precision,\n",
    "                    \"recall\": model_recall,\n",
    "                    \"f1-score\": model_f1}\n",
    "    return model_results"
   ]
  },
  {
   "cell_type": "code",
   "execution_count": 33,
   "id": "cb57831b-ab9c-419c-acd6-2d0c643ada2a",
   "metadata": {},
   "outputs": [
    {
     "data": {
      "text/plain": [
       "{'accuracy': 79.26509186351706,\n",
       " 'precision': 0.8111390004213173,\n",
       " 'recall': 0.7926509186351706,\n",
       " 'f1-score': 0.7862189758049549}"
      ]
     },
     "execution_count": 33,
     "metadata": {},
     "output_type": "execute_result"
    }
   ],
   "source": [
    "# Get baseline results\n",
    "baseline_results = calculate_results(y_true=val_labels,\n",
    "                                    y_pred=baseline_preds)\n",
    "baseline_results"
   ]
  },
  {
   "cell_type": "markdown",
   "id": "31e8d59a-0493-42d4-9d31-712ed86cf029",
   "metadata": {},
   "source": [
    "## Model 1: A simple dense model"
   ]
  },
  {
   "cell_type": "code",
   "execution_count": 34,
   "id": "5e756667-38a1-4d10-a037-cbed4bdb81ed",
   "metadata": {},
   "outputs": [],
   "source": [
    "# Create a tensorboard vallback (need to create a new one for each model)\n",
    "\n",
    "# Create a directory to save Tensorboard logs\n",
    "SAVE_DIR = \"model_logs\""
   ]
  },
  {
   "cell_type": "code",
   "execution_count": 35,
   "id": "835154a9-350a-4d17-9f05-5d05c0934659",
   "metadata": {},
   "outputs": [],
   "source": [
    "# Buils model with the Functional API\n",
    "inputs = layers.Input(shape=(1,), dtype=tf.string) #inputs are 1-dimensional strings\n",
    "x = text_vectorizer(inputs) # Turn the input texts into numbers\n",
    "x = embedding(x) # create an embedding of the numberized inputs\n",
    "# x = layers.GlobalAveragePooling1D()(x) # condense the feature vector for each token to one vector\n",
    "x = layers.GlobalMaxPool1D()(x)\n",
    "outputs = layers.Dense(1, activation='sigmoid')(x) # create the output layer, want binary outputs so use sigmoid activation function\n",
    "model_1 = tf.keras.Model(inputs, outputs, name=\"model_1_dense\")"
   ]
  },
  {
   "cell_type": "code",
   "execution_count": 36,
   "id": "dc0e4e5a-eb2c-4f04-b838-f74319f8a3c6",
   "metadata": {},
   "outputs": [
    {
     "name": "stdout",
     "output_type": "stream",
     "text": [
      "Model: \"model_1_dense\"\n",
      "_________________________________________________________________\n",
      " Layer (type)                Output Shape              Param #   \n",
      "=================================================================\n",
      " input_1 (InputLayer)        [(None, 1)]               0         \n",
      "                                                                 \n",
      " text_vectorization_1 (Text  (None, 15)                0         \n",
      " Vectorization)                                                  \n",
      "                                                                 \n",
      " embedding (Embedding)       (None, 15, 128)           1280000   \n",
      "                                                                 \n",
      " global_max_pooling1d (Glob  (None, 128)               0         \n",
      " alMaxPooling1D)                                                 \n",
      "                                                                 \n",
      " dense (Dense)               (None, 1)                 129       \n",
      "                                                                 \n",
      "=================================================================\n",
      "Total params: 1280129 (4.88 MB)\n",
      "Trainable params: 1280129 (4.88 MB)\n",
      "Non-trainable params: 0 (0.00 Byte)\n",
      "_________________________________________________________________\n"
     ]
    }
   ],
   "source": [
    "model_1.summary()"
   ]
  },
  {
   "cell_type": "code",
   "execution_count": 37,
   "id": "f3a9ffa9-af9b-4418-8f3b-fed27f018cdf",
   "metadata": {},
   "outputs": [],
   "source": [
    "# Compile the model\n",
    "model_1.compile(loss=\"binary_crossentropy\",\n",
    "               optimizer=tf.keras.optimizers.Adam(),\n",
    "               metrics=['accuracy'])"
   ]
  },
  {
   "cell_type": "code",
   "execution_count": 38,
   "id": "1235e615-7bf3-4197-97ff-8b4eb38ccb76",
   "metadata": {},
   "outputs": [
    {
     "name": "stdout",
     "output_type": "stream",
     "text": [
      "Saving TensorBoard log files to: model_logs/model_1_dense/20240110-213727\n",
      "Epoch 1/5\n",
      "WARNING:tensorflow:From C:\\Users\\shrih\\AppData\\Local\\Programs\\Python\\Python310\\lib\\site-packages\\keras\\src\\engine\\base_layer_utils.py:384: The name tf.executing_eagerly_outside_functions is deprecated. Please use tf.compat.v1.executing_eagerly_outside_functions instead.\n",
      "\n",
      "215/215 [==============================] - 6s 15ms/step - loss: 0.6389 - accuracy: 0.6633 - val_loss: 0.5715 - val_accuracy: 0.7769\n",
      "Epoch 2/5\n",
      "215/215 [==============================] - 3s 14ms/step - loss: 0.4671 - accuracy: 0.8314 - val_loss: 0.4663 - val_accuracy: 0.7848\n",
      "Epoch 3/5\n",
      "215/215 [==============================] - 3s 13ms/step - loss: 0.3397 - accuracy: 0.8740 - val_loss: 0.4461 - val_accuracy: 0.7992\n",
      "Epoch 4/5\n",
      "215/215 [==============================] - 3s 13ms/step - loss: 0.2572 - accuracy: 0.9070 - val_loss: 0.4518 - val_accuracy: 0.7979\n",
      "Epoch 5/5\n",
      "215/215 [==============================] - 3s 13ms/step - loss: 0.1975 - accuracy: 0.9343 - val_loss: 0.4640 - val_accuracy: 0.7887\n"
     ]
    }
   ],
   "source": [
    "# Fit the model\n",
    "model_1_history = model_1.fit(train_sentences,\n",
    "                              train_labels,\n",
    "                              epochs=5,\n",
    "                              validation_data=(val_sentences, val_labels),\n",
    "                              callbacks=[create_tensorboard_callback(dir_name=SAVE_DIR,\n",
    "                                                                    experiment_name='model_1_dense')])"
   ]
  },
  {
   "cell_type": "code",
   "execution_count": 39,
   "id": "611d51a3-a503-4033-a387-1231474b35e3",
   "metadata": {},
   "outputs": [
    {
     "name": "stdout",
     "output_type": "stream",
     "text": [
      "24/24 [==============================] - 0s 2ms/step - loss: 0.4640 - accuracy: 0.7887\n"
     ]
    },
    {
     "data": {
      "text/plain": [
       "[0.46402522921562195, 0.7887139320373535]"
      ]
     },
     "execution_count": 39,
     "metadata": {},
     "output_type": "execute_result"
    }
   ],
   "source": [
    "# Check the results\n",
    "model_1.evaluate(val_sentences, val_labels)"
   ]
  },
  {
   "cell_type": "code",
   "execution_count": 40,
   "id": "8179ba40-4ffd-414b-bb55-5b154ea7eacb",
   "metadata": {},
   "outputs": [
    {
     "name": "stdout",
     "output_type": "stream",
     "text": [
      "24/24 [==============================] - 0s 2ms/step\n"
     ]
    },
    {
     "data": {
      "text/plain": [
       "array([0.41438612], dtype=float32)"
      ]
     },
     "execution_count": 40,
     "metadata": {},
     "output_type": "execute_result"
    }
   ],
   "source": [
    "# Make some predictions and evaluate those\n",
    "model_1_pred_probs = model_1.predict(val_sentences)\n",
    "model_1_pred_probs[0]"
   ]
  },
  {
   "cell_type": "code",
   "execution_count": 41,
   "id": "1e8b9909-c4cf-447a-a746-cd0bdede8e41",
   "metadata": {},
   "outputs": [
    {
     "data": {
      "text/plain": [
       "<tf.Tensor: shape=(10,), dtype=float32, numpy=array([0., 1., 1., 0., 0., 1., 1., 1., 1., 0.], dtype=float32)>"
      ]
     },
     "execution_count": 41,
     "metadata": {},
     "output_type": "execute_result"
    }
   ],
   "source": [
    "# Convert model prediction probabilites to label format\n",
    "model_1_preds = tf.squeeze(tf.round(model_1_pred_probs))\n",
    "model_1_preds[:10]"
   ]
  },
  {
   "cell_type": "code",
   "execution_count": 42,
   "id": "5b51f1e3-96a7-4dd8-bf98-b254d08c12e5",
   "metadata": {},
   "outputs": [
    {
     "data": {
      "text/plain": [
       "{'accuracy': 78.87139107611549,\n",
       " 'precision': 0.7943691525527891,\n",
       " 'recall': 0.7887139107611548,\n",
       " 'f1-score': 0.7855210885289512}"
      ]
     },
     "execution_count": 42,
     "metadata": {},
     "output_type": "execute_result"
    }
   ],
   "source": [
    "# Calculate our model_1 results\n",
    "model_1_results = calculate_results(y_true=val_labels,\n",
    "                                   y_pred=model_1_preds)\n",
    "model_1_results"
   ]
  },
  {
   "cell_type": "markdown",
   "id": "ed074ada-6b21-451f-8c91-33b7d6928b4d",
   "metadata": {},
   "source": [
    "## Visualizing learned embeddings"
   ]
  },
  {
   "cell_type": "code",
   "execution_count": 43,
   "id": "2dd861eb-4449-4ced-9208-30830bdacd67",
   "metadata": {},
   "outputs": [
    {
     "data": {
      "text/plain": [
       "(10000, ['', '[UNK]', 'the', 'a', 'in', 'to', 'of', 'and', 'i', 'is'])"
      ]
     },
     "execution_count": 43,
     "metadata": {},
     "output_type": "execute_result"
    }
   ],
   "source": [
    "# Get the vocabulary from the text vectorization layer\n",
    "words_in_vocab = text_vectorizer.get_vocabulary()\n",
    "len(words_in_vocab), words_in_vocab[:10]"
   ]
  },
  {
   "cell_type": "code",
   "execution_count": 44,
   "id": "11da540c-d231-4854-a588-734cfcb5a51b",
   "metadata": {},
   "outputs": [
    {
     "name": "stdout",
     "output_type": "stream",
     "text": [
      "Model: \"model_1_dense\"\n",
      "_________________________________________________________________\n",
      " Layer (type)                Output Shape              Param #   \n",
      "=================================================================\n",
      " input_1 (InputLayer)        [(None, 1)]               0         \n",
      "                                                                 \n",
      " text_vectorization_1 (Text  (None, 15)                0         \n",
      " Vectorization)                                                  \n",
      "                                                                 \n",
      " embedding (Embedding)       (None, 15, 128)           1280000   \n",
      "                                                                 \n",
      " global_max_pooling1d (Glob  (None, 128)               0         \n",
      " alMaxPooling1D)                                                 \n",
      "                                                                 \n",
      " dense (Dense)               (None, 1)                 129       \n",
      "                                                                 \n",
      "=================================================================\n",
      "Total params: 1280129 (4.88 MB)\n",
      "Trainable params: 1280129 (4.88 MB)\n",
      "Non-trainable params: 0 (0.00 Byte)\n",
      "_________________________________________________________________\n"
     ]
    }
   ],
   "source": [
    "# Model 1 summary\n",
    "model_1.summary()"
   ]
  },
  {
   "cell_type": "code",
   "execution_count": 45,
   "id": "8bafa5ff-6a67-4d7d-af1d-229b332ed118",
   "metadata": {},
   "outputs": [
    {
     "data": {
      "text/plain": [
       "(10000, 128)"
      ]
     },
     "execution_count": 45,
     "metadata": {},
     "output_type": "execute_result"
    }
   ],
   "source": [
    "# Get the weight matrix of embedding layer\n",
    "# these are the numerical representations of each token in our training data, which have been learned for -5 epochs\n",
    "embed_weights = model_1.get_layer(\"embedding\").get_weights()[0]\n",
    "embed_weights.shape # same size as vocab size and embedding_dim (output_dim of our embedding layer)"
   ]
  },
  {
   "cell_type": "code",
   "execution_count": 46,
   "id": "a4d31302-4490-442e-8dec-2ca275f618ac",
   "metadata": {},
   "outputs": [],
   "source": [
    "# Create embedding files (we got this from TensorFlow's word embeddings documentation)\n",
    "import io\n",
    "out_v = io.open('vectors.tsv', 'w', encoding='utf-8')\n",
    "out_m = io.open('metadata.tsv', 'w', encoding='utf-8')\n",
    "\n",
    "for index, word in enumerate(words_in_vocab):\n",
    "  if index == 0:\n",
    "    continue  # skip 0, it's padding.\n",
    "  vec = embed_weights[index]\n",
    "  out_v.write('\\t'.join([str(x) for x in vec]) + \"\\n\")\n",
    "  out_m.write(word + \"\\n\")\n",
    "out_v.close()\n",
    "out_m.close()"
   ]
  },
  {
   "cell_type": "markdown",
   "id": "228e59d8-fddb-470b-aa15-2b8d8f5f63c8",
   "metadata": {},
   "source": [
    "## Recurrent Neural Networks (RNN's)\n",
    "\n",
    "RNN's are useful for sequence data.\n",
    "\n",
    "The output from the previous step is fed as input to the current step."
   ]
  },
  {
   "cell_type": "markdown",
   "id": "605eb12b-4727-4174-9f98-c6c5014c12f3",
   "metadata": {},
   "source": [
    "## Model 2: LSTM\n",
    "\n",
    "LSTM = Long Short Term Memory\n",
    "\n",
    "Our structure of an RNN typically looks like this:\n",
    "\n",
    "`input (text) -> Tokenize -> Embedding -> Layers (RNNs/dense) -> Output (labbel probability)`"
   ]
  },
  {
   "cell_type": "markdown",
   "id": "ea3a9c01-ed08-43a9-9c74-d15dc9a78dc4",
   "metadata": {},
   "source": [
    "### LSTM: Key concepts\n",
    "\n",
    "1. Maintain a **cell state**\n",
    "2. USe **gates** to control the flow of information\n",
    "   * **Forget** gate gets rid of irrelevant information\n",
    "   * **Store** relevent information from current input\n",
    "   * Selectively **update** cell state\n",
    "   * **Output** gate returns a filtered version of the cell state"
   ]
  },
  {
   "cell_type": "markdown",
   "id": "24b521a3-ba47-4e2e-90be-825a615fc8d8",
   "metadata": {},
   "source": [
    "And to make sure we're not getting reusing trained embeddings (this would involve data leakage between models, leading to an uneven comparison later on), we'll create another embedding layer `(model_2_embedding)` for our model.The `text_vextorizer` layer can vev reused since it doesn't get updated during training"
   ]
  },
  {
   "cell_type": "markdown",
   "id": "c0e4f2cc-724b-4871-a07c-c40966ce8a2b",
   "metadata": {},
   "source": [
    "> 🔑 **NOTE**: The reason we use a new embedding layer for each model is since the embedding layer is a learned representation of words (as numbers), if we were to use the same embedding layer `(embedding_1)` for each model, we'd be mixing what one model learned with the next. And because we want to compare our models later on, starting them with their own embedding layer each time is a better idea."
   ]
  },
  {
   "cell_type": "code",
   "execution_count": 47,
   "id": "190947b3-66e6-471b-8d90-3f8038d0f484",
   "metadata": {},
   "outputs": [
    {
     "name": "stdout",
     "output_type": "stream",
     "text": [
      "(None, 15, 128)\n",
      "(None, 64)\n"
     ]
    }
   ],
   "source": [
    "# Set random seed and create embedding layer (new embedding layer for each model)\n",
    "tf.random.set_seed(42)\n",
    "model_2_embedding = layers.Embedding(input_dim=max_vocab_length,\n",
    "                                    output_dim=128,\n",
    "                                    embeddings_initializer='uniform',\n",
    "                                    input_length=max_length,\n",
    "                                    name=\"embedding_2\")\n",
    "\n",
    "# Create an LSTM model\n",
    "inputs = layers.Input(shape=(1,), dtype=\"string\")\n",
    "x = text_vectorizer(inputs)\n",
    "x = model_2_embedding(x)\n",
    "print(x.shape)\n",
    "# x = layers.LSTM(64, return_sequences=True) # When you're stacking RNN cells together, you need to set return_sequence=True\n",
    "x = layers.LSTM(64)(x)\n",
    "print(x.shape)\n",
    "# x = layers.Dense(64, activation='relu')(x)\n",
    "outputs = layers.Dense(1, activation='sigmoid')(x)\n",
    "model_2 = tf.keras.Model(inputs, outputs, name=\"model_2_LSTM\")"
   ]
  },
  {
   "cell_type": "code",
   "execution_count": 48,
   "id": "5283f6a2-b961-490c-8e95-e306449480de",
   "metadata": {},
   "outputs": [
    {
     "name": "stdout",
     "output_type": "stream",
     "text": [
      "Model: \"model_2_LSTM\"\n",
      "_________________________________________________________________\n",
      " Layer (type)                Output Shape              Param #   \n",
      "=================================================================\n",
      " input_2 (InputLayer)        [(None, 1)]               0         \n",
      "                                                                 \n",
      " text_vectorization_1 (Text  (None, 15)                0         \n",
      " Vectorization)                                                  \n",
      "                                                                 \n",
      " embedding_2 (Embedding)     (None, 15, 128)           1280000   \n",
      "                                                                 \n",
      " lstm (LSTM)                 (None, 64)                49408     \n",
      "                                                                 \n",
      " dense_1 (Dense)             (None, 1)                 65        \n",
      "                                                                 \n",
      "=================================================================\n",
      "Total params: 1329473 (5.07 MB)\n",
      "Trainable params: 1329473 (5.07 MB)\n",
      "Non-trainable params: 0 (0.00 Byte)\n",
      "_________________________________________________________________\n"
     ]
    }
   ],
   "source": [
    "# Get a summary\n",
    "model_2.summary()"
   ]
  },
  {
   "cell_type": "code",
   "execution_count": 49,
   "id": "6d809859-f8b8-4687-9837-bc4131c9ac53",
   "metadata": {},
   "outputs": [],
   "source": [
    "# compile the model\n",
    "model_2.compile(loss='binary_crossentropy',\n",
    "               optimizer=tf.keras.optimizers.Adam(),\n",
    "               metrics=['accuracy'])"
   ]
  },
  {
   "cell_type": "code",
   "execution_count": 50,
   "id": "f91ee71b-ecaf-4bf9-b52e-8a35db005cb3",
   "metadata": {},
   "outputs": [
    {
     "name": "stdout",
     "output_type": "stream",
     "text": [
      "Saving TensorBoard log files to: model_logs/model_2_LSTM/20240110-213746\n",
      "Epoch 1/5\n",
      "215/215 [==============================] - 7s 22ms/step - loss: 0.5079 - accuracy: 0.7454 - val_loss: 0.4557 - val_accuracy: 0.7730\n",
      "Epoch 2/5\n",
      "215/215 [==============================] - 4s 19ms/step - loss: 0.3145 - accuracy: 0.8727 - val_loss: 0.5182 - val_accuracy: 0.7730\n",
      "Epoch 3/5\n",
      "215/215 [==============================] - 4s 20ms/step - loss: 0.2170 - accuracy: 0.9168 - val_loss: 0.5864 - val_accuracy: 0.7625\n",
      "Epoch 4/5\n",
      "215/215 [==============================] - 4s 19ms/step - loss: 0.1519 - accuracy: 0.9476 - val_loss: 0.5895 - val_accuracy: 0.7782\n",
      "Epoch 5/5\n",
      "215/215 [==============================] - 4s 19ms/step - loss: 0.1051 - accuracy: 0.9616 - val_loss: 0.8520 - val_accuracy: 0.7612\n"
     ]
    }
   ],
   "source": [
    "# Fit the model\n",
    "model_2_history = model_2.fit(train_sentences,\n",
    "                             train_labels,\n",
    "                             epochs=5,\n",
    "                             validation_data=(val_sentences,val_labels),\n",
    "                             callbacks=[create_tensorboard_callback(SAVE_DIR,\n",
    "                                                                   \"model_2_LSTM\")])"
   ]
  },
  {
   "cell_type": "code",
   "execution_count": 51,
   "id": "0ae5a010-77c3-46b1-8909-91c2d362075e",
   "metadata": {},
   "outputs": [
    {
     "name": "stdout",
     "output_type": "stream",
     "text": [
      "24/24 [==============================] - 1s 5ms/step\n"
     ]
    },
    {
     "data": {
      "text/plain": [
       "array([[0.00364079],\n",
       "       [0.71935016],\n",
       "       [0.9991115 ],\n",
       "       [0.06534643],\n",
       "       [0.00171622],\n",
       "       [0.9993588 ],\n",
       "       [0.70030916],\n",
       "       [0.99959844],\n",
       "       [0.9993064 ],\n",
       "       [0.24501963]], dtype=float32)"
      ]
     },
     "execution_count": 51,
     "metadata": {},
     "output_type": "execute_result"
    }
   ],
   "source": [
    "# Make predictions with LSTM model\n",
    "model_2_pred_probs = model_2.predict(val_sentences)\n",
    "model_2_pred_probs[:10]"
   ]
  },
  {
   "cell_type": "code",
   "execution_count": 52,
   "id": "e8f2f510-a48c-4827-be80-f10e648c2ee3",
   "metadata": {},
   "outputs": [
    {
     "data": {
      "text/plain": [
       "<tf.Tensor: shape=(10,), dtype=float32, numpy=array([0., 1., 1., 0., 0., 1., 1., 1., 1., 0.], dtype=float32)>"
      ]
     },
     "execution_count": 52,
     "metadata": {},
     "output_type": "execute_result"
    }
   ],
   "source": [
    "# Convert model_2 pred probs to labels\n",
    "model_2_preds = tf.squeeze(tf.round(model_2_pred_probs))\n",
    "model_2_preds[:10]"
   ]
  },
  {
   "cell_type": "code",
   "execution_count": 53,
   "id": "a1ac220e-e8a5-462a-b822-38e200b1c670",
   "metadata": {},
   "outputs": [
    {
     "data": {
      "text/plain": [
       "{'accuracy': 76.11548556430446,\n",
       " 'precision': 0.7627664723727715,\n",
       " 'recall': 0.7611548556430446,\n",
       " 'f1-score': 0.7588524417705016}"
      ]
     },
     "execution_count": 53,
     "metadata": {},
     "output_type": "execute_result"
    }
   ],
   "source": [
    "# Calculate model_2 results\n",
    "model_2_results = calculate_results(y_true=val_labels,\n",
    "                                   y_pred=model_2_preds)\n",
    "model_2_results"
   ]
  },
  {
   "cell_type": "markdown",
   "id": "8787ce0c-ca05-44ba-aaac-183543a1ad03",
   "metadata": {},
   "source": [
    "## Model 3: GRU\n",
    "\n",
    "The GRU cell has similar features to an LSTM cell but has less paramters"
   ]
  },
  {
   "cell_type": "code",
   "execution_count": 54,
   "id": "a801c197-3d6e-4b47-a8b8-a69eb9bcb294",
   "metadata": {},
   "outputs": [],
   "source": [
    "# Set random seed and create embedding layer (new embedding layer for each model)\n",
    "tf.random.set_seed(42)\n",
    "model_3_embedding = layers.Embedding(input_dim=max_vocab_length,\n",
    "                                    output_dim=128,\n",
    "                                    input_length=max_length,\n",
    "                                    name=\"embedding_3\")\n",
    "\n",
    "# Build an RNN using GRU cell\n",
    "inputs = tf.keras.Input(shape=(1,), dtype=\"string\")\n",
    "x = text_vectorizer(inputs)\n",
    "x = model_3_embedding(x)\n",
    "x = layers.GRU(64)(x)\n",
    "# x = layers.GRU(64, return_sequences=True)(x) # if we want to stack recurrent layers on top of each other, you need to set return_sequence=True\n",
    "# print(x.shape)\n",
    "# x = layers.LSTM(64, return_sequences=True)(x)\n",
    "# print(x.shape)\n",
    "# x = layers.GRU(64)(x)\n",
    "# print(x.shape)\n",
    "# x = layers.Dense(64, activation='relu')(x)\n",
    "outputs = layers.Dense(1, activation='sigmoid')(x)\n",
    "model_3 = tf.keras.Model(inputs, outputs, name=\"model_3_GRU\")"
   ]
  },
  {
   "cell_type": "code",
   "execution_count": 55,
   "id": "8c0d56c5-a0f2-4d29-9d02-2482111df623",
   "metadata": {},
   "outputs": [
    {
     "name": "stdout",
     "output_type": "stream",
     "text": [
      "Model: \"model_3_GRU\"\n",
      "_________________________________________________________________\n",
      " Layer (type)                Output Shape              Param #   \n",
      "=================================================================\n",
      " input_3 (InputLayer)        [(None, 1)]               0         \n",
      "                                                                 \n",
      " text_vectorization_1 (Text  (None, 15)                0         \n",
      " Vectorization)                                                  \n",
      "                                                                 \n",
      " embedding_3 (Embedding)     (None, 15, 128)           1280000   \n",
      "                                                                 \n",
      " gru (GRU)                   (None, 64)                37248     \n",
      "                                                                 \n",
      " dense_2 (Dense)             (None, 1)                 65        \n",
      "                                                                 \n",
      "=================================================================\n",
      "Total params: 1317313 (5.03 MB)\n",
      "Trainable params: 1317313 (5.03 MB)\n",
      "Non-trainable params: 0 (0.00 Byte)\n",
      "_________________________________________________________________\n"
     ]
    }
   ],
   "source": [
    "model_3.summary()"
   ]
  },
  {
   "cell_type": "code",
   "execution_count": 56,
   "id": "fdb9d4d2-8a5c-486d-a049-8e7a580ab776",
   "metadata": {},
   "outputs": [],
   "source": [
    "# Compile the model\n",
    "model_3.compile(loss='binary_crossentropy',\n",
    "               optimizer=tf.keras.optimizers.Adam(),\n",
    "               metrics=['accuracy'])"
   ]
  },
  {
   "cell_type": "code",
   "execution_count": 57,
   "id": "19dd0484-bd1d-433d-9c57-ef845640f843",
   "metadata": {},
   "outputs": [
    {
     "name": "stdout",
     "output_type": "stream",
     "text": [
      "Saving TensorBoard log files to: model_logs/model_3_GRU/20240110-213810\n",
      "Epoch 1/5\n",
      "215/215 [==============================] - 7s 23ms/step - loss: 0.5308 - accuracy: 0.7228 - val_loss: 0.4558 - val_accuracy: 0.7756\n",
      "Epoch 2/5\n",
      "215/215 [==============================] - 4s 20ms/step - loss: 0.3198 - accuracy: 0.8672 - val_loss: 0.4908 - val_accuracy: 0.7835\n",
      "Epoch 3/5\n",
      "215/215 [==============================] - 4s 20ms/step - loss: 0.2151 - accuracy: 0.9178 - val_loss: 0.5698 - val_accuracy: 0.7743\n",
      "Epoch 4/5\n",
      "215/215 [==============================] - 4s 20ms/step - loss: 0.1500 - accuracy: 0.9491 - val_loss: 0.6460 - val_accuracy: 0.7756\n",
      "Epoch 5/5\n",
      "215/215 [==============================] - 4s 20ms/step - loss: 0.1128 - accuracy: 0.9610 - val_loss: 0.6163 - val_accuracy: 0.7690\n"
     ]
    }
   ],
   "source": [
    "# Fit the model\n",
    "model_3_history = model_3.fit(train_sentences,\n",
    "                             train_labels,\n",
    "                             validation_data=(val_sentences, val_labels),\n",
    "                             epochs=5,\n",
    "                             callbacks=[create_tensorboard_callback(SAVE_DIR,\n",
    "                                                                   \"model_3_GRU\")])"
   ]
  },
  {
   "cell_type": "code",
   "execution_count": 58,
   "id": "022c21fa-29bc-4096-adbe-58d97aeb2615",
   "metadata": {},
   "outputs": [
    {
     "name": "stdout",
     "output_type": "stream",
     "text": [
      "24/24 [==============================] - 1s 5ms/step\n"
     ]
    },
    {
     "data": {
      "text/plain": [
       "array([[0.40496296],\n",
       "       [0.91693306],\n",
       "       [0.99756384],\n",
       "       [0.1786995 ],\n",
       "       [0.00913915],\n",
       "       [0.99170476],\n",
       "       [0.7482027 ],\n",
       "       [0.99735737],\n",
       "       [0.99536693],\n",
       "       [0.34713897]], dtype=float32)"
      ]
     },
     "execution_count": 58,
     "metadata": {},
     "output_type": "execute_result"
    }
   ],
   "source": [
    "# Make predictions\n",
    "model_3_pred_probs = model_3.predict(val_sentences)\n",
    "model_3_pred_probs[:10]"
   ]
  },
  {
   "cell_type": "code",
   "execution_count": 59,
   "id": "059e8b7e-1a08-4103-9c27-744581c1aaf9",
   "metadata": {},
   "outputs": [
    {
     "data": {
      "text/plain": [
       "<tf.Tensor: shape=(10,), dtype=float32, numpy=array([0., 1., 1., 0., 0., 1., 1., 1., 1., 0.], dtype=float32)>"
      ]
     },
     "execution_count": 59,
     "metadata": {},
     "output_type": "execute_result"
    }
   ],
   "source": [
    "# Convert model_3 pred probs to labels\n",
    "model_3_preds = tf.squeeze(tf.round(model_3_pred_probs))\n",
    "model_3_preds[:10]"
   ]
  },
  {
   "cell_type": "code",
   "execution_count": 60,
   "id": "959f6650-2a38-45c7-a628-d171533edc2a",
   "metadata": {},
   "outputs": [
    {
     "data": {
      "text/plain": [
       "{'accuracy': 76.9028871391076,\n",
       " 'precision': 0.7687652149942675,\n",
       " 'recall': 0.7690288713910761,\n",
       " 'f1-score': 0.7682483510472345}"
      ]
     },
     "execution_count": 60,
     "metadata": {},
     "output_type": "execute_result"
    }
   ],
   "source": [
    "# Calculate model_3 results\n",
    "model_3_results = calculate_results(y_true=val_labels,\n",
    "                                   y_pred=model_3_preds)\n",
    "model_3_results"
   ]
  },
  {
   "cell_type": "markdown",
   "id": "44e6ba8f-a693-456c-8318-42cc2f457309",
   "metadata": {},
   "source": [
    "## Model 4: Birdirectional RNN"
   ]
  },
  {
   "cell_type": "code",
   "execution_count": 63,
   "id": "1d51b2a6-baed-46f0-b14b-8795e480d943",
   "metadata": {},
   "outputs": [],
   "source": [
    "# Set random seed and create embedding layer (new embedding layer for each model)\n",
    "tf.random.set_seed(42)\n",
    "model_4_embedding = layers.Embedding(input_dim=max_vocab_length,\n",
    "                                    input_length=max_length,\n",
    "                                    output_dim=128,\n",
    "                                    name=\"embedding_4\",\n",
    "                                    embeddings_initializer=\"uniform\")\n",
    "\n",
    "# build a Birdirectional RNN in TensorFlow\n",
    "inputs = layers.Input(shape=(1,), dtype=\"string\")\n",
    "x = text_vectorizer(inputs)\n",
    "x = model_4_embedding(x)\n",
    "# x = layers.Bidirectional(layers.LSTM(64, return_sequences=True))(x)\n",
    "x = layers.Bidirectional(layers.LSTM(64))(x)\n",
    "outputs =  layers.Dense(1, activation='sigmoid')(x)\n",
    "model_4 = tf.keras.Model(inputs, outputs, name=\"model_4_bidirectional\")"
   ]
  },
  {
   "cell_type": "code",
   "execution_count": 64,
   "id": "4b8dce27-ae46-4300-b52a-2e3473c6bc0e",
   "metadata": {},
   "outputs": [
    {
     "name": "stdout",
     "output_type": "stream",
     "text": [
      "Model: \"model_4_bidirectional\"\n",
      "_________________________________________________________________\n",
      " Layer (type)                Output Shape              Param #   \n",
      "=================================================================\n",
      " input_5 (InputLayer)        [(None, 1)]               0         \n",
      "                                                                 \n",
      " text_vectorization_1 (Text  (None, 15)                0         \n",
      " Vectorization)                                                  \n",
      "                                                                 \n",
      " embedding_4 (Embedding)     (None, 15, 128)           1280000   \n",
      "                                                                 \n",
      " bidirectional_2 (Bidirecti  (None, 128)               98816     \n",
      " onal)                                                           \n",
      "                                                                 \n",
      " dense_4 (Dense)             (None, 1)                 129       \n",
      "                                                                 \n",
      "=================================================================\n",
      "Total params: 1378945 (5.26 MB)\n",
      "Trainable params: 1378945 (5.26 MB)\n",
      "Non-trainable params: 0 (0.00 Byte)\n",
      "_________________________________________________________________\n"
     ]
    }
   ],
   "source": [
    "model_4.summary()"
   ]
  },
  {
   "cell_type": "code",
   "execution_count": 65,
   "id": "725e025a-a764-4ad3-ae8e-927bd0b934d2",
   "metadata": {},
   "outputs": [],
   "source": [
    "# Compile the model\n",
    "model_4.compile(loss='binary_crossentropy',\n",
    "               optimizer=tf.keras.optimizers.Adam(),\n",
    "               metrics=['accuracy'])"
   ]
  },
  {
   "cell_type": "code",
   "execution_count": 66,
   "id": "cface2cf-33d4-4974-9c14-ecdce8f31381",
   "metadata": {},
   "outputs": [
    {
     "name": "stdout",
     "output_type": "stream",
     "text": [
      "Saving TensorBoard log files to: model_logs/model_4_bidirectional/20240110-231443\n",
      "Epoch 1/5\n",
      "215/215 [==============================] - 14s 32ms/step - loss: 0.5062 - accuracy: 0.7485 - val_loss: 0.4594 - val_accuracy: 0.7835\n",
      "Epoch 2/5\n",
      "215/215 [==============================] - 5s 24ms/step - loss: 0.3113 - accuracy: 0.8753 - val_loss: 0.5389 - val_accuracy: 0.7690\n",
      "Epoch 3/5\n",
      "215/215 [==============================] - 5s 25ms/step - loss: 0.2092 - accuracy: 0.9215 - val_loss: 0.5745 - val_accuracy: 0.7664\n",
      "Epoch 4/5\n",
      "215/215 [==============================] - 5s 25ms/step - loss: 0.1413 - accuracy: 0.9529 - val_loss: 0.6528 - val_accuracy: 0.7769\n",
      "Epoch 5/5\n",
      "215/215 [==============================] - 6s 26ms/step - loss: 0.0987 - accuracy: 0.9653 - val_loss: 0.6831 - val_accuracy: 0.7703\n"
     ]
    }
   ],
   "source": [
    "# Fit the model\n",
    "model_4_history = model_4.fit(train_sentences,\n",
    "                             train_labels,\n",
    "                             validation_data=(val_sentences, val_labels),\n",
    "                             epochs=5,\n",
    "                             callbacks=[create_tensorboard_callback(SAVE_DIR,\n",
    "                                                                   \"model_4_bidirectional\")])"
   ]
  },
  {
   "cell_type": "code",
   "execution_count": 67,
   "id": "a986a734-bbb7-4ec3-95d4-1d000255dd99",
   "metadata": {},
   "outputs": [
    {
     "name": "stdout",
     "output_type": "stream",
     "text": [
      "24/24 [==============================] - 2s 8ms/step\n"
     ]
    },
    {
     "data": {
      "text/plain": [
       "array([[0.01921569],\n",
       "       [0.81667835],\n",
       "       [0.99922067],\n",
       "       [0.08623891],\n",
       "       [0.00286197],\n",
       "       [0.995832  ],\n",
       "       [0.8114718 ],\n",
       "       [0.9996013 ],\n",
       "       [0.999385  ],\n",
       "       [0.19528708]], dtype=float32)"
      ]
     },
     "execution_count": 67,
     "metadata": {},
     "output_type": "execute_result"
    }
   ],
   "source": [
    "# Make predictions\n",
    "model_4_preds_probs = model_4.predict(val_sentences)\n",
    "model_4_preds_probs[:10]"
   ]
  },
  {
   "cell_type": "code",
   "execution_count": 68,
   "id": "e091603d-065c-483a-be9f-17398f3b4803",
   "metadata": {},
   "outputs": [
    {
     "data": {
      "text/plain": [
       "<tf.Tensor: shape=(10,), dtype=float32, numpy=array([0., 1., 1., 0., 0., 1., 1., 1., 1., 0.], dtype=float32)>"
      ]
     },
     "execution_count": 68,
     "metadata": {},
     "output_type": "execute_result"
    }
   ],
   "source": [
    "model_4_preds = tf.squeeze(tf.round(model_4_preds_probs))\n",
    "model_4_preds[:10]"
   ]
  },
  {
   "cell_type": "code",
   "execution_count": 70,
   "id": "296afe8d-e7fc-4f61-9bc3-88d3cf90088a",
   "metadata": {},
   "outputs": [
    {
     "data": {
      "text/plain": [
       "{'accuracy': 77.03412073490814,\n",
       " 'precision': 0.7726339681635592,\n",
       " 'recall': 0.7703412073490814,\n",
       " 'f1-score': 0.7679241301282296}"
      ]
     },
     "execution_count": 70,
     "metadata": {},
     "output_type": "execute_result"
    }
   ],
   "source": [
    "# Calculate the results of our bidirectional model\n",
    "model_4_results = calculate_results(y_true=val_labels,\n",
    "                                   y_pred=model_4_preds)\n",
    "model_4_results"
   ]
  },
  {
   "cell_type": "markdown",
   "id": "f4b7ee80-75b0-4b92-9af8-dde14ab984ca",
   "metadata": {},
   "source": [
    "## Convolution Neural Network for Text"
   ]
  },
  {
   "cell_type": "markdown",
   "id": "ef92f422-7f6b-418a-8ceb-e5e1b2e64fa1",
   "metadata": {},
   "source": [
    "### Model 5: Conv1D"
   ]
  },
  {
   "cell_type": "code",
   "execution_count": 72,
   "id": "f687c89e-b9be-48c0-b163-a82e9365fcc4",
   "metadata": {},
   "outputs": [
    {
     "data": {
      "text/plain": [
       "(TensorShape([1, 15, 128]), TensorShape([1, 15, 32]), TensorShape([1, 32]))"
      ]
     },
     "execution_count": 72,
     "metadata": {},
     "output_type": "execute_result"
    }
   ],
   "source": [
    "# Test out our embedding layer, Conv1D layer and max pooling\n",
    "embedding_test = embedding(text_vectorizer(['this is a test sequence'])) # turn target sequence into embedding\n",
    "conv_1d = layers.Conv1D(filters=32,\n",
    "                       kernel_size=5, # this is also referd to as an input ngram of 5 (meaning it looks at 5 words at a time)\n",
    "                       activation='relu',\n",
    "                       padding='same') # default = \"valid\", the output is smaller than the input shape, \"same\" means output is same shape as input\n",
    "\n",
    "conv_1d_output = conv_1d(embedding_test) # pass test embedding through conv1d layer\n",
    "max_pool = layers.GlobalMaxPool1D()\n",
    "max_pool_output = max_pool(conv_1d_output) # equivalent to \"get the most important feature\" or \"get the feature with the highest value\"\n",
    "\n",
    "embedding_test.shape, conv_1d_output.shape, max_pool_output.shape"
   ]
  },
  {
   "cell_type": "code",
   "execution_count": 76,
   "id": "a2ea77f6-5774-4742-bf41-8fdab2d2213e",
   "metadata": {},
   "outputs": [],
   "source": [
    "# embedding_test"
   ]
  },
  {
   "cell_type": "code",
   "execution_count": 77,
   "id": "c34621ae-1689-4aec-8a07-e56fe9cd8def",
   "metadata": {
    "scrolled": true
   },
   "outputs": [],
   "source": [
    "# conv_1d_output"
   ]
  },
  {
   "cell_type": "code",
   "execution_count": 78,
   "id": "1929c9e2-9ec5-4abd-ae47-705b174322fe",
   "metadata": {},
   "outputs": [],
   "source": [
    "# max_pool_output"
   ]
  },
  {
   "cell_type": "code",
   "execution_count": 80,
   "id": "d6d89c5e-beb7-40fd-b6da-bafda0d8e1de",
   "metadata": {},
   "outputs": [
    {
     "name": "stdout",
     "output_type": "stream",
     "text": [
      "Model: \"model_5_Conv1D\"\n",
      "_________________________________________________________________\n",
      " Layer (type)                Output Shape              Param #   \n",
      "=================================================================\n",
      " input_7 (InputLayer)        [(None, 1)]               0         \n",
      "                                                                 \n",
      " text_vectorization_1 (Text  (None, 15)                0         \n",
      " Vectorization)                                                  \n",
      "                                                                 \n",
      " embedding_5 (Embedding)     (None, 15, 128)           1280000   \n",
      "                                                                 \n",
      " conv1d_3 (Conv1D)           (None, 11, 64)            41024     \n",
      "                                                                 \n",
      " global_max_pooling1d_4 (Gl  (None, 64)                0         \n",
      " obalMaxPooling1D)                                               \n",
      "                                                                 \n",
      " dense_5 (Dense)             (None, 1)                 65        \n",
      "                                                                 \n",
      "=================================================================\n",
      "Total params: 1321089 (5.04 MB)\n",
      "Trainable params: 1321089 (5.04 MB)\n",
      "Non-trainable params: 0 (0.00 Byte)\n",
      "_________________________________________________________________\n"
     ]
    }
   ],
   "source": [
    "# Set random seed and create embedding layer (new embedding layer for each model)\n",
    "tf.random.set_seed(42)\n",
    "model_5_embedding = layers.Embedding(input_dim=max_vocab_length,\n",
    "                                    input_length=max_length,\n",
    "                                    output_dim=128,\n",
    "                                    name=\"embedding_5\")\n",
    "\n",
    "# Create 1-dimensional convolutional layer to model sequence\n",
    "inputs = layers.Input(shape=(1,), dtype=\"string\")\n",
    "x = text_vectorizer(inputs)\n",
    "x = model_5_embedding(x)\n",
    "x = layers.Conv1D(filters=64, kernel_size=5, activation='relu')(x)\n",
    "x = layers.GlobalMaxPool1D()(x)\n",
    "# x = layers.Dense(64, activation=\"relu\")(x)\n",
    "outputs = layers.Dense(1, activation='sigmoid')(x)\n",
    "model_5 = tf.keras.Model(inputs, outputs, name=\"model_5_Conv1D\")\n",
    "\n",
    "# Compile the model\n",
    "model_5.compile(loss=\"binary_crossentropy\",\n",
    "               optimizer=tf.keras.optimizers.Adam(),\n",
    "               metrics=['accuracy'])\n",
    "\n",
    "model_5.summary()"
   ]
  },
  {
   "cell_type": "code",
   "execution_count": 81,
   "id": "de947e29-c3a6-4e2a-911d-3d0956284faa",
   "metadata": {},
   "outputs": [
    {
     "name": "stdout",
     "output_type": "stream",
     "text": [
      "Saving TensorBoard log files to: model_logs/Conv1D/20240111-212144\n",
      "Epoch 1/5\n",
      "215/215 [==============================] - 6s 19ms/step - loss: 0.5454 - accuracy: 0.7289 - val_loss: 0.4605 - val_accuracy: 0.7940\n",
      "Epoch 2/5\n",
      "215/215 [==============================] - 4s 17ms/step - loss: 0.3279 - accuracy: 0.8666 - val_loss: 0.4780 - val_accuracy: 0.7913\n",
      "Epoch 3/5\n",
      "215/215 [==============================] - 3s 16ms/step - loss: 0.2035 - accuracy: 0.9248 - val_loss: 0.5491 - val_accuracy: 0.7717\n",
      "Epoch 4/5\n",
      "215/215 [==============================] - 3s 16ms/step - loss: 0.1285 - accuracy: 0.9577 - val_loss: 0.6270 - val_accuracy: 0.7782\n",
      "Epoch 5/5\n",
      "215/215 [==============================] - 4s 18ms/step - loss: 0.0914 - accuracy: 0.9691 - val_loss: 0.6827 - val_accuracy: 0.7887\n"
     ]
    }
   ],
   "source": [
    "# Fit the model\n",
    "model_5_history = model_5.fit(train_sentences,\n",
    "                             train_labels,\n",
    "                             validation_data=(val_sentences, val_labels),\n",
    "                             epochs=5,\n",
    "                             callbacks=[create_tensorboard_callback(SAVE_DIR,\n",
    "                                                                   \"Conv1D\")])"
   ]
  },
  {
   "cell_type": "code",
   "execution_count": 82,
   "id": "32a9b70d-4142-45f3-80ef-efab3c54af45",
   "metadata": {},
   "outputs": [
    {
     "name": "stdout",
     "output_type": "stream",
     "text": [
      "24/24 [==============================] - 0s 5ms/step\n"
     ]
    },
    {
     "data": {
      "text/plain": [
       "array([[0.57653046],\n",
       "       [0.84108776],\n",
       "       [0.9999529 ],\n",
       "       [0.0578444 ],\n",
       "       [0.0075365 ],\n",
       "       [0.9952683 ],\n",
       "       [0.9701794 ],\n",
       "       [0.9973623 ],\n",
       "       [0.9997266 ],\n",
       "       [0.08895043]], dtype=float32)"
      ]
     },
     "execution_count": 82,
     "metadata": {},
     "output_type": "execute_result"
    }
   ],
   "source": [
    "model_5_preds_probs = model_5.predict(val_sentences)\n",
    "model_5_preds_probs[:10]"
   ]
  },
  {
   "cell_type": "code",
   "execution_count": 83,
   "id": "0b7cb3d2-aa81-428f-8ebe-7ee20c9c2c36",
   "metadata": {},
   "outputs": [
    {
     "data": {
      "text/plain": [
       "<tf.Tensor: shape=(10,), dtype=float32, numpy=array([1., 1., 1., 0., 0., 1., 1., 1., 1., 0.], dtype=float32)>"
      ]
     },
     "execution_count": 83,
     "metadata": {},
     "output_type": "execute_result"
    }
   ],
   "source": [
    "# Convert model 5 pred probs to labels\n",
    "model_5_preds = tf.squeeze(tf.round(model_5_preds_probs))\n",
    "model_5_preds[:10]"
   ]
  },
  {
   "cell_type": "code",
   "execution_count": 84,
   "id": "4d656836-b2aa-4894-93a7-dfbf41c76d4f",
   "metadata": {},
   "outputs": [
    {
     "data": {
      "text/plain": [
       "{'accuracy': 78.87139107611549,\n",
       " 'precision': 0.7939119079827037,\n",
       " 'recall': 0.7887139107611548,\n",
       " 'f1-score': 0.7856693843184869}"
      ]
     },
     "execution_count": 84,
     "metadata": {},
     "output_type": "execute_result"
    }
   ],
   "source": [
    "# Evaluate model 5 results\n",
    "model_5_results = calculate_results(y_true=val_labels,\n",
    "                                   y_pred=model_5_preds)\n",
    "model_5_results"
   ]
  },
  {
   "cell_type": "markdown",
   "id": "edbda077-d6e7-4c6b-81b8-56ecfee73e73",
   "metadata": {},
   "source": [
    ">🔑 **Note:** An **Encoder** is the name for a model which converts raw data such as text into numerical representation (feature vector), a **decoder** converts the numerical representation to a desired output"
   ]
  },
  {
   "cell_type": "markdown",
   "id": "3a87948b-e34c-4a76-b8f8-f3942631e897",
   "metadata": {},
   "source": [
    "## model 6: TensorFlow Hub Pretrained Sentence Encoder"
   ]
  },
  {
   "cell_type": "code",
   "execution_count": 86,
   "id": "90b8d254-e259-43d8-b12a-825e9c06ec01",
   "metadata": {},
   "outputs": [
    {
     "name": "stdout",
     "output_type": "stream",
     "text": [
      "WARNING:tensorflow:From C:\\Users\\shrih\\AppData\\Local\\Programs\\Python\\Python310\\lib\\site-packages\\tensorflow_hub\\module_v2.py:120: The name tf.saved_model.load_v2 is deprecated. Please use tf.compat.v2.saved_model.load instead.\n",
      "\n"
     ]
    },
    {
     "name": "stderr",
     "output_type": "stream",
     "text": [
      "WARNING:tensorflow:From C:\\Users\\shrih\\AppData\\Local\\Programs\\Python\\Python310\\lib\\site-packages\\tensorflow_hub\\module_v2.py:120: The name tf.saved_model.load_v2 is deprecated. Please use tf.compat.v2.saved_model.load instead.\n",
      "\n"
     ]
    },
    {
     "name": "stdout",
     "output_type": "stream",
     "text": [
      "tf.Tensor(\n",
      "[-0.01157025  0.02485911  0.02878051 -0.012715    0.03971541  0.08827761\n",
      "  0.02680988  0.05589838 -0.01068731 -0.00597293  0.00639321 -0.01819516\n",
      "  0.00030816  0.09105889  0.05874645 -0.03180629  0.01512474 -0.05162925\n",
      "  0.00991366 -0.06865345 -0.04209306  0.0267898   0.03011009  0.00321065\n",
      " -0.00337968 -0.04787356  0.0226672  -0.00985927 -0.04063615 -0.01292093\n",
      " -0.04666382  0.05630299 -0.03949255  0.00517682  0.02495827 -0.07014439\n",
      "  0.0287151   0.0494768  -0.00633978 -0.08960193  0.02807119 -0.00808364\n",
      " -0.01360601  0.05998649 -0.10361788 -0.05195372  0.00232958 -0.02332531\n",
      " -0.03758106  0.03327729], shape=(50,), dtype=float32)\n"
     ]
    }
   ],
   "source": [
    "import tensorflow_hub as hub\n",
    "embed = hub.load(\"https://www.kaggle.com/models/google/universal-sentence-encoder/frameworks/TensorFlow2/variations/universal-sentence-encoder/versions/2\")\n",
    "embed_samples = embed([sample_sentence,\n",
    "                      \"When you can the universal sentence encoder on a sentence, it turns it into numbers.\"])\n",
    "print(embed_samples[0][:50])"
   ]
  },
  {
   "cell_type": "code",
   "execution_count": 87,
   "id": "eb32f6f1-68fc-4807-b1c3-4137739373ea",
   "metadata": {},
   "outputs": [
    {
     "data": {
      "text/plain": [
       "TensorShape([512])"
      ]
     },
     "execution_count": 87,
     "metadata": {},
     "output_type": "execute_result"
    }
   ],
   "source": [
    "embed_samples[0].shape"
   ]
  },
  {
   "cell_type": "code",
   "execution_count": 88,
   "id": "018f4a3b-afa4-4986-a7bb-2d513cb961d1",
   "metadata": {},
   "outputs": [],
   "source": [
    "# Create a Keras layer using USE pretrained layer from tensorflow hub\n",
    "sentence_encoder_layer = hub.KerasLayer(\"https://www.kaggle.com/models/google/universal-sentence-encoder/frameworks/TensorFlow2/variations/universal-sentence-encoder/versions/2\",\n",
    "                                        input_shape=[],\n",
    "                                        dtype=tf.string,\n",
    "                                        trainable=False,\n",
    "                                        name = \"USE\")"
   ]
  },
  {
   "cell_type": "code",
   "execution_count": 98,
   "id": "072886e6-db98-4151-b303-1283d8cca486",
   "metadata": {},
   "outputs": [
    {
     "name": "stdout",
     "output_type": "stream",
     "text": [
      "Model: \"model_6_USE\"\n",
      "_________________________________________________________________\n",
      " Layer (type)                Output Shape              Param #   \n",
      "=================================================================\n",
      " USE (KerasLayer)            (None, 512)               256797824 \n",
      "                                                                 \n",
      " dense_8 (Dense)             (None, 64)                32832     \n",
      "                                                                 \n",
      " dense_9 (Dense)             (None, 1)                 65        \n",
      "                                                                 \n",
      "=================================================================\n",
      "Total params: 256830721 (979.73 MB)\n",
      "Trainable params: 32897 (128.50 KB)\n",
      "Non-trainable params: 256797824 (979.61 MB)\n",
      "_________________________________________________________________\n"
     ]
    }
   ],
   "source": [
    "# Create model using the Sequential API\n",
    "model_6 = tf.keras.Sequential([\n",
    "    sentence_encoder_layer,\n",
    "    layers.Dense(64, activation='relu'),\n",
    "    layers.Dense(1, activation='sigmoid')\n",
    "], name=\"model_6_USE\")\n",
    "\n",
    "# Compile the model\n",
    "model_6.compile(loss=\"binary_crossentropy\",\n",
    "               optimizer=tf.keras.optimizers.Adam(),\n",
    "               metrics=['accuracy'])\n",
    "\n",
    "model_6.summary()"
   ]
  },
  {
   "cell_type": "code",
   "execution_count": 99,
   "id": "6981f839-a3de-4f43-9d9a-ad50fe830faf",
   "metadata": {},
   "outputs": [
    {
     "name": "stdout",
     "output_type": "stream",
     "text": [
      "Saving TensorBoard log files to: model_logs/tf_hub_sentence_encoder/20240112-003959\n",
      "Epoch 1/5\n",
      "215/215 [==============================] - 5s 11ms/step - loss: 0.5037 - accuracy: 0.7802 - val_loss: 0.4486 - val_accuracy: 0.7966\n",
      "Epoch 2/5\n",
      "215/215 [==============================] - 2s 8ms/step - loss: 0.4150 - accuracy: 0.8137 - val_loss: 0.4376 - val_accuracy: 0.8084\n",
      "Epoch 3/5\n",
      "215/215 [==============================] - 2s 8ms/step - loss: 0.4005 - accuracy: 0.8216 - val_loss: 0.4334 - val_accuracy: 0.8136\n",
      "Epoch 4/5\n",
      "215/215 [==============================] - 2s 9ms/step - loss: 0.3936 - accuracy: 0.8250 - val_loss: 0.4286 - val_accuracy: 0.8097\n",
      "Epoch 5/5\n",
      "215/215 [==============================] - 2s 8ms/step - loss: 0.3876 - accuracy: 0.8282 - val_loss: 0.4299 - val_accuracy: 0.8150\n"
     ]
    }
   ],
   "source": [
    "# Train a classifier on top of USE pretrained embeddings\n",
    "model_6_history = model_6.fit(train_sentences,\n",
    "                             train_labels,\n",
    "                             validation_data=(val_sentences, val_labels),\n",
    "                             epochs=5,\n",
    "                             callbacks=[create_tensorboard_callback(SAVE_DIR,\n",
    "                                                                   \"tf_hub_sentence_encoder\")])"
   ]
  },
  {
   "cell_type": "code",
   "execution_count": 100,
   "id": "848eb327-dfb4-48bb-ae7b-14703cee11a9",
   "metadata": {},
   "outputs": [
    {
     "name": "stdout",
     "output_type": "stream",
     "text": [
      "24/24 [==============================] - 1s 7ms/step\n"
     ]
    },
    {
     "data": {
      "text/plain": [
       "array([[0.15224092],\n",
       "       [0.7450482 ],\n",
       "       [0.98752743],\n",
       "       [0.20383276],\n",
       "       [0.7129781 ],\n",
       "       [0.6740718 ],\n",
       "       [0.9796668 ],\n",
       "       [0.97549736],\n",
       "       [0.92403775],\n",
       "       [0.09168851]], dtype=float32)"
      ]
     },
     "execution_count": 100,
     "metadata": {},
     "output_type": "execute_result"
    }
   ],
   "source": [
    "# Make predictions with USE TF Hub Model\n",
    "model_6_pred_probs = model_6.predict(val_sentences)\n",
    "model_6_pred_probs[:10]"
   ]
  },
  {
   "cell_type": "code",
   "execution_count": 101,
   "id": "1b1a50ba-c452-4f5e-8f64-f72bf9617a2c",
   "metadata": {},
   "outputs": [
    {
     "data": {
      "text/plain": [
       "<tf.Tensor: shape=(10,), dtype=float32, numpy=array([0., 1., 1., 0., 1., 1., 1., 1., 1., 0.], dtype=float32)>"
      ]
     },
     "execution_count": 101,
     "metadata": {},
     "output_type": "execute_result"
    }
   ],
   "source": [
    "# Convert predictions probabilities to labels\n",
    "model_6_preds = tf.squeeze(tf.round(model_6_pred_probs))\n",
    "model_6_preds[:10]"
   ]
  },
  {
   "cell_type": "code",
   "execution_count": 102,
   "id": "a3fbb59e-2a7b-4687-83cc-153dece82aa7",
   "metadata": {},
   "outputs": [
    {
     "data": {
      "text/plain": [
       "{'accuracy': 81.49606299212599,\n",
       " 'precision': 0.8172549323109193,\n",
       " 'recall': 0.8149606299212598,\n",
       " 'f1-score': 0.8134357776936025}"
      ]
     },
     "execution_count": 102,
     "metadata": {},
     "output_type": "execute_result"
    }
   ],
   "source": [
    "# Calculate model 6 performace metris\n",
    "model_6_results = calculate_results(y_true=val_labels,\n",
    "                                   y_pred=model_6_preds)\n",
    "model_6_results"
   ]
  },
  {
   "cell_type": "markdown",
   "id": "9a3188cf-b985-4f3d-b7c6-67bd3e028f64",
   "metadata": {},
   "source": [
    "## Model 7: TF Hub Pretrained USE but with 10% of training data"
   ]
  },
  {
   "cell_type": "code",
   "execution_count": 117,
   "id": "278ce582-2d65-4abc-94ea-4ab94be93381",
   "metadata": {},
   "outputs": [],
   "source": [
    "# NOTE: Making data splits like this below leads to data leakage (model 7 trained on 10% data, outperforms model 6 trained on 100% data)\n",
    "## DO NOT MAKE DATA SPLITS WHICH LEAK DATA FROM VALIDATION/TEST SETS INTO TRAINING SET \n",
    "# Create subsets of 10% of training data\n",
    "# train_10_percent = train_df_shuffled[['text', 'target']].sample(frac=0.1, random_state=42)\n",
    "# Train_10_percent.head(), len(train_10_percent)\n",
    "# train_sentences_10_percent = train_10_percent['text'].to_list()\n",
    "# train_labels_10_percent = train_10_percent['target'].to_list()\n",
    "# len(train_sentences_10_percent), len(train_labels_10_percent)"
   ]
  },
  {
   "cell_type": "code",
   "execution_count": 131,
   "id": "7f73c8a2-d7ac-493c-b2f4-168abb748dd4",
   "metadata": {},
   "outputs": [],
   "source": [
    "# Making a better dataset split (no data leakage)\n",
    "train_10_percent_split = int(0.1 * len(train_sentences))\n",
    "train_sentences_10_percent = train_sentences[:train_10_percent_split]\n",
    "train_labels_10_percent = train_labels[:train_10_percent_split]"
   ]
  },
  {
   "cell_type": "code",
   "execution_count": 132,
   "id": "414dbdac-0914-4066-9d8c-11bea9c111b2",
   "metadata": {},
   "outputs": [
    {
     "data": {
      "text/plain": [
       "0    406\n",
       "1    279\n",
       "Name: count, dtype: int64"
      ]
     },
     "execution_count": 132,
     "metadata": {},
     "output_type": "execute_result"
    }
   ],
   "source": [
    "# Check the number of each label in the updated training subset\n",
    "pd.Series(np.array(train_labels_10_percent)).value_counts()"
   ]
  },
  {
   "cell_type": "markdown",
   "id": "82c83ffb-e04d-47f2-a7cd-46ac83bb32a1",
   "metadata": {},
   "source": [
    "> To recreate a model the same as a previous model you've created you can use the `tf.keras.models.clone_model()` method"
   ]
  },
  {
   "cell_type": "code",
   "execution_count": 133,
   "id": "44183fec-f40e-4693-a2e8-2e5f83d8586e",
   "metadata": {},
   "outputs": [
    {
     "name": "stdout",
     "output_type": "stream",
     "text": [
      "Model: \"model_7_USE\"\n",
      "_________________________________________________________________\n",
      " Layer (type)                Output Shape              Param #   \n",
      "=================================================================\n",
      " USE (KerasLayer)            (None, 512)               256797824 \n",
      "                                                                 \n",
      " dense_12 (Dense)            (None, 64)                32832     \n",
      "                                                                 \n",
      " dense_13 (Dense)            (None, 1)                 65        \n",
      "                                                                 \n",
      "=================================================================\n",
      "Total params: 256830721 (979.73 MB)\n",
      "Trainable params: 32897 (128.50 KB)\n",
      "Non-trainable params: 256797824 (979.61 MB)\n",
      "_________________________________________________________________\n"
     ]
    }
   ],
   "source": [
    "# Let's build a model the same as model_6\n",
    "# model_7 = tf.keras.models.clone_model(model_6)\n",
    "model_7 = tf.keras.Sequential([\n",
    "    sentence_encoder_layer,\n",
    "    layers.Dense(64, activation='relu'),\n",
    "    layers.Dense(1, activation='sigmoid')\n",
    "], name=\"model_7_USE\")\n",
    "\n",
    "# Compile the model\n",
    "model_7.compile(loss='binary_crossentropy',\n",
    "               optimizer=tf.keras.optimizers.Adam(),\n",
    "               metrics=['accuracy'])\n",
    "\n",
    "model_7.summary()"
   ]
  },
  {
   "cell_type": "code",
   "execution_count": 134,
   "id": "e429d69f-44cf-4f2f-aaa1-eaf64094e817",
   "metadata": {},
   "outputs": [
    {
     "name": "stdout",
     "output_type": "stream",
     "text": [
      "Saving TensorBoard log files to: model_logs/tf_hub_sentence_encoder_10_percent_correct_split/20240112-013234\n",
      "Epoch 1/5\n",
      "22/22 [==============================] - 2s 40ms/step - loss: 0.6759 - accuracy: 0.6555 - val_loss: 0.6537 - val_accuracy: 0.7323\n",
      "Epoch 2/5\n",
      "22/22 [==============================] - 0s 16ms/step - loss: 0.6102 - accuracy: 0.8044 - val_loss: 0.5994 - val_accuracy: 0.7533\n",
      "Epoch 3/5\n",
      "22/22 [==============================] - 0s 16ms/step - loss: 0.5351 - accuracy: 0.8073 - val_loss: 0.5426 - val_accuracy: 0.7717\n",
      "Epoch 4/5\n",
      "22/22 [==============================] - 0s 16ms/step - loss: 0.4715 - accuracy: 0.8190 - val_loss: 0.5091 - val_accuracy: 0.7703\n",
      "Epoch 5/5\n",
      "22/22 [==============================] - 0s 17ms/step - loss: 0.4273 - accuracy: 0.8321 - val_loss: 0.4913 - val_accuracy: 0.7795\n"
     ]
    }
   ],
   "source": [
    "# Fit the model to the 10% training data \n",
    "model_7_history = model_7.fit(train_sentences_10_percent,\n",
    "                             train_labels_10_percent,\n",
    "                             epochs=5,\n",
    "                             validation_data=(val_sentences,val_labels),\n",
    "                             callbacks=[create_tensorboard_callback(SAVE_DIR,\n",
    "                                                                   \"tf_hub_sentence_encoder_10_percent_correct_split\")])"
   ]
  },
  {
   "cell_type": "code",
   "execution_count": 135,
   "id": "1797537d-ce0c-4fd8-805a-b23079b24b30",
   "metadata": {},
   "outputs": [
    {
     "name": "stdout",
     "output_type": "stream",
     "text": [
      "24/24 [==============================] - 1s 6ms/step\n"
     ]
    },
    {
     "data": {
      "text/plain": [
       "array([[0.20283106],\n",
       "       [0.5698388 ],\n",
       "       [0.93173325],\n",
       "       [0.3712831 ],\n",
       "       [0.5343784 ],\n",
       "       [0.6959632 ],\n",
       "       [0.88990384],\n",
       "       [0.8373216 ],\n",
       "       [0.85186166],\n",
       "       [0.15911609]], dtype=float32)"
      ]
     },
     "execution_count": 135,
     "metadata": {},
     "output_type": "execute_result"
    }
   ],
   "source": [
    "# Make predictionswith the model trained on 10% of the data\n",
    "model_7_pred_probs = model_7.predict(val_sentences)\n",
    "model_7_pred_probs[:10]"
   ]
  },
  {
   "cell_type": "code",
   "execution_count": 136,
   "id": "0f99c1fb-dd12-417d-87d3-c1c9b68adc16",
   "metadata": {},
   "outputs": [
    {
     "data": {
      "text/plain": [
       "<tf.Tensor: shape=(10,), dtype=float32, numpy=array([0., 1., 1., 0., 1., 1., 1., 1., 1., 0.], dtype=float32)>"
      ]
     },
     "execution_count": 136,
     "metadata": {},
     "output_type": "execute_result"
    }
   ],
   "source": [
    "# Turn pred probs into labels\n",
    "model_7_preds = tf.squeeze(tf.round(model_7_pred_probs))\n",
    "model_7_preds[:10]"
   ]
  },
  {
   "cell_type": "code",
   "execution_count": 137,
   "id": "470e66c4-e3f2-4dbf-a870-310fbe9bc121",
   "metadata": {},
   "outputs": [
    {
     "data": {
      "text/plain": [
       "{'accuracy': 77.95275590551181,\n",
       " 'precision': 0.7808713829501961,\n",
       " 'recall': 0.7795275590551181,\n",
       " 'f1-score': 0.7777699173240801}"
      ]
     },
     "execution_count": 137,
     "metadata": {},
     "output_type": "execute_result"
    }
   ],
   "source": [
    "# Calculate the model 7 predictions\n",
    "model_7_results = calculate_results(y_true=val_labels,\n",
    "                                    y_pred=model_7_preds)\n",
    "model_7_results"
   ]
  },
  {
   "cell_type": "markdown",
   "id": "6be4bf33-82b3-471c-b5a4-990a31ebaf48",
   "metadata": {},
   "source": [
    "## Comparing the performace of each of our models"
   ]
  },
  {
   "cell_type": "code",
   "execution_count": 144,
   "id": "5671c733-4cbb-4bc4-8ceb-6e5e689257ad",
   "metadata": {},
   "outputs": [
    {
     "data": {
      "text/html": [
       "<div>\n",
       "<style scoped>\n",
       "    .dataframe tbody tr th:only-of-type {\n",
       "        vertical-align: middle;\n",
       "    }\n",
       "\n",
       "    .dataframe tbody tr th {\n",
       "        vertical-align: top;\n",
       "    }\n",
       "\n",
       "    .dataframe thead th {\n",
       "        text-align: right;\n",
       "    }\n",
       "</style>\n",
       "<table border=\"1\" class=\"dataframe\">\n",
       "  <thead>\n",
       "    <tr style=\"text-align: right;\">\n",
       "      <th></th>\n",
       "      <th>accuracy</th>\n",
       "      <th>precision</th>\n",
       "      <th>recall</th>\n",
       "      <th>f1-score</th>\n",
       "    </tr>\n",
       "  </thead>\n",
       "  <tbody>\n",
       "    <tr>\n",
       "      <th>0_baseline</th>\n",
       "      <td>79.265092</td>\n",
       "      <td>0.811139</td>\n",
       "      <td>0.792651</td>\n",
       "      <td>0.786219</td>\n",
       "    </tr>\n",
       "    <tr>\n",
       "      <th>1_simple_dense</th>\n",
       "      <td>78.871391</td>\n",
       "      <td>0.794369</td>\n",
       "      <td>0.788714</td>\n",
       "      <td>0.785521</td>\n",
       "    </tr>\n",
       "    <tr>\n",
       "      <th>2_LSTM</th>\n",
       "      <td>76.115486</td>\n",
       "      <td>0.762766</td>\n",
       "      <td>0.761155</td>\n",
       "      <td>0.758852</td>\n",
       "    </tr>\n",
       "    <tr>\n",
       "      <th>3_GRU</th>\n",
       "      <td>76.902887</td>\n",
       "      <td>0.768765</td>\n",
       "      <td>0.769029</td>\n",
       "      <td>0.768248</td>\n",
       "    </tr>\n",
       "    <tr>\n",
       "      <th>4_BiDirectional</th>\n",
       "      <td>77.034121</td>\n",
       "      <td>0.772634</td>\n",
       "      <td>0.770341</td>\n",
       "      <td>0.767924</td>\n",
       "    </tr>\n",
       "    <tr>\n",
       "      <th>5_Conv1D</th>\n",
       "      <td>78.871391</td>\n",
       "      <td>0.793912</td>\n",
       "      <td>0.788714</td>\n",
       "      <td>0.785669</td>\n",
       "    </tr>\n",
       "    <tr>\n",
       "      <th>6_tf_hub_use_encoder</th>\n",
       "      <td>81.496063</td>\n",
       "      <td>0.817255</td>\n",
       "      <td>0.814961</td>\n",
       "      <td>0.813436</td>\n",
       "    </tr>\n",
       "    <tr>\n",
       "      <th>7_tf_hub_use_encoder_10_percent</th>\n",
       "      <td>77.952756</td>\n",
       "      <td>0.780871</td>\n",
       "      <td>0.779528</td>\n",
       "      <td>0.777770</td>\n",
       "    </tr>\n",
       "  </tbody>\n",
       "</table>\n",
       "</div>"
      ],
      "text/plain": [
       "                                  accuracy  precision    recall  f1-score\n",
       "0_baseline                       79.265092   0.811139  0.792651  0.786219\n",
       "1_simple_dense                   78.871391   0.794369  0.788714  0.785521\n",
       "2_LSTM                           76.115486   0.762766  0.761155  0.758852\n",
       "3_GRU                            76.902887   0.768765  0.769029  0.768248\n",
       "4_BiDirectional                  77.034121   0.772634  0.770341  0.767924\n",
       "5_Conv1D                         78.871391   0.793912  0.788714  0.785669\n",
       "6_tf_hub_use_encoder             81.496063   0.817255  0.814961  0.813436\n",
       "7_tf_hub_use_encoder_10_percent  77.952756   0.780871  0.779528  0.777770"
      ]
     },
     "execution_count": 144,
     "metadata": {},
     "output_type": "execute_result"
    }
   ],
   "source": [
    "# Combine model results into a DataFrame\n",
    "all_model_results = pd.DataFrame({\"0_baseline\": baseline_results,\n",
    "                                 \"1_simple_dense\": model_1_results,\n",
    "                                 \"2_LSTM\": model_2_results,\n",
    "                                 \"3_GRU\": model_3_results,\n",
    "                                 \"4_BiDirectional\": model_4_results,\n",
    "                                 \"5_Conv1D\": model_5_results,\n",
    "                                 \"6_tf_hub_use_encoder\": model_6_results,\n",
    "                                 \"7_tf_hub_use_encoder_10_percent\": model_7_results})\n",
    "all_model_results = all_model_results.transpose()\n",
    "all_model_results"
   ]
  },
  {
   "cell_type": "code",
   "execution_count": 145,
   "id": "5b64210c-d43d-4536-9fba-df46c979c8ea",
   "metadata": {},
   "outputs": [
    {
     "data": {
      "text/html": [
       "<div>\n",
       "<style scoped>\n",
       "    .dataframe tbody tr th:only-of-type {\n",
       "        vertical-align: middle;\n",
       "    }\n",
       "\n",
       "    .dataframe tbody tr th {\n",
       "        vertical-align: top;\n",
       "    }\n",
       "\n",
       "    .dataframe thead th {\n",
       "        text-align: right;\n",
       "    }\n",
       "</style>\n",
       "<table border=\"1\" class=\"dataframe\">\n",
       "  <thead>\n",
       "    <tr style=\"text-align: right;\">\n",
       "      <th></th>\n",
       "      <th>accuracy</th>\n",
       "      <th>precision</th>\n",
       "      <th>recall</th>\n",
       "      <th>f1-score</th>\n",
       "    </tr>\n",
       "  </thead>\n",
       "  <tbody>\n",
       "    <tr>\n",
       "      <th>0_baseline</th>\n",
       "      <td>0.792651</td>\n",
       "      <td>0.811139</td>\n",
       "      <td>0.792651</td>\n",
       "      <td>0.786219</td>\n",
       "    </tr>\n",
       "    <tr>\n",
       "      <th>1_simple_dense</th>\n",
       "      <td>0.788714</td>\n",
       "      <td>0.794369</td>\n",
       "      <td>0.788714</td>\n",
       "      <td>0.785521</td>\n",
       "    </tr>\n",
       "    <tr>\n",
       "      <th>2_LSTM</th>\n",
       "      <td>0.761155</td>\n",
       "      <td>0.762766</td>\n",
       "      <td>0.761155</td>\n",
       "      <td>0.758852</td>\n",
       "    </tr>\n",
       "    <tr>\n",
       "      <th>3_GRU</th>\n",
       "      <td>0.769029</td>\n",
       "      <td>0.768765</td>\n",
       "      <td>0.769029</td>\n",
       "      <td>0.768248</td>\n",
       "    </tr>\n",
       "    <tr>\n",
       "      <th>4_BiDirectional</th>\n",
       "      <td>0.770341</td>\n",
       "      <td>0.772634</td>\n",
       "      <td>0.770341</td>\n",
       "      <td>0.767924</td>\n",
       "    </tr>\n",
       "    <tr>\n",
       "      <th>5_Conv1D</th>\n",
       "      <td>0.788714</td>\n",
       "      <td>0.793912</td>\n",
       "      <td>0.788714</td>\n",
       "      <td>0.785669</td>\n",
       "    </tr>\n",
       "    <tr>\n",
       "      <th>6_tf_hub_use_encoder</th>\n",
       "      <td>0.814961</td>\n",
       "      <td>0.817255</td>\n",
       "      <td>0.814961</td>\n",
       "      <td>0.813436</td>\n",
       "    </tr>\n",
       "    <tr>\n",
       "      <th>7_tf_hub_use_encoder_10_percent</th>\n",
       "      <td>0.779528</td>\n",
       "      <td>0.780871</td>\n",
       "      <td>0.779528</td>\n",
       "      <td>0.777770</td>\n",
       "    </tr>\n",
       "  </tbody>\n",
       "</table>\n",
       "</div>"
      ],
      "text/plain": [
       "                                 accuracy  precision    recall  f1-score\n",
       "0_baseline                       0.792651   0.811139  0.792651  0.786219\n",
       "1_simple_dense                   0.788714   0.794369  0.788714  0.785521\n",
       "2_LSTM                           0.761155   0.762766  0.761155  0.758852\n",
       "3_GRU                            0.769029   0.768765  0.769029  0.768248\n",
       "4_BiDirectional                  0.770341   0.772634  0.770341  0.767924\n",
       "5_Conv1D                         0.788714   0.793912  0.788714  0.785669\n",
       "6_tf_hub_use_encoder             0.814961   0.817255  0.814961  0.813436\n",
       "7_tf_hub_use_encoder_10_percent  0.779528   0.780871  0.779528  0.777770"
      ]
     },
     "execution_count": 145,
     "metadata": {},
     "output_type": "execute_result"
    }
   ],
   "source": [
    "# Reduce the accuracy to the same scale as other metrics\n",
    "all_model_results['accuracy'] = all_model_results['accuracy']/100\n",
    "all_model_results"
   ]
  },
  {
   "cell_type": "code",
   "execution_count": 146,
   "id": "2418ccea-5496-497e-a34f-df95eedda1f1",
   "metadata": {},
   "outputs": [
    {
     "data": {
      "image/png": "[encoded data removed]",
      "text/plain": [
       "<Figure size 1000x700 with 1 Axes>"
      ]
     },
     "metadata": {},
     "output_type": "display_data"
    }
   ],
   "source": [
    "# Plot and compare all of the model results\n",
    "all_model_results.plot(kind=\"bar\", figsize=(10,7)).legend(bbox_to_anchor=(1.0,1.0));"
   ]
  },
  {
   "cell_type": "code",
   "execution_count": 149,
   "id": "ba75f6c5-31c0-4711-8048-1d2b71e8df36",
   "metadata": {},
   "outputs": [
    {
     "data": {
      "image/png": "[encoded data removed]",
      "text/plain": [
       "<Figure size 1000x700 with 1 Axes>"
      ]
     },
     "metadata": {},
     "output_type": "display_data"
    }
   ],
   "source": [
    "# Sort model results by f1-score\n",
    "all_model_results.sort_values(\"f1-score\", ascending=False)['f1-score'].plot(kind=\"bar\", figsize=(10, 7));"
   ]
  },
  {
   "cell_type": "markdown",
   "id": "2f712a30-057a-4376-afad-2fb07fcac34d",
   "metadata": {},
   "source": [
    "## Saving and loading a trained model\n",
    "\n",
    "There are two formats to save a model to in TensorFlow:\n",
    "1. The HDF5 format\n",
    "2. The `SavedModel` format (this is the default when using TensorFlow)"
   ]
  },
  {
   "cell_type": "code",
   "execution_count": 150,
   "id": "dda21d57-da4f-41ec-9453-871846a926d3",
   "metadata": {},
   "outputs": [
    {
     "name": "stderr",
     "output_type": "stream",
     "text": [
      "C:\\Users\\shrih\\AppData\\Local\\Programs\\Python\\Python310\\lib\\site-packages\\keras\\src\\engine\\training.py:3103: UserWarning: You are saving your model as an HDF5 file via `model.save()`. This file format is considered legacy. We recommend using instead the native Keras format, e.g. `model.save('my_model.keras')`.\n",
      "  saving_api.save_model(\n"
     ]
    }
   ],
   "source": [
    "# Save TF Hub Sentence Encoder model to HDF5 format\n",
    "model_6.save(\"model_6.h5\")"
   ]
  },
  {
   "cell_type": "code",
   "execution_count": 151,
   "id": "73a5e054-dfe5-4ea9-b7cf-3f765d8f3e51",
   "metadata": {},
   "outputs": [],
   "source": [
    "# Load model with custom Hub Layer (required H5 format)\n",
    "Loaded_model_6 = tf.keras.models.load_model(\"model_6.h5\",\n",
    "                                           custom_objects={\"KerasLayer\": hub.KerasLayer})"
   ]
  },
  {
   "cell_type": "code",
   "execution_count": 152,
   "id": "d557173d-135c-4508-8954-17e8db295e35",
   "metadata": {},
   "outputs": [
    {
     "name": "stdout",
     "output_type": "stream",
     "text": [
      "24/24 [==============================] - 2s 19ms/step - loss: 0.4299 - accuracy: 0.8150\n"
     ]
    },
    {
     "data": {
      "text/plain": [
       "[0.42987561225891113, 0.8149606585502625]"
      ]
     },
     "execution_count": 152,
     "metadata": {},
     "output_type": "execute_result"
    }
   ],
   "source": [
    "# how does our loaded model perform?\n",
    "Loaded_model_6.evaluate(val_sentences, val_labels)"
   ]
  },
  {
   "cell_type": "code",
   "execution_count": 153,
   "id": "6e266543-547b-4eaa-89c0-532d398510d8",
   "metadata": {},
   "outputs": [
    {
     "data": {
      "text/plain": [
       "{'accuracy': 81.49606299212599,\n",
       " 'precision': 0.8172549323109193,\n",
       " 'recall': 0.8149606299212598,\n",
       " 'f1-score': 0.8134357776936025}"
      ]
     },
     "execution_count": 153,
     "metadata": {},
     "output_type": "execute_result"
    }
   ],
   "source": [
    "model_6_results"
   ]
  },
  {
   "cell_type": "markdown",
   "id": "071cc9ec-d129-4376-91e4-68a4b5e0d5a1",
   "metadata": {},
   "source": [
    "Now let's save to the `SavedModel` format"
   ]
  },
  {
   "cell_type": "code",
   "execution_count": 154,
   "id": "8a155f84-2657-4c23-9190-41330c8cf1e5",
   "metadata": {},
   "outputs": [
    {
     "name": "stdout",
     "output_type": "stream",
     "text": [
      "INFO:tensorflow:Assets written to: model_6_SavedModel_format\\assets\n"
     ]
    },
    {
     "name": "stderr",
     "output_type": "stream",
     "text": [
      "INFO:tensorflow:Assets written to: model_6_SavedModel_format\\assets\n"
     ]
    }
   ],
   "source": [
    "# Save TF Hub Sentence Encoder model to SaveModel format (default)\n",
    "model_6.save(\"model_6_SavedModel_format\")"
   ]
  },
  {
   "cell_type": "code",
   "execution_count": 155,
   "id": "545e4c92-8ade-4cc1-a5dd-932e427ac6a5",
   "metadata": {},
   "outputs": [],
   "source": [
    "# Load in a model from the SavedModel format\n",
    "loaded_model_6_SavedModel_format = tf.keras.models.load_model(\"model_6_SavedModel_format\")"
   ]
  },
  {
   "cell_type": "code",
   "execution_count": 156,
   "id": "238fca6b-8bfc-4cf0-be30-4d014af6be34",
   "metadata": {},
   "outputs": [
    {
     "name": "stdout",
     "output_type": "stream",
     "text": [
      "24/24 [==============================] - 1s 12ms/step - loss: 0.4299 - accuracy: 0.8150\n"
     ]
    },
    {
     "data": {
      "text/plain": [
       "[0.42987561225891113, 0.8149606585502625]"
      ]
     },
     "execution_count": 156,
     "metadata": {},
     "output_type": "execute_result"
    }
   ],
   "source": [
    "# Evaluate model in SavedModel format\n",
    "loaded_model_6_SavedModel_format.evaluate(val_sentences, val_labels)"
   ]
  },
  {
   "cell_type": "markdown",
   "id": "4f58a76e-abba-4615-a7f1-35756aa031ba",
   "metadata": {},
   "source": [
    "## Finding the most wrong examples\n",
    "* If our best model still isn't perfect, what examples is it getting wrong?\n",
    "* Which ones are the most wrong?\n",
    "* Are there some labels which are wrong? E.g. the model gets it right but the ground truth label doesn't reflect this"
   ]
  },
  {
   "cell_type": "code",
   "execution_count": 157,
   "id": "656e6d1f-d39b-43d1-9735-8b91e17f71a8",
   "metadata": {},
   "outputs": [],
   "source": [
    "model_6_pretrained = tf.keras.models.load_model(\"model_6_SavedModel_format\")"
   ]
  },
  {
   "cell_type": "code",
   "execution_count": 158,
   "id": "8b4c9dc2-013d-4046-a338-16d0a336b943",
   "metadata": {},
   "outputs": [
    {
     "name": "stdout",
     "output_type": "stream",
     "text": [
      "24/24 [==============================] - 1s 8ms/step\n"
     ]
    },
    {
     "data": {
      "text/plain": [
       "<tf.Tensor: shape=(10,), dtype=float32, numpy=array([0., 1., 1., 0., 1., 1., 1., 1., 1., 0.], dtype=float32)>"
      ]
     },
     "execution_count": 158,
     "metadata": {},
     "output_type": "execute_result"
    }
   ],
   "source": [
    "# Make predictions with the loaded model from GS\n",
    "model_6_pretrained_pred_probs = model_6_pretrained.predict(val_sentences)\n",
    "model_6_pretrained_preds = tf.squeeze(tf.round(model_6_pretrained_pred_probs))\n",
    "model_6_pretrained_preds[:10]"
   ]
  },
  {
   "cell_type": "code",
   "execution_count": 160,
   "id": "bec5937c-6dfb-4062-b812-f067bf6e4831",
   "metadata": {},
   "outputs": [
    {
     "data": {
      "text/html": [
       "<div>\n",
       "<style scoped>\n",
       "    .dataframe tbody tr th:only-of-type {\n",
       "        vertical-align: middle;\n",
       "    }\n",
       "\n",
       "    .dataframe tbody tr th {\n",
       "        vertical-align: top;\n",
       "    }\n",
       "\n",
       "    .dataframe thead th {\n",
       "        text-align: right;\n",
       "    }\n",
       "</style>\n",
       "<table border=\"1\" class=\"dataframe\">\n",
       "  <thead>\n",
       "    <tr style=\"text-align: right;\">\n",
       "      <th></th>\n",
       "      <th>text</th>\n",
       "      <th>target</th>\n",
       "      <th>pred</th>\n",
       "      <th>pred_prob</th>\n",
       "    </tr>\n",
       "  </thead>\n",
       "  <tbody>\n",
       "    <tr>\n",
       "      <th>0</th>\n",
       "      <td>DFR EP016 Monthly Meltdown - On Dnbheaven 2015...</td>\n",
       "      <td>0</td>\n",
       "      <td>0.0</td>\n",
       "      <td>0.152241</td>\n",
       "    </tr>\n",
       "    <tr>\n",
       "      <th>1</th>\n",
       "      <td>FedEx no longer to transport bioterror germs i...</td>\n",
       "      <td>0</td>\n",
       "      <td>1.0</td>\n",
       "      <td>0.745048</td>\n",
       "    </tr>\n",
       "    <tr>\n",
       "      <th>2</th>\n",
       "      <td>Gunmen kill four in El Salvador bus attack: Su...</td>\n",
       "      <td>1</td>\n",
       "      <td>1.0</td>\n",
       "      <td>0.987527</td>\n",
       "    </tr>\n",
       "    <tr>\n",
       "      <th>3</th>\n",
       "      <td>@camilacabello97 Internally and externally scr...</td>\n",
       "      <td>1</td>\n",
       "      <td>0.0</td>\n",
       "      <td>0.203833</td>\n",
       "    </tr>\n",
       "    <tr>\n",
       "      <th>4</th>\n",
       "      <td>Radiation emergency #preparedness starts with ...</td>\n",
       "      <td>1</td>\n",
       "      <td>1.0</td>\n",
       "      <td>0.712978</td>\n",
       "    </tr>\n",
       "    <tr>\n",
       "      <th>...</th>\n",
       "      <td>...</td>\n",
       "      <td>...</td>\n",
       "      <td>...</td>\n",
       "      <td>...</td>\n",
       "    </tr>\n",
       "    <tr>\n",
       "      <th>757</th>\n",
       "      <td>That's the ultimate road to destruction</td>\n",
       "      <td>0</td>\n",
       "      <td>0.0</td>\n",
       "      <td>0.101941</td>\n",
       "    </tr>\n",
       "    <tr>\n",
       "      <th>758</th>\n",
       "      <td>@SetZorah dad why dont you claim me that mean ...</td>\n",
       "      <td>0</td>\n",
       "      <td>0.0</td>\n",
       "      <td>0.097843</td>\n",
       "    </tr>\n",
       "    <tr>\n",
       "      <th>759</th>\n",
       "      <td>FedEx will no longer transport bioterror patho...</td>\n",
       "      <td>0</td>\n",
       "      <td>1.0</td>\n",
       "      <td>0.855498</td>\n",
       "    </tr>\n",
       "    <tr>\n",
       "      <th>760</th>\n",
       "      <td>Crack in the path where I wiped out this morni...</td>\n",
       "      <td>0</td>\n",
       "      <td>1.0</td>\n",
       "      <td>0.699355</td>\n",
       "    </tr>\n",
       "    <tr>\n",
       "      <th>761</th>\n",
       "      <td>I liked a @YouTube video from @dannyonpc http:...</td>\n",
       "      <td>0</td>\n",
       "      <td>0.0</td>\n",
       "      <td>0.080777</td>\n",
       "    </tr>\n",
       "  </tbody>\n",
       "</table>\n",
       "<p>762 rows × 4 columns</p>\n",
       "</div>"
      ],
      "text/plain": [
       "                                                  text  target  pred  \\\n",
       "0    DFR EP016 Monthly Meltdown - On Dnbheaven 2015...       0   0.0   \n",
       "1    FedEx no longer to transport bioterror germs i...       0   1.0   \n",
       "2    Gunmen kill four in El Salvador bus attack: Su...       1   1.0   \n",
       "3    @camilacabello97 Internally and externally scr...       1   0.0   \n",
       "4    Radiation emergency #preparedness starts with ...       1   1.0   \n",
       "..                                                 ...     ...   ...   \n",
       "757            That's the ultimate road to destruction       0   0.0   \n",
       "758  @SetZorah dad why dont you claim me that mean ...       0   0.0   \n",
       "759  FedEx will no longer transport bioterror patho...       0   1.0   \n",
       "760  Crack in the path where I wiped out this morni...       0   1.0   \n",
       "761  I liked a @YouTube video from @dannyonpc http:...       0   0.0   \n",
       "\n",
       "     pred_prob  \n",
       "0     0.152241  \n",
       "1     0.745048  \n",
       "2     0.987527  \n",
       "3     0.203833  \n",
       "4     0.712978  \n",
       "..         ...  \n",
       "757   0.101941  \n",
       "758   0.097843  \n",
       "759   0.855498  \n",
       "760   0.699355  \n",
       "761   0.080777  \n",
       "\n",
       "[762 rows x 4 columns]"
      ]
     },
     "execution_count": 160,
     "metadata": {},
     "output_type": "execute_result"
    }
   ],
   "source": [
    "# Create DataFrame with validation sentences, validation labels and best performing model predictions\n",
    "val_df = pd.DataFrame({\"text\": val_sentences,\n",
    "                      \"target\": val_labels,\n",
    "                      \"pred\": model_6_pretrained_preds,\n",
    "                      \"pred_prob\":  tf.squeeze(model_6_pretrained_pred_probs)})\n",
    "val_df"
   ]
  },
  {
   "cell_type": "code",
   "execution_count": 162,
   "id": "7f2e0483-3fbe-410f-bad6-ff5f465cd90a",
   "metadata": {},
   "outputs": [
    {
     "data": {
      "text/html": [
       "<div>\n",
       "<style scoped>\n",
       "    .dataframe tbody tr th:only-of-type {\n",
       "        vertical-align: middle;\n",
       "    }\n",
       "\n",
       "    .dataframe tbody tr th {\n",
       "        vertical-align: top;\n",
       "    }\n",
       "\n",
       "    .dataframe thead th {\n",
       "        text-align: right;\n",
       "    }\n",
       "</style>\n",
       "<table border=\"1\" class=\"dataframe\">\n",
       "  <thead>\n",
       "    <tr style=\"text-align: right;\">\n",
       "      <th></th>\n",
       "      <th>text</th>\n",
       "      <th>target</th>\n",
       "      <th>pred</th>\n",
       "      <th>pred_prob</th>\n",
       "    </tr>\n",
       "  </thead>\n",
       "  <tbody>\n",
       "    <tr>\n",
       "      <th>31</th>\n",
       "      <td>? High Skies - Burning Buildings ? http://t.co...</td>\n",
       "      <td>0</td>\n",
       "      <td>1.0</td>\n",
       "      <td>0.907337</td>\n",
       "    </tr>\n",
       "    <tr>\n",
       "      <th>759</th>\n",
       "      <td>FedEx will no longer transport bioterror patho...</td>\n",
       "      <td>0</td>\n",
       "      <td>1.0</td>\n",
       "      <td>0.855498</td>\n",
       "    </tr>\n",
       "    <tr>\n",
       "      <th>628</th>\n",
       "      <td>@noah_anyname That's where the concentration c...</td>\n",
       "      <td>0</td>\n",
       "      <td>1.0</td>\n",
       "      <td>0.845905</td>\n",
       "    </tr>\n",
       "    <tr>\n",
       "      <th>49</th>\n",
       "      <td>@madonnamking RSPCA site multiple 7 story high...</td>\n",
       "      <td>0</td>\n",
       "      <td>1.0</td>\n",
       "      <td>0.837428</td>\n",
       "    </tr>\n",
       "    <tr>\n",
       "      <th>393</th>\n",
       "      <td>@SonofLiberty357 all illuminated by the bright...</td>\n",
       "      <td>0</td>\n",
       "      <td>1.0</td>\n",
       "      <td>0.834396</td>\n",
       "    </tr>\n",
       "    <tr>\n",
       "      <th>209</th>\n",
       "      <td>Ashes 2015: AustraliaÛªs collapse at Trent Br...</td>\n",
       "      <td>0</td>\n",
       "      <td>1.0</td>\n",
       "      <td>0.809250</td>\n",
       "    </tr>\n",
       "    <tr>\n",
       "      <th>109</th>\n",
       "      <td>[55436] 1950 LIONEL TRAINS SMOKE LOCOMOTIVES W...</td>\n",
       "      <td>0</td>\n",
       "      <td>1.0</td>\n",
       "      <td>0.800279</td>\n",
       "    </tr>\n",
       "    <tr>\n",
       "      <th>251</th>\n",
       "      <td>@AshGhebranious civil rights continued in the ...</td>\n",
       "      <td>0</td>\n",
       "      <td>1.0</td>\n",
       "      <td>0.794731</td>\n",
       "    </tr>\n",
       "    <tr>\n",
       "      <th>144</th>\n",
       "      <td>The Sound of Arson</td>\n",
       "      <td>0</td>\n",
       "      <td>1.0</td>\n",
       "      <td>0.780323</td>\n",
       "    </tr>\n",
       "    <tr>\n",
       "      <th>698</th>\n",
       "      <td>åÈMGN-AFRICAå¨ pin:263789F4 åÈ Correction: Ten...</td>\n",
       "      <td>0</td>\n",
       "      <td>1.0</td>\n",
       "      <td>0.775859</td>\n",
       "    </tr>\n",
       "  </tbody>\n",
       "</table>\n",
       "</div>"
      ],
      "text/plain": [
       "                                                  text  target  pred  \\\n",
       "31   ? High Skies - Burning Buildings ? http://t.co...       0   1.0   \n",
       "759  FedEx will no longer transport bioterror patho...       0   1.0   \n",
       "628  @noah_anyname That's where the concentration c...       0   1.0   \n",
       "49   @madonnamking RSPCA site multiple 7 story high...       0   1.0   \n",
       "393  @SonofLiberty357 all illuminated by the bright...       0   1.0   \n",
       "209  Ashes 2015: AustraliaÛªs collapse at Trent Br...       0   1.0   \n",
       "109  [55436] 1950 LIONEL TRAINS SMOKE LOCOMOTIVES W...       0   1.0   \n",
       "251  @AshGhebranious civil rights continued in the ...       0   1.0   \n",
       "144                                 The Sound of Arson       0   1.0   \n",
       "698  åÈMGN-AFRICAå¨ pin:263789F4 åÈ Correction: Ten...       0   1.0   \n",
       "\n",
       "     pred_prob  \n",
       "31    0.907337  \n",
       "759   0.855498  \n",
       "628   0.845905  \n",
       "49    0.837428  \n",
       "393   0.834396  \n",
       "209   0.809250  \n",
       "109   0.800279  \n",
       "251   0.794731  \n",
       "144   0.780323  \n",
       "698   0.775859  "
      ]
     },
     "execution_count": 162,
     "metadata": {},
     "output_type": "execute_result"
    }
   ],
   "source": [
    "# Find the wrong predictions and sort by prediction probabilites\n",
    "most_wrong = val_df[val_df[\"target\"] != val_df[\"pred\"]].sort_values(\"pred_prob\", ascending=False)\n",
    "most_wrong[:10] # These are false positives"
   ]
  },
  {
   "cell_type": "markdown",
   "id": "7809b650-a90d-4c76-9aa8-042d05e4372f",
   "metadata": {},
   "source": [
    "Target labels\n",
    "\n",
    "`0` = not disaster\n",
    "\n",
    "`1` = disaster"
   ]
  },
  {
   "cell_type": "code",
   "execution_count": 163,
   "id": "a05ce3bc-bdc6-4621-ad10-eedc70100cc7",
   "metadata": {},
   "outputs": [
    {
     "data": {
      "text/html": [
       "<div>\n",
       "<style scoped>\n",
       "    .dataframe tbody tr th:only-of-type {\n",
       "        vertical-align: middle;\n",
       "    }\n",
       "\n",
       "    .dataframe tbody tr th {\n",
       "        vertical-align: top;\n",
       "    }\n",
       "\n",
       "    .dataframe thead th {\n",
       "        text-align: right;\n",
       "    }\n",
       "</style>\n",
       "<table border=\"1\" class=\"dataframe\">\n",
       "  <thead>\n",
       "    <tr style=\"text-align: right;\">\n",
       "      <th></th>\n",
       "      <th>text</th>\n",
       "      <th>target</th>\n",
       "      <th>pred</th>\n",
       "      <th>pred_prob</th>\n",
       "    </tr>\n",
       "  </thead>\n",
       "  <tbody>\n",
       "    <tr>\n",
       "      <th>233</th>\n",
       "      <td>I get to smoke my shit in peace</td>\n",
       "      <td>1</td>\n",
       "      <td>0.0</td>\n",
       "      <td>0.044703</td>\n",
       "    </tr>\n",
       "    <tr>\n",
       "      <th>244</th>\n",
       "      <td>Reddit Will Now QuarantineÛ_ http://t.co/pkUA...</td>\n",
       "      <td>1</td>\n",
       "      <td>0.0</td>\n",
       "      <td>0.041284</td>\n",
       "    </tr>\n",
       "    <tr>\n",
       "      <th>411</th>\n",
       "      <td>@SoonerMagic_ I mean I'm a fan but I don't nee...</td>\n",
       "      <td>1</td>\n",
       "      <td>0.0</td>\n",
       "      <td>0.035878</td>\n",
       "    </tr>\n",
       "    <tr>\n",
       "      <th>38</th>\n",
       "      <td>Why are you deluged with low self-image? Take ...</td>\n",
       "      <td>1</td>\n",
       "      <td>0.0</td>\n",
       "      <td>0.034617</td>\n",
       "    </tr>\n",
       "    <tr>\n",
       "      <th>23</th>\n",
       "      <td>Ron &amp;amp; Fez - Dave's High School Crush https...</td>\n",
       "      <td>1</td>\n",
       "      <td>0.0</td>\n",
       "      <td>0.032781</td>\n",
       "    </tr>\n",
       "  </tbody>\n",
       "</table>\n",
       "</div>"
      ],
      "text/plain": [
       "                                                  text  target  pred  \\\n",
       "233                    I get to smoke my shit in peace       1   0.0   \n",
       "244  Reddit Will Now QuarantineÛ_ http://t.co/pkUA...       1   0.0   \n",
       "411  @SoonerMagic_ I mean I'm a fan but I don't nee...       1   0.0   \n",
       "38   Why are you deluged with low self-image? Take ...       1   0.0   \n",
       "23   Ron &amp; Fez - Dave's High School Crush https...       1   0.0   \n",
       "\n",
       "     pred_prob  \n",
       "233   0.044703  \n",
       "244   0.041284  \n",
       "411   0.035878  \n",
       "38    0.034617  \n",
       "23    0.032781  "
      ]
     },
     "execution_count": 163,
     "metadata": {},
     "output_type": "execute_result"
    }
   ],
   "source": [
    "most_wrong.tail() # These are false negatives"
   ]
  },
  {
   "cell_type": "code",
   "execution_count": 164,
   "id": "83ca9455-4098-4534-8013-ab6402576308",
   "metadata": {},
   "outputs": [
    {
     "name": "stdout",
     "output_type": "stream",
     "text": [
      "Target: 0, pred: 1.0, Prob: 0.9073370695114136\n",
      "Text:\n",
      "? High Skies - Burning Buildings ? http://t.co/uVq41i3Kx2 #nowplaying\n",
      "\n",
      "-----\n",
      "\n",
      "Target: 0, pred: 1.0, Prob: 0.8554979562759399\n",
      "Text:\n",
      "FedEx will no longer transport bioterror pathogens in wake of anthrax lab mishaps http://t.co/lHpgxc4b8J\n",
      "\n",
      "-----\n",
      "\n",
      "Target: 0, pred: 1.0, Prob: 0.8459049463272095\n",
      "Text:\n",
      "@noah_anyname That's where the concentration camps and mass murder come in. \n",
      " \n",
      "EVERY. FUCKING. TIME.\n",
      "\n",
      "-----\n",
      "\n",
      "Target: 0, pred: 1.0, Prob: 0.8374277949333191\n",
      "Text:\n",
      "@madonnamking RSPCA site multiple 7 story high rise buildings next to low density character residential in an area that floods\n",
      "\n",
      "-----\n",
      "\n",
      "Target: 0, pred: 1.0, Prob: 0.8343958258628845\n",
      "Text:\n",
      "@SonofLiberty357 all illuminated by the brightly burning buildings all around the town!\n",
      "\n",
      "-----\n",
      "\n",
      "Target: 0, pred: 1.0, Prob: 0.8092496395111084\n",
      "Text:\n",
      "Ashes 2015: AustraliaÛªs collapse at Trent Bridge among worst in history: England bundled out Australia for 60 ... http://t.co/t5TrhjUAU0\n",
      "\n",
      "-----\n",
      "\n",
      "Target: 0, pred: 1.0, Prob: 0.8002787232398987\n",
      "Text:\n",
      "[55436] 1950 LIONEL TRAINS SMOKE LOCOMOTIVES WITH MAGNE-TRACTION INSTRUCTIONS http://t.co/xEZBs3sq0y http://t.co/C2x0QoKGlY\n",
      "\n",
      "-----\n",
      "\n",
      "Target: 0, pred: 1.0, Prob: 0.7947311997413635\n",
      "Text:\n",
      "@AshGhebranious civil rights continued in the 60s. And what about trans-generational trauma? if anything we should listen to the Americans.\n",
      "\n",
      "-----\n",
      "\n",
      "Target: 0, pred: 1.0, Prob: 0.7803226709365845\n",
      "Text:\n",
      "The Sound of Arson\n",
      "\n",
      "-----\n",
      "\n",
      "Target: 0, pred: 1.0, Prob: 0.7758587598800659\n",
      "Text:\n",
      "åÈMGN-AFRICAå¨ pin:263789F4 åÈ Correction: Tent Collapse Story: Correction: Tent Collapse story åÈ http://t.co/fDJUYvZMrv @wizkidayo\n",
      "\n",
      "-----\n",
      "\n"
     ]
    }
   ],
   "source": [
    "# Checht the false positives (model predicted 1 when should've been 0)\n",
    "for row in most_wrong[:10].itertuples():\n",
    "    _, text, target, pred, pred_prob = row\n",
    "    print(f\"Target: {target}, pred: {pred}, Prob: {pred_prob}\")\n",
    "    print(f\"Text:\\n{text}\\n\")\n",
    "    print(\"-----\\n\")"
   ]
  },
  {
   "cell_type": "code",
   "execution_count": 166,
   "id": "84a2279a-80a3-49ee-bf9a-afcf4eb9a9e4",
   "metadata": {},
   "outputs": [
    {
     "name": "stdout",
     "output_type": "stream",
     "text": [
      "Target: 1, pred: 0.0, Prob: 0.05782010033726692\n",
      "Text:\n",
      "VICTORINOX SWISS ARMY DATE WOMEN'S RUBBER MOP WATCH 241487 http://t.co/yFy3nkkcoH http://t.co/KNEhVvOHVK\n",
      "\n",
      "-----\n",
      "\n",
      "Target: 1, pred: 0.0, Prob: 0.05666424334049225\n",
      "Text:\n",
      "going to redo my nails and watch behind the scenes of desolation of smaug ayyy\n",
      "\n",
      "-----\n",
      "\n",
      "Target: 1, pred: 0.0, Prob: 0.05605882406234741\n",
      "Text:\n",
      "You can never escape me. Bullets don't harm me. Nothing harms me. But I know pain. I know pain. Sometimes I share it. With someone like you.\n",
      "\n",
      "-----\n",
      "\n",
      "Target: 1, pred: 0.0, Prob: 0.053506698459386826\n",
      "Text:\n",
      "@willienelson We need help! Horses will die!Please RT &amp; sign petition!Take a stand &amp; be a voice for them! #gilbert23 https://t.co/e8dl1lNCVu\n",
      "\n",
      "-----\n",
      "\n",
      "Target: 1, pred: 0.0, Prob: 0.0520959347486496\n",
      "Text:\n",
      "Lucas Duda is Ghost Rider. Not the Nic Cage version but an actual 'engulfed in flames' badass. #Mets\n",
      "\n",
      "-----\n",
      "\n",
      "Target: 1, pred: 0.0, Prob: 0.044703155755996704\n",
      "Text:\n",
      "I get to smoke my shit in peace\n",
      "\n",
      "-----\n",
      "\n",
      "Target: 1, pred: 0.0, Prob: 0.04128392040729523\n",
      "Text:\n",
      "Reddit Will Now QuarantineÛ_ http://t.co/pkUAMXw6pm #onlinecommunities #reddit #amageddon #freespeech #Business http://t.co/PAWvNJ4sAP\n",
      "\n",
      "-----\n",
      "\n",
      "Target: 1, pred: 0.0, Prob: 0.035877808928489685\n",
      "Text:\n",
      "@SoonerMagic_ I mean I'm a fan but I don't need a girl sounding off like a damn siren\n",
      "\n",
      "-----\n",
      "\n",
      "Target: 1, pred: 0.0, Prob: 0.03461683914065361\n",
      "Text:\n",
      "Why are you deluged with low self-image? Take the quiz: http://t.co/XsPqdOrIqj http://t.co/CQYvFR4UCy\n",
      "\n",
      "-----\n",
      "\n",
      "Target: 1, pred: 0.0, Prob: 0.03278074041008949\n",
      "Text:\n",
      "Ron &amp; Fez - Dave's High School Crush https://t.co/aN3W16c8F6 via @YouTube\n",
      "\n",
      "-----\n",
      "\n"
     ]
    }
   ],
   "source": [
    "# Checht the false negatives (model predicted 0 when should've been 1)\n",
    "for row in most_wrong[-10:].itertuples():\n",
    "    _, text, target, pred, pred_prob = row\n",
    "    print(f\"Target: {target}, pred: {pred}, Prob: {pred_prob}\")\n",
    "    print(f\"Text:\\n{text}\\n\")\n",
    "    print(\"-----\\n\")"
   ]
  },
  {
   "cell_type": "markdown",
   "id": "d56c058f-2dd4-49cc-b822-9f3eb825424b",
   "metadata": {},
   "source": [
    "## Making predictions on the test dataset"
   ]
  },
  {
   "cell_type": "code",
   "execution_count": 167,
   "id": "3d39cf6e-1d32-491d-8067-905d8554459a",
   "metadata": {},
   "outputs": [
    {
     "name": "stdout",
     "output_type": "stream",
     "text": [
      "1/1 [==============================] - 0s 287ms/step\n",
      "Pred: 0, Prob: 0.41903144121170044\n",
      "Text:\n",
      " Society will collapse by 2040 due to catastrophic food shortages says study http://t.co/2wWZBW5lId\n",
      "\n",
      "-----\n",
      "\n",
      "1/1 [==============================] - 0s 205ms/step\n",
      "Pred: 1, Prob: 0.5092760920524597\n",
      "Text:\n",
      " #360WiseNews : China's Stock Market Crash: Are There Gems In The Rubble? http://t.co/r0FLXJx5vX\n",
      "\n",
      "-----\n",
      "\n",
      "1/1 [==============================] - 0s 143ms/step\n",
      "Pred: 0, Prob: 0.06927476078271866\n",
      "Text:\n",
      " My new sounds: War Zone https://t.co/hNXRfqRk3P on #SoundCloud\n",
      "\n",
      "-----\n",
      "\n",
      "1/1 [==============================] - 0s 117ms/step\n",
      "Pred: 0, Prob: 0.057990264147520065\n",
      "Text:\n",
      " People are bagging on Rousey's body? Shit I'd love to have a body like that. Those who are ridiculing her are probably dudes in skinny jeans\n",
      "\n",
      "-----\n",
      "\n",
      "1/1 [==============================] - 0s 79ms/step\n",
      "Pred: 0, Prob: 0.07219399511814117\n",
      "Text:\n",
      " @MikeParrActor if Ross is dead I shall never watch emmerdale again I'll be that heartbroken ??\n",
      "\n",
      "-----\n",
      "\n",
      "1/1 [==============================] - 0s 74ms/step\n",
      "Pred: 1, Prob: 0.803953230381012\n",
      "Text:\n",
      " #CecilTownship seeks emergency repairs to Southpointe Boulevard landslide: http://t.co/ZjJdt3so72\n",
      "\n",
      "-----\n",
      "\n",
      "1/1 [==============================] - 0s 75ms/step\n",
      "Pred: 0, Prob: 0.06602781265974045\n",
      "Text:\n",
      " I survived the tube strike! This is my victory smile ;D http://t.co/L3Y3x2Cats\n",
      "\n",
      "-----\n",
      "\n",
      "1/1 [==============================] - 0s 79ms/step\n",
      "Pred: 0, Prob: 0.10134489834308624\n",
      "Text:\n",
      " @itsTiimothy bhill bruh you can obliterate beez\n",
      "\n",
      "-----\n",
      "\n",
      "1/1 [==============================] - 0s 78ms/step\n",
      "Pred: 0, Prob: 0.33529365062713623\n",
      "Text:\n",
      " I crushed a 5.1 mi run with a pace of 13'0' with Nike+ SportWatch GPS. #nikeplus: http://t.co/lJiiuuaTRC\n",
      "\n",
      "-----\n",
      "\n",
      "1/1 [==============================] - 0s 75ms/step\n",
      "Pred: 0, Prob: 0.3459707200527191\n",
      "Text:\n",
      " ??Water fight??\n",
      "Penn park 6pm \n",
      "      BYOW\n",
      "(Bring Your Own Weapons)\n",
      "\n",
      "-----\n",
      "\n"
     ]
    }
   ],
   "source": [
    "# Making predictions on the test dataset and visualizing them\n",
    "test_sentences = test_df['text'].to_list()\n",
    "test_samples = random.sample(test_sentences, 10)\n",
    "for test_sample in test_samples:\n",
    "    pred_prob = tf.squeeze(model_6.predict([test_sample])) # has to be list\n",
    "    pred = tf.round(pred_prob)\n",
    "    print(f\"Pred: {int(pred)}, Prob: {pred_prob}\")\n",
    "    print(f\"Text:\\n {test_sample}\\n\")\n",
    "    print(\"-----\\n\")"
   ]
  },
  {
   "cell_type": "code",
   "execution_count": null,
   "id": "dba05c17-24fa-4ab5-b0db-fd3be30e82f9",
   "metadata": {},
   "outputs": [],
   "source": []
  }
 ],
 "metadata": {
  "kernelspec": {
   "display_name": "Python 3 (ipykernel)",
   "language": "python",
   "name": "python3"
  },
  "language_info": {
   "codemirror_mode": {
    "name": "ipython",
    "version": 3
   },
   "file_extension": ".py",
   "mimetype": "text/x-python",
   "name": "python",
   "nbconvert_exporter": "python",
   "pygments_lexer": "ipython3",
   "version": "3.10.9"
  }
 },
 "nbformat": 4,
 "nbformat_minor": 5
}
