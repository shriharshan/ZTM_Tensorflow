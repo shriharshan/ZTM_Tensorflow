{
 "cells": [
  {
   "cell_type": "code",
   "execution_count": 1,
   "id": "5ad6e694-a36d-485d-9135-d934cb30dcc2",
   "metadata": {},
   "outputs": [],
   "source": [
    "import pandas as pd\n",
    "import numpy as np\n",
    "import matplotlib.pyplot as plt\n",
    "import seaborn as sns\n",
    "import tensorflow as tf"
   ]
  },
  {
   "cell_type": "markdown",
   "id": "37399cda-4ce0-46bc-abd8-8306f3c5495f",
   "metadata": {},
   "source": [
    "#### Load Data\n",
    "- X_train is the dataset of 28 X 28 images of handwritten digits that the model will be trained on\n",
    "- X_test is the dataset of labels that correspond to X_train\n",
    "- y_train is the dataset of 28 X 28 imahes of handwritten digits that the model will be tested on\n",
    "- y_test is thw dataset of labels that correspond to X_test"
   ]
  },
  {
   "cell_type": "code",
   "execution_count": 2,
   "id": "535cd29b-d80c-4592-8b30-ed18a7ab9971",
   "metadata": {},
   "outputs": [],
   "source": [
    "(X_train, y_train), (X_test, y_test) = tf.keras.datasets.mnist.load_data()"
   ]
  },
  {
   "cell_type": "code",
   "execution_count": 3,
   "id": "322b0c95-a204-4632-8f89-1618846f1d6a",
   "metadata": {},
   "outputs": [
    {
     "data": {
      "text/plain": [
       "((60000, 28, 28), (10000, 28, 28), (60000,), (10000,))"
      ]
     },
     "execution_count": 3,
     "metadata": {},
     "output_type": "execute_result"
    }
   ],
   "source": [
    "X_train.shape, X_test.shape, y_train.shape, y_test.shape"
   ]
  },
  {
   "cell_type": "code",
   "execution_count": 4,
   "id": "4ac0b9b5-2a54-4df3-8b31-25927198b23e",
   "metadata": {},
   "outputs": [
    {
     "data": {
      "text/plain": [
       "255"
      ]
     },
     "execution_count": 4,
     "metadata": {},
     "output_type": "execute_result"
    }
   ],
   "source": [
    "X_train.max()"
   ]
  },
  {
   "cell_type": "code",
   "execution_count": 5,
   "id": "ef5d4004-69ce-4372-a575-7b81fc06585f",
   "metadata": {
    "scrolled": true
   },
   "outputs": [
    {
     "data": {
      "text/plain": [
       "array([[  0,   0,   0,   0,   0,   0,   0,   0,   0,   0,   0,   0,   0,\n",
       "          0,   0,   0,   0,   0,   0,   0,   0,   0,   0,   0,   0,   0,\n",
       "          0,   0],\n",
       "       [  0,   0,   0,   0,   0,   0,   0,   0,   0,   0,   0,   0,   0,\n",
       "          0,   0,   0,   0,   0,   0,   0,   0,   0,   0,   0,   0,   0,\n",
       "          0,   0],\n",
       "       [  0,   0,   0,   0,   0,   0,   0,   0,   0,   0,   0,   0,   0,\n",
       "          0,   0,   0,   0,   0,   0,   0,   0,   0,   0,   0,   0,   0,\n",
       "          0,   0],\n",
       "       [  0,   0,   0,   0,   0,   0,   0,   0,   0,   0,   0,   0,   0,\n",
       "          0,   0,   0,   0,   0,   0,   0,   0,   0,   0,   0,   0,   0,\n",
       "          0,   0],\n",
       "       [  0,   0,   0,   0,   0,   0,   0,   0,   0,   0,   0,   0,   0,\n",
       "          0,   0,   0,   0,   0,   0,   0,   0,   0,   0,   0,   0,   0,\n",
       "          0,   0],\n",
       "       [  0,   0,   0,   0,   0,   0,   0,   0,   0,   0,   0,   0,   3,\n",
       "         18,  18,  18, 126, 136, 175,  26, 166, 255, 247, 127,   0,   0,\n",
       "          0,   0],\n",
       "       [  0,   0,   0,   0,   0,   0,   0,   0,  30,  36,  94, 154, 170,\n",
       "        253, 253, 253, 253, 253, 225, 172, 253, 242, 195,  64,   0,   0,\n",
       "          0,   0],\n",
       "       [  0,   0,   0,   0,   0,   0,   0,  49, 238, 253, 253, 253, 253,\n",
       "        253, 253, 253, 253, 251,  93,  82,  82,  56,  39,   0,   0,   0,\n",
       "          0,   0],\n",
       "       [  0,   0,   0,   0,   0,   0,   0,  18, 219, 253, 253, 253, 253,\n",
       "        253, 198, 182, 247, 241,   0,   0,   0,   0,   0,   0,   0,   0,\n",
       "          0,   0],\n",
       "       [  0,   0,   0,   0,   0,   0,   0,   0,  80, 156, 107, 253, 253,\n",
       "        205,  11,   0,  43, 154,   0,   0,   0,   0,   0,   0,   0,   0,\n",
       "          0,   0],\n",
       "       [  0,   0,   0,   0,   0,   0,   0,   0,   0,  14,   1, 154, 253,\n",
       "         90,   0,   0,   0,   0,   0,   0,   0,   0,   0,   0,   0,   0,\n",
       "          0,   0],\n",
       "       [  0,   0,   0,   0,   0,   0,   0,   0,   0,   0,   0, 139, 253,\n",
       "        190,   2,   0,   0,   0,   0,   0,   0,   0,   0,   0,   0,   0,\n",
       "          0,   0],\n",
       "       [  0,   0,   0,   0,   0,   0,   0,   0,   0,   0,   0,  11, 190,\n",
       "        253,  70,   0,   0,   0,   0,   0,   0,   0,   0,   0,   0,   0,\n",
       "          0,   0],\n",
       "       [  0,   0,   0,   0,   0,   0,   0,   0,   0,   0,   0,   0,  35,\n",
       "        241, 225, 160, 108,   1,   0,   0,   0,   0,   0,   0,   0,   0,\n",
       "          0,   0],\n",
       "       [  0,   0,   0,   0,   0,   0,   0,   0,   0,   0,   0,   0,   0,\n",
       "         81, 240, 253, 253, 119,  25,   0,   0,   0,   0,   0,   0,   0,\n",
       "          0,   0],\n",
       "       [  0,   0,   0,   0,   0,   0,   0,   0,   0,   0,   0,   0,   0,\n",
       "          0,  45, 186, 253, 253, 150,  27,   0,   0,   0,   0,   0,   0,\n",
       "          0,   0],\n",
       "       [  0,   0,   0,   0,   0,   0,   0,   0,   0,   0,   0,   0,   0,\n",
       "          0,   0,  16,  93, 252, 253, 187,   0,   0,   0,   0,   0,   0,\n",
       "          0,   0],\n",
       "       [  0,   0,   0,   0,   0,   0,   0,   0,   0,   0,   0,   0,   0,\n",
       "          0,   0,   0,   0, 249, 253, 249,  64,   0,   0,   0,   0,   0,\n",
       "          0,   0],\n",
       "       [  0,   0,   0,   0,   0,   0,   0,   0,   0,   0,   0,   0,   0,\n",
       "          0,  46, 130, 183, 253, 253, 207,   2,   0,   0,   0,   0,   0,\n",
       "          0,   0],\n",
       "       [  0,   0,   0,   0,   0,   0,   0,   0,   0,   0,   0,   0,  39,\n",
       "        148, 229, 253, 253, 253, 250, 182,   0,   0,   0,   0,   0,   0,\n",
       "          0,   0],\n",
       "       [  0,   0,   0,   0,   0,   0,   0,   0,   0,   0,  24, 114, 221,\n",
       "        253, 253, 253, 253, 201,  78,   0,   0,   0,   0,   0,   0,   0,\n",
       "          0,   0],\n",
       "       [  0,   0,   0,   0,   0,   0,   0,   0,  23,  66, 213, 253, 253,\n",
       "        253, 253, 198,  81,   2,   0,   0,   0,   0,   0,   0,   0,   0,\n",
       "          0,   0],\n",
       "       [  0,   0,   0,   0,   0,   0,  18, 171, 219, 253, 253, 253, 253,\n",
       "        195,  80,   9,   0,   0,   0,   0,   0,   0,   0,   0,   0,   0,\n",
       "          0,   0],\n",
       "       [  0,   0,   0,   0,  55, 172, 226, 253, 253, 253, 253, 244, 133,\n",
       "         11,   0,   0,   0,   0,   0,   0,   0,   0,   0,   0,   0,   0,\n",
       "          0,   0],\n",
       "       [  0,   0,   0,   0, 136, 253, 253, 253, 212, 135, 132,  16,   0,\n",
       "          0,   0,   0,   0,   0,   0,   0,   0,   0,   0,   0,   0,   0,\n",
       "          0,   0],\n",
       "       [  0,   0,   0,   0,   0,   0,   0,   0,   0,   0,   0,   0,   0,\n",
       "          0,   0,   0,   0,   0,   0,   0,   0,   0,   0,   0,   0,   0,\n",
       "          0,   0],\n",
       "       [  0,   0,   0,   0,   0,   0,   0,   0,   0,   0,   0,   0,   0,\n",
       "          0,   0,   0,   0,   0,   0,   0,   0,   0,   0,   0,   0,   0,\n",
       "          0,   0],\n",
       "       [  0,   0,   0,   0,   0,   0,   0,   0,   0,   0,   0,   0,   0,\n",
       "          0,   0,   0,   0,   0,   0,   0,   0,   0,   0,   0,   0,   0,\n",
       "          0,   0]], dtype=uint8)"
      ]
     },
     "execution_count": 5,
     "metadata": {},
     "output_type": "execute_result"
    }
   ],
   "source": [
    "X_train[0]"
   ]
  },
  {
   "cell_type": "code",
   "execution_count": 6,
   "id": "dcea82c3-0d2a-4211-9a90-7c73c20a3def",
   "metadata": {},
   "outputs": [
    {
     "name": "stderr",
     "output_type": "stream",
     "text": [
      "C:\\Users\\shrih\\AppData\\Roaming\\Python\\Python310\\site-packages\\seaborn\\_oldcore.py:1498: FutureWarning: is_categorical_dtype is deprecated and will be removed in a future version. Use isinstance(dtype, CategoricalDtype) instead\n",
      "  if pd.api.types.is_categorical_dtype(vector):\n",
      "C:\\Users\\shrih\\AppData\\Roaming\\Python\\Python310\\site-packages\\seaborn\\_oldcore.py:1498: FutureWarning: is_categorical_dtype is deprecated and will be removed in a future version. Use isinstance(dtype, CategoricalDtype) instead\n",
      "  if pd.api.types.is_categorical_dtype(vector):\n",
      "C:\\Users\\shrih\\AppData\\Roaming\\Python\\Python310\\site-packages\\seaborn\\_oldcore.py:1765: FutureWarning: unique with argument that is not not a Series, Index, ExtensionArray, or np.ndarray is deprecated and will raise in a future version.\n",
      "  order = pd.unique(vector)\n",
      "C:\\Users\\shrih\\AppData\\Roaming\\Python\\Python310\\site-packages\\seaborn\\_oldcore.py:1498: FutureWarning: is_categorical_dtype is deprecated and will be removed in a future version. Use isinstance(dtype, CategoricalDtype) instead\n",
      "  if pd.api.types.is_categorical_dtype(vector):\n"
     ]
    },
    {
     "data": {
      "image/png": "[encoded data removed]",
      "text/plain": [
       "<Figure size 1000x600 with 1 Axes>"
      ]
     },
     "metadata": {},
     "output_type": "display_data"
    }
   ],
   "source": [
    "# Check the count of each digit present in y_train\n",
    "from collections import Counter\n",
    "digits = Counter(y_train)\n",
    "\n",
    "sns.set(style='whitegrid')\n",
    "plt.figure(figsize=(10,6))\n",
    "\n",
    "sns.barplot(x=list(digits.keys()), y=list(digits.values()), palette='viridis')\n",
    "\n",
    "plt.xlabel(\"Digit\")\n",
    "plt.ylabel(\"Counts\")\n",
    "plt.title(\"Count of each digits in y_train\")\n",
    "\n",
    "plt.show()"
   ]
  },
  {
   "cell_type": "markdown",
   "id": "c7b90616-24e9-4249-ae22-dfa977440caf",
   "metadata": {},
   "source": [
    "#### Check for nan values"
   ]
  },
  {
   "cell_type": "code",
   "execution_count": 7,
   "id": "790d1e8a-d494-411a-a474-72d78652f259",
   "metadata": {},
   "outputs": [
    {
     "data": {
      "text/plain": [
       "False"
      ]
     },
     "execution_count": 7,
     "metadata": {},
     "output_type": "execute_result"
    }
   ],
   "source": [
    "np.isnan(X_train).any()"
   ]
  },
  {
   "cell_type": "code",
   "execution_count": 8,
   "id": "619ce251-d175-41f1-bedf-cd8054209456",
   "metadata": {},
   "outputs": [
    {
     "data": {
      "text/plain": [
       "False"
      ]
     },
     "execution_count": 8,
     "metadata": {},
     "output_type": "execute_result"
    }
   ],
   "source": [
    "np.isnan(y_train).any()"
   ]
  },
  {
   "cell_type": "markdown",
   "id": "94bc59f0-c858-4c89-ac6a-6ae290ff892c",
   "metadata": {},
   "source": [
    "#### Normalizing and Reshaping the data\n",
    "\n",
    "Since the values in our X_train dataset are 28 X 28 images, our input shape must be specified so that our model will know what is being inputed."
   ]
  },
  {
   "cell_type": "code",
   "execution_count": 9,
   "id": "45c65106-7ef8-48cb-8a10-fd1cfb98f078",
   "metadata": {},
   "outputs": [
    {
     "data": {
      "text/plain": [
       "(60000, 28, 28)"
      ]
     },
     "execution_count": 9,
     "metadata": {},
     "output_type": "execute_result"
    }
   ],
   "source": [
    "X_train.shape[0], X_train.shape[1], X_train.shape[2]"
   ]
  },
  {
   "cell_type": "markdown",
   "id": "09e32ac6-e963-4688-a6e6-67241c7d46b5",
   "metadata": {},
   "source": [
    "### Label Encoding\n",
    "\n",
    "The labels for the training and testing dataset are currently categorical and is not continous. To include categorical dataset in our model, our labels should be converted to on-hor encodings.\n",
    "\n",
    "For example, 2 becomes [0, 0, 1, 0, 0, 0, 0, 0, 0] and 7 becomes [0, 0, 0, 0, 0, 0, 0, 1, 0, 0]"
   ]
  },
  {
   "cell_type": "code",
   "execution_count": 10,
   "id": "985a9aac-3e50-4681-9ccb-5122c9061087",
   "metadata": {
    "scrolled": true
   },
   "outputs": [
    {
     "name": "stdout",
     "output_type": "stream",
     "text": [
      "Training sample:\n",
      "[[  0   0   0   0   0   0   0   0   0   0   0   0   0   0   0   0   0   0\n",
      "    0   0   0   0   0   0   0   0   0   0]\n",
      " [  0   0   0   0   0   0   0   0   0   0   0   0   0   0   0   0   0   0\n",
      "    0   0   0   0   0   0   0   0   0   0]\n",
      " [  0   0   0   0   0   0   0   0   0   0   0   0   0   0   0   0   0   0\n",
      "    0   0   0   0   0   0   0   0   0   0]\n",
      " [  0   0   0   0   0   0   0   0   0   0   0   0   0   0   0   0   0   0\n",
      "    0   0   0   0   0   0   0   0   0   0]\n",
      " [  0   0   0   0   0   0   0   0   0   0   0   0   0   0   0   0   0   0\n",
      "    0   0   0   0   0   0   0   0   0   0]\n",
      " [  0   0   0   0   0   0   0   0   0   0   0   0   3  18  18  18 126 136\n",
      "  175  26 166 255 247 127   0   0   0   0]\n",
      " [  0   0   0   0   0   0   0   0  30  36  94 154 170 253 253 253 253 253\n",
      "  225 172 253 242 195  64   0   0   0   0]\n",
      " [  0   0   0   0   0   0   0  49 238 253 253 253 253 253 253 253 253 251\n",
      "   93  82  82  56  39   0   0   0   0   0]\n",
      " [  0   0   0   0   0   0   0  18 219 253 253 253 253 253 198 182 247 241\n",
      "    0   0   0   0   0   0   0   0   0   0]\n",
      " [  0   0   0   0   0   0   0   0  80 156 107 253 253 205  11   0  43 154\n",
      "    0   0   0   0   0   0   0   0   0   0]\n",
      " [  0   0   0   0   0   0   0   0   0  14   1 154 253  90   0   0   0   0\n",
      "    0   0   0   0   0   0   0   0   0   0]\n",
      " [  0   0   0   0   0   0   0   0   0   0   0 139 253 190   2   0   0   0\n",
      "    0   0   0   0   0   0   0   0   0   0]\n",
      " [  0   0   0   0   0   0   0   0   0   0   0  11 190 253  70   0   0   0\n",
      "    0   0   0   0   0   0   0   0   0   0]\n",
      " [  0   0   0   0   0   0   0   0   0   0   0   0  35 241 225 160 108   1\n",
      "    0   0   0   0   0   0   0   0   0   0]\n",
      " [  0   0   0   0   0   0   0   0   0   0   0   0   0  81 240 253 253 119\n",
      "   25   0   0   0   0   0   0   0   0   0]\n",
      " [  0   0   0   0   0   0   0   0   0   0   0   0   0   0  45 186 253 253\n",
      "  150  27   0   0   0   0   0   0   0   0]\n",
      " [  0   0   0   0   0   0   0   0   0   0   0   0   0   0   0  16  93 252\n",
      "  253 187   0   0   0   0   0   0   0   0]\n",
      " [  0   0   0   0   0   0   0   0   0   0   0   0   0   0   0   0   0 249\n",
      "  253 249  64   0   0   0   0   0   0   0]\n",
      " [  0   0   0   0   0   0   0   0   0   0   0   0   0   0  46 130 183 253\n",
      "  253 207   2   0   0   0   0   0   0   0]\n",
      " [  0   0   0   0   0   0   0   0   0   0   0   0  39 148 229 253 253 253\n",
      "  250 182   0   0   0   0   0   0   0   0]\n",
      " [  0   0   0   0   0   0   0   0   0   0  24 114 221 253 253 253 253 201\n",
      "   78   0   0   0   0   0   0   0   0   0]\n",
      " [  0   0   0   0   0   0   0   0  23  66 213 253 253 253 253 198  81   2\n",
      "    0   0   0   0   0   0   0   0   0   0]\n",
      " [  0   0   0   0   0   0  18 171 219 253 253 253 253 195  80   9   0   0\n",
      "    0   0   0   0   0   0   0   0   0   0]\n",
      " [  0   0   0   0  55 172 226 253 253 253 253 244 133  11   0   0   0   0\n",
      "    0   0   0   0   0   0   0   0   0   0]\n",
      " [  0   0   0   0 136 253 253 253 212 135 132  16   0   0   0   0   0   0\n",
      "    0   0   0   0   0   0   0   0   0   0]\n",
      " [  0   0   0   0   0   0   0   0   0   0   0   0   0   0   0   0   0   0\n",
      "    0   0   0   0   0   0   0   0   0   0]\n",
      " [  0   0   0   0   0   0   0   0   0   0   0   0   0   0   0   0   0   0\n",
      "    0   0   0   0   0   0   0   0   0   0]\n",
      " [  0   0   0   0   0   0   0   0   0   0   0   0   0   0   0   0   0   0\n",
      "    0   0   0   0   0   0   0   0   0   0]]\n",
      "\n",
      "Training label:\n",
      " 5\n",
      "\n"
     ]
    }
   ],
   "source": [
    "# Show the forst training examples\n",
    "print(f'Training sample:\\n{X_train[0]}\\n')\n",
    "print(f'Training label:\\n {y_train[0]}\\n')"
   ]
  },
  {
   "cell_type": "code",
   "execution_count": 11,
   "id": "d1abad69-9608-49b9-9e43-359325d2a33e",
   "metadata": {},
   "outputs": [
    {
     "data": {
      "text/plain": [
       "10"
      ]
     },
     "execution_count": 11,
     "metadata": {},
     "output_type": "execute_result"
    }
   ],
   "source": [
    "class_names = ['Zeros','One','Two','Three','Four','Five','Six','Seven','Eight','Nine']\n",
    "len(class_names)"
   ]
  },
  {
   "cell_type": "code",
   "execution_count": 12,
   "id": "298d5788-b00c-4f43-bff6-ee2296aa496d",
   "metadata": {},
   "outputs": [
    {
     "data": {
      "text/plain": [
       "Text(0.5, 1.0, 'Nine')"
      ]
     },
     "execution_count": 12,
     "metadata": {},
     "output_type": "execute_result"
    },
    {
     "data": {
      "image/png": "[encoded data removed]",
      "text/plain": [
       "<Figure size 640x480 with 1 Axes>"
      ]
     },
     "metadata": {},
     "output_type": "display_data"
    }
   ],
   "source": [
    "index_of_choice = 4\n",
    "plt.imshow(X_train[index_of_choice], cmap=plt.cm.binary)\n",
    "plt.title(class_names[y_train[index_of_choice]])"
   ]
  },
  {
   "cell_type": "code",
   "execution_count": 13,
   "id": "2bca3721-3c04-44d6-91ac-9e902be97766",
   "metadata": {},
   "outputs": [
    {
     "data": {
      "image/png": "[encoded data removed]",
      "text/plain": [
       "<Figure size 700x700 with 4 Axes>"
      ]
     },
     "metadata": {},
     "output_type": "display_data"
    }
   ],
   "source": [
    "import random\n",
    "plt.figure(figsize=(7, 7))\n",
    "for i in range(4):\n",
    "    ax = plt.subplot(2, 2, i+1)\n",
    "    rand_index = random.choice(range(len(X_train)))\n",
    "    plt.imshow(X_train[rand_index], cmap=plt.cm.binary)\n",
    "    plt.title(class_names[y_train[rand_index]])"
   ]
  },
  {
   "cell_type": "markdown",
   "id": "1a58a28a-5a51-4495-904c-fcb65de64fa4",
   "metadata": {},
   "source": [
    "#### Building a multi-class classificaton model\n",
    "For our multi-class classification model, we can use a similar architecture to our binary class classification. However, we're going to have to tweak a few things\n",
    "\n",
    "- Input shape = 28X28 (The shape of one image)\n",
    "- Output shape = 10(One per class of HandWritten digits)\n",
    "- Loss function = tf.keras.lossesCategoricalCrossentrophy()\n",
    "    - If your labels are one-hot encoded, use CategoricalCrossentrophy()\n",
    "    - If your labels are integer form, use SparceCategoricalCrossentrophy()\n",
    "- Output layer activation = Softmaax(not sigmoid)"
   ]
  },
  {
   "cell_type": "code",
   "execution_count": 14,
   "id": "7004bc77-faa2-4569-b8e8-7dc52cd6f574",
   "metadata": {},
   "outputs": [
    {
     "data": {
      "text/plain": [
       "(None, 784)"
      ]
     },
     "execution_count": 14,
     "metadata": {},
     "output_type": "execute_result"
    }
   ],
   "source": [
    "flatten_model = tf.keras.Sequential([tf.keras.layers.Flatten(input_shape=(28, 28, 1))])\n",
    "flatten_model.output_shape"
   ]
  },
  {
   "cell_type": "code",
   "execution_count": 15,
   "id": "bd6455d9-a21e-4e1f-a85c-9adb81aa986e",
   "metadata": {},
   "outputs": [
    {
     "data": {
      "text/plain": [
       "784"
      ]
     },
     "execution_count": 15,
     "metadata": {},
     "output_type": "execute_result"
    }
   ],
   "source": [
    "28*28"
   ]
  },
  {
   "cell_type": "code",
   "execution_count": 16,
   "id": "ef6053d6-2635-4e48-84c7-4a0920a3f32a",
   "metadata": {},
   "outputs": [
    {
     "data": {
      "text/plain": [
       "array([5, 0, 4, 1, 9, 2, 1, 3, 1, 4], dtype=uint8)"
      ]
     },
     "execution_count": 16,
     "metadata": {},
     "output_type": "execute_result"
    }
   ],
   "source": [
    "y_train[:10]"
   ]
  },
  {
   "cell_type": "code",
   "execution_count": 17,
   "id": "3826dae3-1fe0-4d96-9774-8db1ba7c44fc",
   "metadata": {},
   "outputs": [
    {
     "data": {
      "text/plain": [
       "<tf.Tensor: shape=(10, 10), dtype=float32, numpy=\n",
       "array([[0., 0., 0., 0., 0., 1., 0., 0., 0., 0.],\n",
       "       [1., 0., 0., 0., 0., 0., 0., 0., 0., 0.],\n",
       "       [0., 0., 0., 0., 1., 0., 0., 0., 0., 0.],\n",
       "       [0., 1., 0., 0., 0., 0., 0., 0., 0., 0.],\n",
       "       [0., 0., 0., 0., 0., 0., 0., 0., 0., 1.],\n",
       "       [0., 0., 1., 0., 0., 0., 0., 0., 0., 0.],\n",
       "       [0., 1., 0., 0., 0., 0., 0., 0., 0., 0.],\n",
       "       [0., 0., 0., 1., 0., 0., 0., 0., 0., 0.],\n",
       "       [0., 1., 0., 0., 0., 0., 0., 0., 0., 0.],\n",
       "       [0., 0., 0., 0., 1., 0., 0., 0., 0., 0.]], dtype=float32)>"
      ]
     },
     "execution_count": 17,
     "metadata": {},
     "output_type": "execute_result"
    }
   ],
   "source": [
    "tf.one_hot(y_train[:10], depth=10)"
   ]
  },
  {
   "cell_type": "code",
   "execution_count": 18,
   "id": "e9462746-cc12-4100-bb05-fb21de4f4bc0",
   "metadata": {
    "scrolled": true
   },
   "outputs": [
    {
     "name": "stdout",
     "output_type": "stream",
     "text": [
      "Epoch 1/50\n",
      "1875/1875 [==============================] - 7s 3ms/step - loss: 1.5495 - accuracy: 0.8083 - val_loss: 0.4161 - val_accuracy: 0.8967\n",
      "Epoch 2/50\n",
      "1875/1875 [==============================] - 7s 3ms/step - loss: 0.3624 - accuracy: 0.9070 - val_loss: 0.2686 - val_accuracy: 0.9315\n",
      "Epoch 3/50\n",
      "1875/1875 [==============================] - 7s 4ms/step - loss: 0.2438 - accuracy: 0.9335 - val_loss: 0.2473 - val_accuracy: 0.9379\n",
      "Epoch 4/50\n",
      "1875/1875 [==============================] - 7s 4ms/step - loss: 0.1956 - accuracy: 0.9482 - val_loss: 0.1980 - val_accuracy: 0.9472\n",
      "Epoch 5/50\n",
      "1875/1875 [==============================] - 7s 4ms/step - loss: 0.1502 - accuracy: 0.9580 - val_loss: 0.1667 - val_accuracy: 0.9573\n",
      "Epoch 6/50\n",
      "1875/1875 [==============================] - 7s 4ms/step - loss: 0.1380 - accuracy: 0.9619 - val_loss: 0.1415 - val_accuracy: 0.9643\n",
      "Epoch 7/50\n",
      "1875/1875 [==============================] - 7s 4ms/step - loss: 0.1149 - accuracy: 0.9690 - val_loss: 0.1408 - val_accuracy: 0.9653\n",
      "Epoch 8/50\n",
      "1875/1875 [==============================] - 7s 4ms/step - loss: 0.1109 - accuracy: 0.9706 - val_loss: 0.1391 - val_accuracy: 0.9660\n",
      "Epoch 9/50\n",
      "1875/1875 [==============================] - 7s 4ms/step - loss: 0.0952 - accuracy: 0.9743 - val_loss: 0.1471 - val_accuracy: 0.9657\n",
      "Epoch 10/50\n",
      "1875/1875 [==============================] - 7s 3ms/step - loss: 0.0891 - accuracy: 0.9768 - val_loss: 0.1335 - val_accuracy: 0.9666\n",
      "Epoch 11/50\n",
      "1875/1875 [==============================] - 7s 4ms/step - loss: 0.0892 - accuracy: 0.9766 - val_loss: 0.1594 - val_accuracy: 0.9609\n",
      "Epoch 12/50\n",
      "1875/1875 [==============================] - 7s 4ms/step - loss: 0.0819 - accuracy: 0.9785 - val_loss: 0.1824 - val_accuracy: 0.9652\n",
      "Epoch 13/50\n",
      "1875/1875 [==============================] - 7s 4ms/step - loss: 0.0801 - accuracy: 0.9793 - val_loss: 0.1647 - val_accuracy: 0.9670\n",
      "Epoch 14/50\n",
      "1875/1875 [==============================] - 7s 4ms/step - loss: 0.0732 - accuracy: 0.9808 - val_loss: 0.1561 - val_accuracy: 0.9705\n",
      "Epoch 15/50\n",
      "1875/1875 [==============================] - 7s 4ms/step - loss: 0.0743 - accuracy: 0.9801 - val_loss: 0.1790 - val_accuracy: 0.9673\n",
      "Epoch 16/50\n",
      "1875/1875 [==============================] - 7s 4ms/step - loss: 0.0699 - accuracy: 0.9821 - val_loss: 0.1789 - val_accuracy: 0.9690\n",
      "Epoch 17/50\n",
      "1875/1875 [==============================] - 7s 4ms/step - loss: 0.0663 - accuracy: 0.9824 - val_loss: 0.1740 - val_accuracy: 0.9710\n",
      "Epoch 18/50\n",
      "1875/1875 [==============================] - 7s 4ms/step - loss: 0.0609 - accuracy: 0.9843 - val_loss: 0.2034 - val_accuracy: 0.9662\n",
      "Epoch 19/50\n",
      "1875/1875 [==============================] - 7s 4ms/step - loss: 0.0672 - accuracy: 0.9837 - val_loss: 0.1540 - val_accuracy: 0.9714\n",
      "Epoch 20/50\n",
      "1875/1875 [==============================] - 7s 4ms/step - loss: 0.0581 - accuracy: 0.9851 - val_loss: 0.2228 - val_accuracy: 0.9697\n",
      "Epoch 21/50\n",
      "1875/1875 [==============================] - 7s 4ms/step - loss: 0.0624 - accuracy: 0.9850 - val_loss: 0.1888 - val_accuracy: 0.9682\n",
      "Epoch 22/50\n",
      "1875/1875 [==============================] - 7s 4ms/step - loss: 0.0543 - accuracy: 0.9863 - val_loss: 0.1731 - val_accuracy: 0.9700\n",
      "Epoch 23/50\n",
      "1875/1875 [==============================] - 7s 4ms/step - loss: 0.0552 - accuracy: 0.9859 - val_loss: 0.1743 - val_accuracy: 0.9713\n",
      "Epoch 24/50\n",
      "1875/1875 [==============================] - 7s 4ms/step - loss: 0.0516 - accuracy: 0.9869 - val_loss: 0.1971 - val_accuracy: 0.9737\n",
      "Epoch 25/50\n",
      "1875/1875 [==============================] - 7s 4ms/step - loss: 0.0577 - accuracy: 0.9864 - val_loss: 0.1711 - val_accuracy: 0.9716\n",
      "Epoch 26/50\n",
      "1875/1875 [==============================] - 7s 4ms/step - loss: 0.0532 - accuracy: 0.9869 - val_loss: 0.2476 - val_accuracy: 0.9655\n",
      "Epoch 27/50\n",
      "1875/1875 [==============================] - 787s 420ms/step - loss: 0.0583 - accuracy: 0.9860 - val_loss: 0.1877 - val_accuracy: 0.9698\n",
      "Epoch 28/50\n",
      "1875/1875 [==============================] - 7s 4ms/step - loss: 0.0544 - accuracy: 0.9868 - val_loss: 0.2082 - val_accuracy: 0.9712\n",
      "Epoch 29/50\n",
      "1875/1875 [==============================] - 7s 4ms/step - loss: 0.0486 - accuracy: 0.9883 - val_loss: 0.2668 - val_accuracy: 0.9704\n",
      "Epoch 30/50\n",
      "1875/1875 [==============================] - 7s 4ms/step - loss: 0.0543 - accuracy: 0.9873 - val_loss: 0.2152 - val_accuracy: 0.9708\n",
      "Epoch 31/50\n",
      "1875/1875 [==============================] - 7s 4ms/step - loss: 0.0526 - accuracy: 0.9875 - val_loss: 0.1917 - val_accuracy: 0.9732\n",
      "Epoch 32/50\n",
      "1875/1875 [==============================] - 7s 4ms/step - loss: 0.0544 - accuracy: 0.9873 - val_loss: 0.2743 - val_accuracy: 0.9647\n",
      "Epoch 33/50\n",
      "1875/1875 [==============================] - 7s 4ms/step - loss: 0.0452 - accuracy: 0.9892 - val_loss: 0.2607 - val_accuracy: 0.9725\n",
      "Epoch 34/50\n",
      "1875/1875 [==============================] - 7s 4ms/step - loss: 0.0602 - accuracy: 0.9868 - val_loss: 0.2500 - val_accuracy: 0.9716\n",
      "Epoch 35/50\n",
      "1875/1875 [==============================] - 7s 4ms/step - loss: 0.0588 - accuracy: 0.9874 - val_loss: 0.3101 - val_accuracy: 0.9717\n",
      "Epoch 36/50\n",
      "1875/1875 [==============================] - 7s 4ms/step - loss: 0.0480 - accuracy: 0.9883 - val_loss: 0.2923 - val_accuracy: 0.9683\n",
      "Epoch 37/50\n",
      "1875/1875 [==============================] - 7s 4ms/step - loss: 0.0496 - accuracy: 0.9883 - val_loss: 0.2733 - val_accuracy: 0.9718\n",
      "Epoch 38/50\n",
      "1875/1875 [==============================] - 7s 4ms/step - loss: 0.0522 - accuracy: 0.9883 - val_loss: 0.2883 - val_accuracy: 0.9692\n",
      "Epoch 39/50\n",
      "1875/1875 [==============================] - 7s 4ms/step - loss: 0.0552 - accuracy: 0.9874 - val_loss: 0.3375 - val_accuracy: 0.9670\n",
      "Epoch 40/50\n",
      "1875/1875 [==============================] - 7s 4ms/step - loss: 0.0501 - accuracy: 0.9887 - val_loss: 0.2939 - val_accuracy: 0.9699\n",
      "Epoch 41/50\n",
      "1875/1875 [==============================] - 8s 4ms/step - loss: 0.0565 - accuracy: 0.9872 - val_loss: 0.3292 - val_accuracy: 0.9716\n",
      "Epoch 42/50\n",
      "1875/1875 [==============================] - 7s 4ms/step - loss: 0.0527 - accuracy: 0.9880 - val_loss: 0.3124 - val_accuracy: 0.9718\n",
      "Epoch 43/50\n",
      "1875/1875 [==============================] - 7s 4ms/step - loss: 0.0460 - accuracy: 0.9902 - val_loss: 0.3465 - val_accuracy: 0.9678\n",
      "Epoch 44/50\n",
      "1875/1875 [==============================] - 7s 4ms/step - loss: 0.0556 - accuracy: 0.9880 - val_loss: 0.3443 - val_accuracy: 0.9691\n",
      "Epoch 45/50\n",
      "1875/1875 [==============================] - 7s 4ms/step - loss: 0.0483 - accuracy: 0.9891 - val_loss: 0.3430 - val_accuracy: 0.9699\n",
      "Epoch 46/50\n",
      "1875/1875 [==============================] - 7s 4ms/step - loss: 0.0495 - accuracy: 0.9881 - val_loss: 0.2994 - val_accuracy: 0.9705\n",
      "Epoch 47/50\n",
      "1875/1875 [==============================] - 7s 4ms/step - loss: 0.0507 - accuracy: 0.9883 - val_loss: 0.3355 - val_accuracy: 0.9693\n",
      "Epoch 48/50\n",
      "1875/1875 [==============================] - 7s 4ms/step - loss: 0.0454 - accuracy: 0.9905 - val_loss: 0.3613 - val_accuracy: 0.9738\n",
      "Epoch 49/50\n",
      "1875/1875 [==============================] - 7s 4ms/step - loss: 0.0452 - accuracy: 0.9904 - val_loss: 0.3850 - val_accuracy: 0.9691\n",
      "Epoch 50/50\n",
      "1875/1875 [==============================] - 7s 4ms/step - loss: 0.0554 - accuracy: 0.9882 - val_loss: 0.4063 - val_accuracy: 0.9681\n"
     ]
    }
   ],
   "source": [
    "# Set Random Seed\n",
    "model_1 = tf.keras.Sequential([\n",
    "    tf.keras.layers.Flatten(input_shape=(28,28)),\n",
    "    tf.keras.layers.Dense(100, activation='relu'),\n",
    "    tf.keras.layers.Dense(50, activation='relu'),\n",
    "    tf.keras.layers.Dense(10, activation='softmax')\n",
    "])\n",
    "\n",
    "model_1.compile(loss=tf.keras.losses.CategoricalCrossentropy(),\n",
    "               optimizer=tf.keras.optimizers.Adam(),\n",
    "               metrics=['accuracy'])\n",
    "history_1 = model_1.fit(X_train, tf.one_hot(y_train, depth=10),\n",
    "                     epochs=50,\n",
    "                     validation_data = (X_test, tf.one_hot(y_test, depth=10)))"
   ]
  },
  {
   "cell_type": "code",
   "execution_count": 19,
   "id": "92667a97-08d0-403d-854b-f3528f77a210",
   "metadata": {},
   "outputs": [
    {
     "name": "stdout",
     "output_type": "stream",
     "text": [
      "313/313 [==============================] - 1s 2ms/step - loss: 0.4063 - accuracy: 0.9681\n",
      "0.4063017964363098\n",
      "0.9681000113487244\n"
     ]
    }
   ],
   "source": [
    "loss, accuracy = model_1.evaluate(X_test, tf.one_hot(y_test, depth=10))\n",
    "print(loss)\n",
    "print(accuracy)"
   ]
  },
  {
   "cell_type": "code",
   "execution_count": 20,
   "id": "748be37f-e6f2-49d0-88b8-0b0c78c8a2c5",
   "metadata": {},
   "outputs": [
    {
     "name": "stdout",
     "output_type": "stream",
     "text": [
      "Model: \"sequential_1\"\n",
      "_________________________________________________________________\n",
      " Layer (type)                Output Shape              Param #   \n",
      "=================================================================\n",
      " flatten_1 (Flatten)         (None, 784)               0         \n",
      "                                                                 \n",
      " dense (Dense)               (None, 100)               78500     \n",
      "                                                                 \n",
      " dense_1 (Dense)             (None, 50)                5050      \n",
      "                                                                 \n",
      " dense_2 (Dense)             (None, 10)                510       \n",
      "                                                                 \n",
      "=================================================================\n",
      "Total params: 84060 (328.36 KB)\n",
      "Trainable params: 84060 (328.36 KB)\n",
      "Non-trainable params: 0 (0.00 Byte)\n",
      "_________________________________________________________________\n"
     ]
    }
   ],
   "source": [
    "model_1.summary()"
   ]
  },
  {
   "cell_type": "code",
   "execution_count": 21,
   "id": "43bdaa3b-d647-4469-a8de-2391b5508c36",
   "metadata": {},
   "outputs": [
    {
     "data": {
      "text/plain": [
       "<Axes: title={'center': 'Non-normalized data'}>"
      ]
     },
     "execution_count": 21,
     "metadata": {},
     "output_type": "execute_result"
    },
    {
     "data": {
      "image/png": "[encoded data removed]",
      "text/plain": [
       "<Figure size 640x480 with 1 Axes>"
      ]
     },
     "metadata": {},
     "output_type": "display_data"
    }
   ],
   "source": [
    "# Plot the non-normalized data loss curves\n",
    "pd.DataFrame(history_1.history).plot(title='Non-normalized data')"
   ]
  },
  {
   "cell_type": "code",
   "execution_count": 22,
   "id": "78e44d6f-c106-4c48-8d4c-bffa8978ed32",
   "metadata": {},
   "outputs": [
    {
     "data": {
      "text/plain": [
       "(0, 255)"
      ]
     },
     "execution_count": 22,
     "metadata": {},
     "output_type": "execute_result"
    }
   ],
   "source": [
    "# Check the max and min values of the training data\n",
    "X_train.min(), X_train.max()"
   ]
  },
  {
   "cell_type": "code",
   "execution_count": 23,
   "id": "a226c1f4-70f9-4914-a190-6c1c71c27668",
   "metadata": {},
   "outputs": [
    {
     "data": {
      "text/plain": [
       "(0, 255)"
      ]
     },
     "execution_count": 23,
     "metadata": {},
     "output_type": "execute_result"
    }
   ],
   "source": [
    "X_test.min(), X_test.max()"
   ]
  },
  {
   "cell_type": "markdown",
   "id": "e9d890bb-c72a-41df-a3e9-0ea7ff80b2f4",
   "metadata": {},
   "source": [
    "Neural Networks prefer data to be scales (or normmalize), this means they like to have the numbers in the tensors they find patterns between 0 & 1"
   ]
  },
  {
   "cell_type": "code",
   "execution_count": 24,
   "id": "afb4a442-b3ec-4111-9f63-2438a30852f4",
   "metadata": {},
   "outputs": [
    {
     "data": {
      "text/plain": [
       "(0.0, 1.0, 0.0, 1.0)"
      ]
     },
     "execution_count": 24,
     "metadata": {},
     "output_type": "execute_result"
    }
   ],
   "source": [
    "# We can get our training and testing data between 0 & 1 by dividing by their maximum\n",
    "norm_X_train = X_train / 255.0\n",
    "norm_X_test = X_test / 255.0\n",
    "\n",
    "# Check the min and max values of the scaled training data\n",
    "norm_X_train.min(), norm_X_train.max(), norm_X_test.min(), norm_X_test.max()"
   ]
  },
  {
   "cell_type": "code",
   "execution_count": 25,
   "id": "ad23a70d-d25f-4feb-87da-8bf75771b92a",
   "metadata": {
    "scrolled": true
   },
   "outputs": [
    {
     "name": "stdout",
     "output_type": "stream",
     "text": [
      "Epoch 1/50\n",
      "1875/1875 [==============================] - 8s 4ms/step - loss: 0.2591 - accuracy: 0.9251 - val_loss: 0.1319 - val_accuracy: 0.9591\n",
      "Epoch 2/50\n",
      "1875/1875 [==============================] - 7s 4ms/step - loss: 0.1124 - accuracy: 0.9658 - val_loss: 0.1216 - val_accuracy: 0.9621\n",
      "Epoch 3/50\n",
      "1875/1875 [==============================] - 7s 4ms/step - loss: 0.0813 - accuracy: 0.9747 - val_loss: 0.0808 - val_accuracy: 0.9754\n",
      "Epoch 4/50\n",
      "1875/1875 [==============================] - 7s 4ms/step - loss: 0.0628 - accuracy: 0.9803 - val_loss: 0.0757 - val_accuracy: 0.9760\n",
      "Epoch 5/50\n",
      "1875/1875 [==============================] - 7s 4ms/step - loss: 0.0508 - accuracy: 0.9841 - val_loss: 0.0853 - val_accuracy: 0.9740\n",
      "Epoch 6/50\n",
      "1875/1875 [==============================] - 7s 4ms/step - loss: 0.0407 - accuracy: 0.9871 - val_loss: 0.0762 - val_accuracy: 0.9778\n",
      "Epoch 7/50\n",
      "1875/1875 [==============================] - 7s 4ms/step - loss: 0.0353 - accuracy: 0.9888 - val_loss: 0.0768 - val_accuracy: 0.9771\n",
      "Epoch 8/50\n",
      "1875/1875 [==============================] - 7s 4ms/step - loss: 0.0310 - accuracy: 0.9904 - val_loss: 0.0931 - val_accuracy: 0.9759\n",
      "Epoch 9/50\n",
      "1875/1875 [==============================] - 6s 3ms/step - loss: 0.0251 - accuracy: 0.9913 - val_loss: 0.0955 - val_accuracy: 0.9732\n",
      "Epoch 10/50\n",
      "1875/1875 [==============================] - 6s 3ms/step - loss: 0.0229 - accuracy: 0.9922 - val_loss: 0.0802 - val_accuracy: 0.9784\n",
      "Epoch 11/50\n",
      "1875/1875 [==============================] - 7s 4ms/step - loss: 0.0190 - accuracy: 0.9934 - val_loss: 0.0901 - val_accuracy: 0.9780\n",
      "Epoch 12/50\n",
      "1875/1875 [==============================] - 7s 4ms/step - loss: 0.0190 - accuracy: 0.9936 - val_loss: 0.0984 - val_accuracy: 0.9793\n",
      "Epoch 13/50\n",
      "1875/1875 [==============================] - 7s 4ms/step - loss: 0.0153 - accuracy: 0.9947 - val_loss: 0.0910 - val_accuracy: 0.9794\n",
      "Epoch 14/50\n",
      "1875/1875 [==============================] - 7s 4ms/step - loss: 0.0148 - accuracy: 0.9948 - val_loss: 0.0908 - val_accuracy: 0.9807\n",
      "Epoch 15/50\n",
      "1875/1875 [==============================] - 7s 4ms/step - loss: 0.0172 - accuracy: 0.9945 - val_loss: 0.1034 - val_accuracy: 0.9788\n",
      "Epoch 16/50\n",
      "1875/1875 [==============================] - 7s 4ms/step - loss: 0.0111 - accuracy: 0.9962 - val_loss: 0.0956 - val_accuracy: 0.9804\n",
      "Epoch 17/50\n",
      "1875/1875 [==============================] - 7s 4ms/step - loss: 0.0111 - accuracy: 0.9964 - val_loss: 0.1129 - val_accuracy: 0.9774\n",
      "Epoch 18/50\n",
      "1875/1875 [==============================] - 7s 4ms/step - loss: 0.0139 - accuracy: 0.9954 - val_loss: 0.1135 - val_accuracy: 0.9767\n",
      "Epoch 19/50\n",
      "1875/1875 [==============================] - 7s 4ms/step - loss: 0.0125 - accuracy: 0.9958 - val_loss: 0.1187 - val_accuracy: 0.9779\n",
      "Epoch 20/50\n",
      "1875/1875 [==============================] - 7s 4ms/step - loss: 0.0091 - accuracy: 0.9971 - val_loss: 0.1338 - val_accuracy: 0.9763\n",
      "Epoch 21/50\n",
      "1875/1875 [==============================] - 7s 4ms/step - loss: 0.0106 - accuracy: 0.9967 - val_loss: 0.1218 - val_accuracy: 0.9798\n",
      "Epoch 22/50\n",
      "1875/1875 [==============================] - 6s 3ms/step - loss: 0.0106 - accuracy: 0.9966 - val_loss: 0.1295 - val_accuracy: 0.9789\n",
      "Epoch 23/50\n",
      "1875/1875 [==============================] - 6s 3ms/step - loss: 0.0104 - accuracy: 0.9966 - val_loss: 0.1259 - val_accuracy: 0.9786\n",
      "Epoch 24/50\n",
      "1875/1875 [==============================] - 6s 3ms/step - loss: 0.0090 - accuracy: 0.9972 - val_loss: 0.1236 - val_accuracy: 0.9782\n",
      "Epoch 25/50\n",
      "1875/1875 [==============================] - 6s 3ms/step - loss: 0.0106 - accuracy: 0.9963 - val_loss: 0.1426 - val_accuracy: 0.9772\n",
      "Epoch 26/50\n",
      "1875/1875 [==============================] - 6s 3ms/step - loss: 0.0088 - accuracy: 0.9971 - val_loss: 0.1348 - val_accuracy: 0.9784\n",
      "Epoch 27/50\n",
      "1875/1875 [==============================] - 5s 3ms/step - loss: 0.0092 - accuracy: 0.9970 - val_loss: 0.1305 - val_accuracy: 0.9772\n",
      "Epoch 28/50\n",
      "1875/1875 [==============================] - 7s 4ms/step - loss: 0.0063 - accuracy: 0.9981 - val_loss: 0.1240 - val_accuracy: 0.9800\n",
      "Epoch 29/50\n",
      "1875/1875 [==============================] - 7s 3ms/step - loss: 0.0086 - accuracy: 0.9972 - val_loss: 0.1146 - val_accuracy: 0.9815\n",
      "Epoch 30/50\n",
      "1875/1875 [==============================] - 6s 3ms/step - loss: 0.0097 - accuracy: 0.9967 - val_loss: 0.1248 - val_accuracy: 0.9821\n",
      "Epoch 31/50\n",
      "1875/1875 [==============================] - 6s 3ms/step - loss: 0.0065 - accuracy: 0.9977 - val_loss: 0.1438 - val_accuracy: 0.9788\n",
      "Epoch 32/50\n",
      "1875/1875 [==============================] - 6s 3ms/step - loss: 0.0076 - accuracy: 0.9975 - val_loss: 0.1449 - val_accuracy: 0.9796\n",
      "Epoch 33/50\n",
      "1875/1875 [==============================] - 7s 4ms/step - loss: 0.0071 - accuracy: 0.9977 - val_loss: 0.1435 - val_accuracy: 0.9790\n",
      "Epoch 34/50\n",
      "1875/1875 [==============================] - 7s 4ms/step - loss: 0.0075 - accuracy: 0.9976 - val_loss: 0.1468 - val_accuracy: 0.9775\n",
      "Epoch 35/50\n",
      "1875/1875 [==============================] - 7s 4ms/step - loss: 0.0076 - accuracy: 0.9975 - val_loss: 0.1498 - val_accuracy: 0.9791\n",
      "Epoch 36/50\n",
      "1875/1875 [==============================] - 6s 3ms/step - loss: 0.0083 - accuracy: 0.9974 - val_loss: 0.1560 - val_accuracy: 0.9795\n",
      "Epoch 37/50\n",
      "1875/1875 [==============================] - 7s 4ms/step - loss: 0.0064 - accuracy: 0.9981 - val_loss: 0.1386 - val_accuracy: 0.9798\n",
      "Epoch 38/50\n",
      "1875/1875 [==============================] - 7s 4ms/step - loss: 0.0081 - accuracy: 0.9976 - val_loss: 0.1538 - val_accuracy: 0.9774\n",
      "Epoch 39/50\n",
      "1875/1875 [==============================] - 7s 4ms/step - loss: 0.0031 - accuracy: 0.9990 - val_loss: 0.1941 - val_accuracy: 0.9751\n",
      "Epoch 40/50\n",
      "1875/1875 [==============================] - 7s 4ms/step - loss: 0.0082 - accuracy: 0.9973 - val_loss: 0.1563 - val_accuracy: 0.9811\n",
      "Epoch 41/50\n",
      "1875/1875 [==============================] - 7s 4ms/step - loss: 0.0070 - accuracy: 0.9980 - val_loss: 0.1433 - val_accuracy: 0.9811\n",
      "Epoch 42/50\n",
      "1875/1875 [==============================] - 6s 3ms/step - loss: 0.0070 - accuracy: 0.9980 - val_loss: 0.1978 - val_accuracy: 0.9770\n",
      "Epoch 43/50\n",
      "1875/1875 [==============================] - 7s 4ms/step - loss: 0.0055 - accuracy: 0.9981 - val_loss: 0.1567 - val_accuracy: 0.9798\n",
      "Epoch 44/50\n",
      "1875/1875 [==============================] - 7s 4ms/step - loss: 0.0073 - accuracy: 0.9979 - val_loss: 0.1776 - val_accuracy: 0.9785\n",
      "Epoch 45/50\n",
      "1875/1875 [==============================] - 7s 4ms/step - loss: 0.0079 - accuracy: 0.9979 - val_loss: 0.1651 - val_accuracy: 0.9807\n",
      "Epoch 46/50\n",
      "1875/1875 [==============================] - 7s 4ms/step - loss: 0.0050 - accuracy: 0.9985 - val_loss: 0.1782 - val_accuracy: 0.9784\n",
      "Epoch 47/50\n",
      "1875/1875 [==============================] - 7s 4ms/step - loss: 0.0080 - accuracy: 0.9979 - val_loss: 0.1659 - val_accuracy: 0.9808\n",
      "Epoch 48/50\n",
      "1875/1875 [==============================] - 7s 4ms/step - loss: 0.0053 - accuracy: 0.9986 - val_loss: 0.1565 - val_accuracy: 0.9818\n",
      "Epoch 49/50\n",
      "1875/1875 [==============================] - 7s 3ms/step - loss: 0.0056 - accuracy: 0.9983 - val_loss: 0.1613 - val_accuracy: 0.9816\n",
      "Epoch 50/50\n",
      "1875/1875 [==============================] - 7s 4ms/step - loss: 0.0063 - accuracy: 0.9981 - val_loss: 0.1658 - val_accuracy: 0.9802\n"
     ]
    }
   ],
   "source": [
    "# Now our dataset is normalized, let's build a model to find patterns in it\n",
    "tf.random.set_seed(42)\n",
    "\n",
    "\n",
    "model_2 = tf.keras.Sequential([\n",
    "    tf.keras.layers.Flatten(input_shape=(28,28)),\n",
    "    tf.keras.layers.Dense(100, activation='relu'),\n",
    "    tf.keras.layers.Dense(50, activation='relu'),\n",
    "    tf.keras.layers.Dense(10, activation='softmax'),\n",
    "])\n",
    "\n",
    "model_2.compile(loss=tf.keras.losses.SparseCategoricalCrossentropy(),\n",
    "               optimizer=tf.keras.optimizers.Adam(),\n",
    "               metrics=['accuracy'])\n",
    "\n",
    "histroy_2 = model_2.fit(norm_X_train,\n",
    "                       y_train,\n",
    "                       epochs=50,\n",
    "                       validation_data=(norm_X_test, y_test))"
   ]
  },
  {
   "cell_type": "code",
   "execution_count": 26,
   "id": "14e8c1b2-9025-4837-9c15-b5d10ebe79ad",
   "metadata": {},
   "outputs": [
    {
     "name": "stdout",
     "output_type": "stream",
     "text": [
      "Model: \"sequential_2\"\n",
      "_________________________________________________________________\n",
      " Layer (type)                Output Shape              Param #   \n",
      "=================================================================\n",
      " flatten_2 (Flatten)         (None, 784)               0         \n",
      "                                                                 \n",
      " dense_3 (Dense)             (None, 100)               78500     \n",
      "                                                                 \n",
      " dense_4 (Dense)             (None, 50)                5050      \n",
      "                                                                 \n",
      " dense_5 (Dense)             (None, 10)                510       \n",
      "                                                                 \n",
      "=================================================================\n",
      "Total params: 84060 (328.36 KB)\n",
      "Trainable params: 84060 (328.36 KB)\n",
      "Non-trainable params: 0 (0.00 Byte)\n",
      "_________________________________________________________________\n"
     ]
    }
   ],
   "source": [
    "model_2.summary()"
   ]
  },
  {
   "cell_type": "code",
   "execution_count": 27,
   "id": "609e2129-3f21-4f32-acb4-06d4fa33e238",
   "metadata": {},
   "outputs": [
    {
     "data": {
      "text/plain": [
       "<Axes: title={'center': 'Normalized data'}>"
      ]
     },
     "execution_count": 27,
     "metadata": {},
     "output_type": "execute_result"
    },
    {
     "data": {
      "image/png": "[encoded data removed]",
      "text/plain": [
       "<Figure size 640x480 with 1 Axes>"
      ]
     },
     "metadata": {},
     "output_type": "display_data"
    }
   ],
   "source": [
    "#plot the normalized data loss curves\n",
    "pd.DataFrame(histroy_2.history).plot(title='Normalized data')"
   ]
  },
  {
   "cell_type": "code",
   "execution_count": 28,
   "id": "f74fac37-4713-4878-a1e7-15e718b2de30",
   "metadata": {
    "scrolled": true
   },
   "outputs": [
    {
     "name": "stdout",
     "output_type": "stream",
     "text": [
      "Epoch 1/50\n",
      "1875/1875 [==============================] - 8s 4ms/step - loss: 0.2549 - accuracy: 0.9254 - val_loss: 0.1320 - val_accuracy: 0.9590 - lr: 0.0010\n",
      "Epoch 2/50\n",
      "1875/1875 [==============================] - 7s 4ms/step - loss: 0.1152 - accuracy: 0.9647 - val_loss: 0.1212 - val_accuracy: 0.9641 - lr: 0.0011\n",
      "Epoch 3/50\n",
      "1875/1875 [==============================] - 7s 4ms/step - loss: 0.0847 - accuracy: 0.9734 - val_loss: 0.0852 - val_accuracy: 0.9722 - lr: 0.0013\n",
      "Epoch 4/50\n",
      "1875/1875 [==============================] - 7s 4ms/step - loss: 0.0692 - accuracy: 0.9779 - val_loss: 0.1028 - val_accuracy: 0.9702 - lr: 0.0014\n",
      "Epoch 5/50\n",
      "1875/1875 [==============================] - 6s 3ms/step - loss: 0.0604 - accuracy: 0.9808 - val_loss: 0.1174 - val_accuracy: 0.9650 - lr: 0.0016\n",
      "Epoch 6/50\n",
      "1875/1875 [==============================] - 7s 4ms/step - loss: 0.0559 - accuracy: 0.9816 - val_loss: 0.0954 - val_accuracy: 0.9716 - lr: 0.0018\n",
      "Epoch 7/50\n",
      "1875/1875 [==============================] - 7s 4ms/step - loss: 0.0533 - accuracy: 0.9830 - val_loss: 0.1030 - val_accuracy: 0.9715 - lr: 0.0020\n",
      "Epoch 8/50\n",
      "1875/1875 [==============================] - 7s 4ms/step - loss: 0.0554 - accuracy: 0.9821 - val_loss: 0.1259 - val_accuracy: 0.9676 - lr: 0.0022\n",
      "Epoch 9/50\n",
      "1875/1875 [==============================] - 6s 3ms/step - loss: 0.0552 - accuracy: 0.9829 - val_loss: 0.1173 - val_accuracy: 0.9717 - lr: 0.0025\n",
      "Epoch 10/50\n",
      "1875/1875 [==============================] - 7s 4ms/step - loss: 0.0574 - accuracy: 0.9830 - val_loss: 0.1024 - val_accuracy: 0.9720 - lr: 0.0028\n",
      "Epoch 11/50\n",
      "1875/1875 [==============================] - 7s 4ms/step - loss: 0.0559 - accuracy: 0.9825 - val_loss: 0.1324 - val_accuracy: 0.9681 - lr: 0.0032\n",
      "Epoch 12/50\n",
      "1875/1875 [==============================] - 6s 3ms/step - loss: 0.0630 - accuracy: 0.9812 - val_loss: 0.1242 - val_accuracy: 0.9707 - lr: 0.0035\n",
      "Epoch 13/50\n",
      "1875/1875 [==============================] - 7s 4ms/step - loss: 0.0676 - accuracy: 0.9796 - val_loss: 0.1391 - val_accuracy: 0.9689 - lr: 0.0040\n",
      "Epoch 14/50\n",
      "1875/1875 [==============================] - 7s 4ms/step - loss: 0.0701 - accuracy: 0.9807 - val_loss: 0.1507 - val_accuracy: 0.9706 - lr: 0.0045\n",
      "Epoch 15/50\n",
      "1875/1875 [==============================] - 7s 4ms/step - loss: 0.0775 - accuracy: 0.9786 - val_loss: 0.1519 - val_accuracy: 0.9647 - lr: 0.0050\n",
      "Epoch 16/50\n",
      "1875/1875 [==============================] - 7s 4ms/step - loss: 0.0839 - accuracy: 0.9763 - val_loss: 0.1347 - val_accuracy: 0.9693 - lr: 0.0056\n",
      "Epoch 17/50\n",
      "1875/1875 [==============================] - 7s 4ms/step - loss: 0.0915 - accuracy: 0.9760 - val_loss: 0.1548 - val_accuracy: 0.9672 - lr: 0.0063\n",
      "Epoch 18/50\n",
      "1875/1875 [==============================] - 6s 3ms/step - loss: 0.1010 - accuracy: 0.9747 - val_loss: 0.1838 - val_accuracy: 0.9575 - lr: 0.0071\n",
      "Epoch 19/50\n",
      "1875/1875 [==============================] - 7s 4ms/step - loss: 0.1053 - accuracy: 0.9729 - val_loss: 0.1969 - val_accuracy: 0.9629 - lr: 0.0079\n",
      "Epoch 20/50\n",
      "1875/1875 [==============================] - 7s 4ms/step - loss: 0.1172 - accuracy: 0.9709 - val_loss: 0.2068 - val_accuracy: 0.9621 - lr: 0.0089\n",
      "Epoch 21/50\n",
      "1875/1875 [==============================] - 6s 3ms/step - loss: 0.1322 - accuracy: 0.9695 - val_loss: 0.1924 - val_accuracy: 0.9636 - lr: 0.0100\n",
      "Epoch 22/50\n",
      "1875/1875 [==============================] - 7s 4ms/step - loss: 0.1356 - accuracy: 0.9693 - val_loss: 0.2512 - val_accuracy: 0.9519 - lr: 0.0112\n",
      "Epoch 23/50\n",
      "1875/1875 [==============================] - 7s 4ms/step - loss: 0.1609 - accuracy: 0.9643 - val_loss: 0.3804 - val_accuracy: 0.9329 - lr: 0.0126\n",
      "Epoch 24/50\n",
      "1875/1875 [==============================] - 7s 4ms/step - loss: 0.1893 - accuracy: 0.9590 - val_loss: 0.3717 - val_accuracy: 0.9365 - lr: 0.0141\n",
      "Epoch 25/50\n",
      "1875/1875 [==============================] - 7s 4ms/step - loss: 0.2030 - accuracy: 0.9567 - val_loss: 0.2858 - val_accuracy: 0.9504 - lr: 0.0158\n",
      "Epoch 26/50\n",
      "1875/1875 [==============================] - 7s 4ms/step - loss: 0.2680 - accuracy: 0.9436 - val_loss: 0.4008 - val_accuracy: 0.9503 - lr: 0.0178\n",
      "Epoch 27/50\n",
      "1875/1875 [==============================] - 7s 4ms/step - loss: 0.2989 - accuracy: 0.9313 - val_loss: 0.4157 - val_accuracy: 0.9036 - lr: 0.0200\n",
      "Epoch 28/50\n",
      "1875/1875 [==============================] - 7s 4ms/step - loss: 0.4136 - accuracy: 0.9063 - val_loss: 0.4330 - val_accuracy: 0.8957 - lr: 0.0224\n",
      "Epoch 29/50\n",
      "1875/1875 [==============================] - 7s 4ms/step - loss: 0.4987 - accuracy: 0.8845 - val_loss: 0.7011 - val_accuracy: 0.8894 - lr: 0.0251\n",
      "Epoch 30/50\n",
      "1875/1875 [==============================] - 7s 4ms/step - loss: 0.6742 - accuracy: 0.8386 - val_loss: 0.7256 - val_accuracy: 0.8322 - lr: 0.0282\n",
      "Epoch 31/50\n",
      "1875/1875 [==============================] - 7s 4ms/step - loss: 1.1848 - accuracy: 0.6808 - val_loss: 1.5118 - val_accuracy: 0.7736 - lr: 0.0316\n",
      "Epoch 32/50\n",
      "1875/1875 [==============================] - 8s 4ms/step - loss: 1.5606 - accuracy: 0.5402 - val_loss: 1.8139 - val_accuracy: 0.5923 - lr: 0.0355\n",
      "Epoch 33/50\n",
      "1875/1875 [==============================] - 8s 4ms/step - loss: 1.7685 - accuracy: 0.4389 - val_loss: 1.9040 - val_accuracy: 0.3011 - lr: 0.0398\n",
      "Epoch 34/50\n",
      "1875/1875 [==============================] - 7s 4ms/step - loss: 2.1545 - accuracy: 0.1974 - val_loss: 2.2821 - val_accuracy: 0.1132 - lr: 0.0447\n",
      "Epoch 35/50\n",
      "1875/1875 [==============================] - 6s 3ms/step - loss: 2.3113 - accuracy: 0.1355 - val_loss: 2.3016 - val_accuracy: 0.1143 - lr: 0.0501\n",
      "Epoch 36/50\n",
      "1875/1875 [==============================] - 7s 4ms/step - loss: 2.3310 - accuracy: 0.1057 - val_loss: 2.3081 - val_accuracy: 0.0980 - lr: 0.0562\n",
      "Epoch 37/50\n",
      "1875/1875 [==============================] - 7s 4ms/step - loss: 2.3095 - accuracy: 0.1045 - val_loss: 2.3108 - val_accuracy: 0.1032 - lr: 0.0631\n",
      "Epoch 38/50\n",
      "1875/1875 [==============================] - 7s 4ms/step - loss: 2.3102 - accuracy: 0.1043 - val_loss: 2.3216 - val_accuracy: 0.1135 - lr: 0.0708\n",
      "Epoch 39/50\n",
      "1875/1875 [==============================] - 7s 4ms/step - loss: 2.3114 - accuracy: 0.1040 - val_loss: 2.3113 - val_accuracy: 0.1009 - lr: 0.0794\n",
      "Epoch 40/50\n",
      "1875/1875 [==============================] - 7s 4ms/step - loss: 2.3130 - accuracy: 0.1024 - val_loss: 2.3074 - val_accuracy: 0.1135 - lr: 0.0891\n",
      "Epoch 41/50\n",
      "1875/1875 [==============================] - 7s 4ms/step - loss: 2.3139 - accuracy: 0.1024 - val_loss: 2.3148 - val_accuracy: 0.1135 - lr: 0.1000\n",
      "Epoch 42/50\n",
      "1875/1875 [==============================] - 7s 4ms/step - loss: 2.3163 - accuracy: 0.1022 - val_loss: 2.3132 - val_accuracy: 0.1028 - lr: 0.1122\n",
      "Epoch 43/50\n",
      "1875/1875 [==============================] - 7s 4ms/step - loss: 2.3167 - accuracy: 0.1033 - val_loss: 2.3199 - val_accuracy: 0.1028 - lr: 0.1259\n",
      "Epoch 44/50\n",
      "1875/1875 [==============================] - 7s 4ms/step - loss: 2.3196 - accuracy: 0.1045 - val_loss: 2.3162 - val_accuracy: 0.1028 - lr: 0.1413\n",
      "Epoch 45/50\n",
      "1875/1875 [==============================] - 7s 4ms/step - loss: 2.3215 - accuracy: 0.1033 - val_loss: 2.3242 - val_accuracy: 0.1135 - lr: 0.1585\n",
      "Epoch 46/50\n",
      "1875/1875 [==============================] - 6s 3ms/step - loss: 2.3236 - accuracy: 0.1017 - val_loss: 2.3217 - val_accuracy: 0.1028 - lr: 0.1778\n",
      "Epoch 47/50\n",
      "1875/1875 [==============================] - 6s 3ms/step - loss: 2.3251 - accuracy: 0.1003 - val_loss: 2.3516 - val_accuracy: 0.0982 - lr: 0.1995\n",
      "Epoch 48/50\n",
      "1875/1875 [==============================] - 7s 4ms/step - loss: 2.3288 - accuracy: 0.1029 - val_loss: 2.3197 - val_accuracy: 0.0974 - lr: 0.2239\n",
      "Epoch 49/50\n",
      "1875/1875 [==============================] - 7s 4ms/step - loss: 2.3323 - accuracy: 0.1030 - val_loss: 2.3274 - val_accuracy: 0.1135 - lr: 0.2512\n",
      "Epoch 50/50\n",
      "1875/1875 [==============================] - 7s 4ms/step - loss: 2.3352 - accuracy: 0.1013 - val_loss: 2.3185 - val_accuracy: 0.1010 - lr: 0.2818\n"
     ]
    }
   ],
   "source": [
    "# Finding the ideal learnig curve\n",
    "\n",
    "tf.random.set_seed(42)\n",
    "\n",
    "model_3 = tf.keras.Sequential([\n",
    "    tf.keras.layers.Flatten(input_shape=(28,28)),\n",
    "    tf.keras.layers.Dense(100, activation='relu'),\n",
    "    tf.keras.layers.Dense(50, activation='relu'),\n",
    "    tf.keras.layers.Dense(10, activation='softmax')\n",
    "])\n",
    "\n",
    "model_3.compile(loss=tf.keras.losses.SparseCategoricalCrossentropy(),\n",
    "               optimizer=tf.keras.optimizers.Adam(),\n",
    "               metrics=['accuracy'])\n",
    "\n",
    "lr_schedular = tf.keras.callbacks.LearningRateScheduler(lambda epcoh: 1e-3 * 10**(epcoh/20))\n",
    "\n",
    "histroy_3 = model_3.fit(norm_X_train,\n",
    "                       y_train,\n",
    "                       epochs=50,\n",
    "                       validation_data=(norm_X_test, y_test),\n",
    "                       callbacks=[lr_schedular])"
   ]
  },
  {
   "cell_type": "code",
   "execution_count": 29,
   "id": "6b19cdd6-ed2c-45f0-8794-defa51d711e9",
   "metadata": {},
   "outputs": [
    {
     "data": {
      "text/plain": [
       "Text(0.5, 1.0, 'Finding the ideal learning rate')"
      ]
     },
     "execution_count": 29,
     "metadata": {},
     "output_type": "execute_result"
    },
    {
     "data": {
      "image/png": "[encoded data removed]",
      "text/plain": [
       "<Figure size 640x480 with 1 Axes>"
      ]
     },
     "metadata": {},
     "output_type": "display_data"
    }
   ],
   "source": [
    "# Plot the learning rate decay curve\n",
    "lrs = 1e-3 * (10**(tf.range(50)/20))\n",
    "plt.semilogx(lrs, histroy_3.history['loss'])\n",
    "plt.xlabel('Learning rate')\n",
    "plt.ylabel('Loss')\n",
    "plt.title('Finding the ideal learning rate')"
   ]
  },
  {
   "cell_type": "code",
   "execution_count": 30,
   "id": "6f55e920-2ccb-4b0f-b135-a35dadb0d1eb",
   "metadata": {},
   "outputs": [
    {
     "name": "stdout",
     "output_type": "stream",
     "text": [
      "313/313 [==============================] - 1s 2ms/step\n"
     ]
    },
    {
     "data": {
      "text/plain": [
       "array([[3.87067699e-27, 1.81241815e-22, 5.02926459e-20, 2.14752399e-17,\n",
       "        1.24363330e-29, 4.06040688e-30, 4.29227794e-30, 1.00000000e+00,\n",
       "        8.89010187e-26, 6.33955247e-25],\n",
       "       [2.10484551e-33, 5.40594200e-25, 1.00000000e+00, 1.05705849e-27,\n",
       "        0.00000000e+00, 3.07609074e-33, 1.02874865e-30, 0.00000000e+00,\n",
       "        7.56250936e-26, 0.00000000e+00],\n",
       "       [3.33012999e-21, 1.00000000e+00, 5.37073370e-13, 1.42489699e-22,\n",
       "        5.20107720e-13, 2.49361487e-17, 3.39314406e-13, 1.86679692e-18,\n",
       "        1.82623469e-12, 2.54155774e-23],\n",
       "       [1.00000000e+00, 2.45833618e-26, 5.47566025e-24, 5.64057239e-20,\n",
       "        7.68245317e-18, 2.14039496e-22, 1.92995631e-15, 1.19141315e-23,\n",
       "        4.48544634e-25, 3.47172833e-21],\n",
       "       [1.33352320e-19, 1.80298242e-17, 6.42947400e-16, 1.15415712e-25,\n",
       "        1.00000000e+00, 1.48190258e-28, 1.61536819e-26, 7.29075139e-15,\n",
       "        2.03780221e-23, 8.43609893e-09]], dtype=float32)"
      ]
     },
     "execution_count": 30,
     "metadata": {},
     "output_type": "execute_result"
    }
   ],
   "source": [
    "# Make predictions with our model\n",
    "y_probs = model_2.predict(norm_X_test)\n",
    "y_probs[:5]"
   ]
  },
  {
   "cell_type": "code",
   "execution_count": 31,
   "id": "627ec0ac-2768-4a33-9044-7170ef9ede4c",
   "metadata": {},
   "outputs": [
    {
     "name": "stdout",
     "output_type": "stream",
     "text": [
      "313/313 [==============================] - 1s 3ms/step - loss: 0.1658 - accuracy: 0.9802\n",
      "0.16577401757240295\n",
      "0.9801999926567078\n"
     ]
    }
   ],
   "source": [
    "loss, accuracy = model_2.evaluate(norm_X_test, y_test)\n",
    "print(loss)\n",
    "print(accuracy)"
   ]
  },
  {
   "cell_type": "code",
   "execution_count": 32,
   "id": "2a87dfa2-3d0f-43e0-a383-aef9838ecbc6",
   "metadata": {},
   "outputs": [
    {
     "data": {
      "text/plain": [
       "(array([3.8706770e-27, 1.8124182e-22, 5.0292646e-20, 2.1475240e-17,\n",
       "        1.2436333e-29, 4.0604069e-30, 4.2922779e-30, 1.0000000e+00,\n",
       "        8.8901019e-26, 6.3395525e-25], dtype=float32),\n",
       " <tf.Tensor: shape=(), dtype=int64, numpy=7>,\n",
       " 'Seven')"
      ]
     },
     "execution_count": 32,
     "metadata": {},
     "output_type": "execute_result"
    }
   ],
   "source": [
    "y_probs[0], tf.argmax(y_probs[0]), class_names[tf.argmax(y_probs[0])]"
   ]
  },
  {
   "cell_type": "code",
   "execution_count": 33,
   "id": "099262ab-3f6d-4e6c-bfc6-5c05dd02f27d",
   "metadata": {},
   "outputs": [
    {
     "data": {
      "text/plain": [
       "array([7, 2, 1, 0, 4, 1, 4, 9, 5, 9, 0, 6, 9, 0, 1], dtype=int64)"
      ]
     },
     "execution_count": 33,
     "metadata": {},
     "output_type": "execute_result"
    }
   ],
   "source": [
    "# Convert all of the prediction probabilities into integers\n",
    "y_preds = y_probs.argmax(axis=1)\n",
    "y_preds[:15]"
   ]
  },
  {
   "cell_type": "code",
   "execution_count": 34,
   "id": "77eedb5f-c347-4495-95c8-a8d95f3fba44",
   "metadata": {},
   "outputs": [
    {
     "data": {
      "text/plain": [
       "array([[ 970,    1,    0,    2,    0,    2,    2,    1,    1,    1],\n",
       "       [   1, 1123,    1,    0,    0,    1,    3,    1,    5,    0],\n",
       "       [   2,    3,  997,   11,    0,    0,    0,    5,   14,    0],\n",
       "       [   0,    0,    2,  996,    0,    4,    0,    3,    4,    1],\n",
       "       [   2,    0,    4,    0,  967,    0,    2,    1,    1,    5],\n",
       "       [   2,    0,    0,   11,    1,  867,    6,    0,    2,    3],\n",
       "       [   4,    2,    0,    1,    4,    6,  940,    0,    1,    0],\n",
       "       [   1,    1,    8,    1,    1,    0,    0, 1002,    6,    8],\n",
       "       [   3,    1,    1,    7,    1,    1,    0,    2,  955,    3],\n",
       "       [   1,    4,    1,    3,    7,    3,    1,    2,    2,  985]],\n",
       "      dtype=int64)"
      ]
     },
     "execution_count": 34,
     "metadata": {},
     "output_type": "execute_result"
    }
   ],
   "source": [
    "from sklearn.metrics import confusion_matrix\n",
    "confusion_matrix(y_test,y_preds)"
   ]
  },
  {
   "cell_type": "markdown",
   "id": "ab83f4c6-9289-487c-9f20-131aa26ce417",
   "metadata": {},
   "source": [
    "### What pattern is our model learning?"
   ]
  },
  {
   "cell_type": "code",
   "execution_count": 35,
   "id": "d5b71ebd-b2c4-4451-a320-239fa13a1421",
   "metadata": {},
   "outputs": [
    {
     "data": {
      "text/plain": [
       "[<keras.src.layers.reshaping.flatten.Flatten at 0x214592f7e50>,\n",
       " <keras.src.layers.core.dense.Dense at 0x2146400fa00>,\n",
       " <keras.src.layers.core.dense.Dense at 0x21466ad3700>,\n",
       " <keras.src.layers.core.dense.Dense at 0x21466aee2c0>]"
      ]
     },
     "execution_count": 35,
     "metadata": {},
     "output_type": "execute_result"
    }
   ],
   "source": [
    "#Find the layers of our most recent model\n",
    "model_2.layers"
   ]
  },
  {
   "cell_type": "code",
   "execution_count": 36,
   "id": "64f51666-64da-49ce-9169-aeefae363e3c",
   "metadata": {},
   "outputs": [
    {
     "data": {
      "text/plain": [
       "<keras.src.layers.core.dense.Dense at 0x2146400fa00>"
      ]
     },
     "execution_count": 36,
     "metadata": {},
     "output_type": "execute_result"
    }
   ],
   "source": [
    "# Extract a particular layer\n",
    "model_2.layers[1]"
   ]
  },
  {
   "cell_type": "code",
   "execution_count": 37,
   "id": "92db026e-b2a6-42c3-8168-b80c215d3567",
   "metadata": {},
   "outputs": [
    {
     "data": {
      "text/plain": [
       "(array([[-0.01035789,  0.01050391,  0.07732712, ..., -0.04222967,\n",
       "          0.05637637,  0.07863311],\n",
       "        [-0.01588188,  0.02106627,  0.0802097 , ..., -0.07814791,\n",
       "         -0.06170884, -0.0227005 ],\n",
       "        [-0.06511187,  0.00607623, -0.01931429, ...,  0.04711796,\n",
       "         -0.0452994 ,  0.01977082],\n",
       "        ...,\n",
       "        [ 0.05560727, -0.00766508,  0.05967155, ..., -0.00470413,\n",
       "         -0.05048   ,  0.0309468 ],\n",
       "        [ 0.00018261, -0.05212739, -0.03868114, ...,  0.05184126,\n",
       "          0.07325958, -0.0705126 ],\n",
       "        [ 0.05715203, -0.01467257, -0.01857907, ...,  0.08133735,\n",
       "         -0.0132734 ,  0.03506586]], dtype=float32),\n",
       " (784, 100))"
      ]
     },
     "execution_count": 37,
     "metadata": {},
     "output_type": "execute_result"
    }
   ],
   "source": [
    "# Get the patterns of a layer in our network\n",
    "weigths, biases = model_2.layers[1].get_weights()\n",
    "\n",
    "#Shapes\n",
    "weigths, weigths.shape"
   ]
  },
  {
   "cell_type": "code",
   "execution_count": 38,
   "id": "e7502cbe-43b3-45df-a2a3-59dc6cca729c",
   "metadata": {},
   "outputs": [
    {
     "data": {
      "text/plain": [
       "(array([-0.03651172, -0.2864562 , -0.28960168,  0.08654989, -0.21206659,\n",
       "        -0.26302028, -0.3458737 , -0.0166655 , -0.28804106, -0.11484902,\n",
       "        -0.14479607,  0.18706432, -0.2764723 , -0.25361016,  0.2334104 ,\n",
       "         0.21801475, -0.28970987, -0.30761117, -0.38437042,  0.33439562,\n",
       "        -0.18519361,  0.16636701,  0.28305286,  0.05002276,  0.1162415 ,\n",
       "         0.28152123, -0.03681402,  0.00763329,  0.25998724, -0.1069258 ,\n",
       "        -0.08028126, -0.10905379, -0.02823043,  0.15721008,  0.5130259 ,\n",
       "         0.04822248,  0.00452585, -0.05716225, -0.10798392,  0.24180783,\n",
       "        -0.06134944, -0.1162069 , -0.12843601, -0.41195008, -0.14611627,\n",
       "        -0.49776822,  0.11774318,  0.02381694,  0.19115758, -0.12468327,\n",
       "         0.04265618, -0.01564382, -0.13758896, -0.00565915, -0.09691868,\n",
       "        -0.28497067,  0.41502512, -0.17564683, -0.10857352, -0.27378115,\n",
       "        -0.119353  , -0.06032985,  0.24777703, -0.05246947,  0.1041839 ,\n",
       "        -0.12214054,  0.04093437,  0.04193194, -0.20107801, -0.32010093,\n",
       "         0.0617276 , -0.23904626, -0.19538522, -0.08138651, -0.19470674,\n",
       "        -0.17258336,  0.24859865, -0.18787088,  0.12629451,  0.1158634 ,\n",
       "        -0.06595788, -0.19687772,  0.18699813,  0.23552135, -0.03752853,\n",
       "        -0.27832684,  0.07554024, -0.03337848, -0.2081955 , -0.25246808,\n",
       "         0.24642274,  0.0801772 ,  0.09346766,  0.41994864, -0.21246506,\n",
       "        -0.3935553 ,  0.04081349, -0.22057982,  0.12908284, -0.05906601],\n",
       "       dtype=float32),\n",
       " (100,))"
      ]
     },
     "execution_count": 38,
     "metadata": {},
     "output_type": "execute_result"
    }
   ],
   "source": [
    "biases, biases.shape"
   ]
  },
  {
   "cell_type": "code",
   "execution_count": 39,
   "id": "90bddba0-9588-46bf-92e1-e7d73edc8a04",
   "metadata": {},
   "outputs": [
    {
     "data": {
      "image/png": "[encoded data removed]",
      "text/plain": [
       "<IPython.core.display.Image object>"
      ]
     },
     "execution_count": 39,
     "metadata": {},
     "output_type": "execute_result"
    }
   ],
   "source": [
    "# Let's check out another way of viewing our deep learning models\n",
    "from tensorflow.keras.utils import plot_model\n",
    "plot_model(model_3, show_shapes=True)"
   ]
  },
  {
   "cell_type": "code",
   "execution_count": null,
   "id": "56fff83c-ceb3-4c55-bcd7-15ae4a44a9fa",
   "metadata": {},
   "outputs": [],
   "source": []
  }
 ],
 "metadata": {
  "kernelspec": {
   "display_name": "Python 3 (ipykernel)",
   "language": "python",
   "name": "python3"
  },
  "language_info": {
   "codemirror_mode": {
    "name": "ipython",
    "version": 3
   },
   "file_extension": ".py",
   "mimetype": "text/x-python",
   "name": "python",
   "nbconvert_exporter": "python",
   "pygments_lexer": "ipython3",
   "version": "3.10.9"
  }
 },
 "nbformat": 4,
 "nbformat_minor": 5
}
